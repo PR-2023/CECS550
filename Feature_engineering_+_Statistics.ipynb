{
  "nbformat": 4,
  "nbformat_minor": 0,
  "metadata": {
    "colab": {
      "provenance": [],
      "include_colab_link": true
    },
    "kernelspec": {
      "name": "python3",
      "display_name": "Python 3"
    },
    "language_info": {
      "name": "python"
    }
  },
  "cells": [
    {
      "cell_type": "markdown",
      "metadata": {
        "id": "view-in-github",
        "colab_type": "text"
      },
      "source": [
        "<a href=\"https://colab.research.google.com/github/PR-2023/CECS550/blob/main/Feature_engineering_%2B_Statistics.ipynb\" target=\"_parent\"><img src=\"https://colab.research.google.com/assets/colab-badge.svg\" alt=\"Open In Colab\"/></a>"
      ]
    },
    {
      "cell_type": "code",
      "execution_count": null,
      "metadata": {
        "id": "veUxg4JY46L4"
      },
      "outputs": [],
      "source": [
        "import pandas as pd\n",
        "import numpy as np\n",
        "from sklearn.preprocessing import label_binarize\n",
        "import matplotlib.pyplot as plt"
      ]
    },
    {
      "cell_type": "code",
      "source": [
        "user_info = pd.read_csv(\"/content/drive/MyDrive/CECS550/data_format1/user_info_format1.csv\");\n",
        "user_log = pd.read_csv(\"/content/drive/MyDrive/CECS550/data_format1/user_log_format1.csv\");\n",
        "train_format = pd.read_csv(\"/content/drive/MyDrive/CECS550/data_format1/train_format1.csv\");\n"
      ],
      "metadata": {
        "id": "8HWOwdnR5BhH"
      },
      "execution_count": null,
      "outputs": []
    },
    {
      "cell_type": "code",
      "source": [
        "user_log = user_log[(user_log['item_id']>=641) & (user_log['item_id'] <=800)]\n",
        "# user_log.to_csv(\"/content/drive/MyDrive/CECS550/data_format1/user_log_modified.csv\",index=False)"
      ],
      "metadata": {
        "id": "uYNSMfsm5G5v"
      },
      "execution_count": null,
      "outputs": []
    },
    {
      "cell_type": "code",
      "source": [
        "user_info.columns"
      ],
      "metadata": {
        "id": "JRnZK_Pw9z6I",
        "colab": {
          "base_uri": "https://localhost:8080/"
        },
        "outputId": "4ff5d5bc-420a-47ab-a98f-2b7a1aeb4e57"
      },
      "execution_count": null,
      "outputs": [
        {
          "output_type": "execute_result",
          "data": {
            "text/plain": [
              "Index(['user_id', 'age_range', 'gender'], dtype='object')"
            ]
          },
          "metadata": {},
          "execution_count": 5
        }
      ]
    },
    {
      "cell_type": "code",
      "source": [
        "user_log.columns"
      ],
      "metadata": {
        "id": "0aGrUgG_958l",
        "colab": {
          "base_uri": "https://localhost:8080/"
        },
        "outputId": "bc10a758-7725-40bf-badd-c1a44dc2f70e"
      },
      "execution_count": null,
      "outputs": [
        {
          "output_type": "execute_result",
          "data": {
            "text/plain": [
              "Index(['user_id', 'item_id', 'cat_id', 'seller_id', 'brand_id', 'time_stamp',\n",
              "       'action_type'],\n",
              "      dtype='object')"
            ]
          },
          "metadata": {},
          "execution_count": 6
        }
      ]
    },
    {
      "cell_type": "code",
      "source": [
        "train_format.columns"
      ],
      "metadata": {
        "id": "oj6MCZZE98Pg",
        "colab": {
          "base_uri": "https://localhost:8080/"
        },
        "outputId": "56595887-dc64-48aa-bbc3-5ab41c0a00d3"
      },
      "execution_count": null,
      "outputs": [
        {
          "output_type": "execute_result",
          "data": {
            "text/plain": [
              "Index(['user_id', 'merchant_id', 'label'], dtype='object')"
            ]
          },
          "metadata": {},
          "execution_count": 7
        }
      ]
    },
    {
      "cell_type": "code",
      "source": [
        "user_log = user_log.rename(columns={'seller_id': 'merchant_id'})"
      ],
      "metadata": {
        "id": "v-146jFN5JYo"
      },
      "execution_count": null,
      "outputs": []
    },
    {
      "cell_type": "code",
      "source": [
        "data = pd.merge(user_log, user_info, on='user_id', how='left')\n",
        "train_format.head()"
      ],
      "metadata": {
        "id": "IwJrO3MN5SRG",
        "colab": {
          "base_uri": "https://localhost:8080/",
          "height": 206
        },
        "outputId": "382ae705-664d-4202-b1da-29bd6e8a0968"
      },
      "execution_count": null,
      "outputs": [
        {
          "output_type": "execute_result",
          "data": {
            "text/plain": [
              "   user_id  merchant_id  label\n",
              "0    34176         3906      0\n",
              "1    34176          121      0\n",
              "2    34176         4356      1\n",
              "3    34176         2217      0\n",
              "4   230784         4818      0"
            ],
            "text/html": [
              "\n",
              "  <div id=\"df-e63df1ae-7c34-463f-a57f-388db48414e3\">\n",
              "    <div class=\"colab-df-container\">\n",
              "      <div>\n",
              "<style scoped>\n",
              "    .dataframe tbody tr th:only-of-type {\n",
              "        vertical-align: middle;\n",
              "    }\n",
              "\n",
              "    .dataframe tbody tr th {\n",
              "        vertical-align: top;\n",
              "    }\n",
              "\n",
              "    .dataframe thead th {\n",
              "        text-align: right;\n",
              "    }\n",
              "</style>\n",
              "<table border=\"1\" class=\"dataframe\">\n",
              "  <thead>\n",
              "    <tr style=\"text-align: right;\">\n",
              "      <th></th>\n",
              "      <th>user_id</th>\n",
              "      <th>merchant_id</th>\n",
              "      <th>label</th>\n",
              "    </tr>\n",
              "  </thead>\n",
              "  <tbody>\n",
              "    <tr>\n",
              "      <th>0</th>\n",
              "      <td>34176</td>\n",
              "      <td>3906</td>\n",
              "      <td>0</td>\n",
              "    </tr>\n",
              "    <tr>\n",
              "      <th>1</th>\n",
              "      <td>34176</td>\n",
              "      <td>121</td>\n",
              "      <td>0</td>\n",
              "    </tr>\n",
              "    <tr>\n",
              "      <th>2</th>\n",
              "      <td>34176</td>\n",
              "      <td>4356</td>\n",
              "      <td>1</td>\n",
              "    </tr>\n",
              "    <tr>\n",
              "      <th>3</th>\n",
              "      <td>34176</td>\n",
              "      <td>2217</td>\n",
              "      <td>0</td>\n",
              "    </tr>\n",
              "    <tr>\n",
              "      <th>4</th>\n",
              "      <td>230784</td>\n",
              "      <td>4818</td>\n",
              "      <td>0</td>\n",
              "    </tr>\n",
              "  </tbody>\n",
              "</table>\n",
              "</div>\n",
              "      <button class=\"colab-df-convert\" onclick=\"convertToInteractive('df-e63df1ae-7c34-463f-a57f-388db48414e3')\"\n",
              "              title=\"Convert this dataframe to an interactive table.\"\n",
              "              style=\"display:none;\">\n",
              "        \n",
              "  <svg xmlns=\"http://www.w3.org/2000/svg\" height=\"24px\"viewBox=\"0 0 24 24\"\n",
              "       width=\"24px\">\n",
              "    <path d=\"M0 0h24v24H0V0z\" fill=\"none\"/>\n",
              "    <path d=\"M18.56 5.44l.94 2.06.94-2.06 2.06-.94-2.06-.94-.94-2.06-.94 2.06-2.06.94zm-11 1L8.5 8.5l.94-2.06 2.06-.94-2.06-.94L8.5 2.5l-.94 2.06-2.06.94zm10 10l.94 2.06.94-2.06 2.06-.94-2.06-.94-.94-2.06-.94 2.06-2.06.94z\"/><path d=\"M17.41 7.96l-1.37-1.37c-.4-.4-.92-.59-1.43-.59-.52 0-1.04.2-1.43.59L10.3 9.45l-7.72 7.72c-.78.78-.78 2.05 0 2.83L4 21.41c.39.39.9.59 1.41.59.51 0 1.02-.2 1.41-.59l7.78-7.78 2.81-2.81c.8-.78.8-2.07 0-2.86zM5.41 20L4 18.59l7.72-7.72 1.47 1.35L5.41 20z\"/>\n",
              "  </svg>\n",
              "      </button>\n",
              "      \n",
              "  <style>\n",
              "    .colab-df-container {\n",
              "      display:flex;\n",
              "      flex-wrap:wrap;\n",
              "      gap: 12px;\n",
              "    }\n",
              "\n",
              "    .colab-df-convert {\n",
              "      background-color: #E8F0FE;\n",
              "      border: none;\n",
              "      border-radius: 50%;\n",
              "      cursor: pointer;\n",
              "      display: none;\n",
              "      fill: #1967D2;\n",
              "      height: 32px;\n",
              "      padding: 0 0 0 0;\n",
              "      width: 32px;\n",
              "    }\n",
              "\n",
              "    .colab-df-convert:hover {\n",
              "      background-color: #E2EBFA;\n",
              "      box-shadow: 0px 1px 2px rgba(60, 64, 67, 0.3), 0px 1px 3px 1px rgba(60, 64, 67, 0.15);\n",
              "      fill: #174EA6;\n",
              "    }\n",
              "\n",
              "    [theme=dark] .colab-df-convert {\n",
              "      background-color: #3B4455;\n",
              "      fill: #D2E3FC;\n",
              "    }\n",
              "\n",
              "    [theme=dark] .colab-df-convert:hover {\n",
              "      background-color: #434B5C;\n",
              "      box-shadow: 0px 1px 3px 1px rgba(0, 0, 0, 0.15);\n",
              "      filter: drop-shadow(0px 1px 2px rgba(0, 0, 0, 0.3));\n",
              "      fill: #FFFFFF;\n",
              "    }\n",
              "  </style>\n",
              "\n",
              "      <script>\n",
              "        const buttonEl =\n",
              "          document.querySelector('#df-e63df1ae-7c34-463f-a57f-388db48414e3 button.colab-df-convert');\n",
              "        buttonEl.style.display =\n",
              "          google.colab.kernel.accessAllowed ? 'block' : 'none';\n",
              "\n",
              "        async function convertToInteractive(key) {\n",
              "          const element = document.querySelector('#df-e63df1ae-7c34-463f-a57f-388db48414e3');\n",
              "          const dataTable =\n",
              "            await google.colab.kernel.invokeFunction('convertToInteractive',\n",
              "                                                     [key], {});\n",
              "          if (!dataTable) return;\n",
              "\n",
              "          const docLinkHtml = 'Like what you see? Visit the ' +\n",
              "            '<a target=\"_blank\" href=https://colab.research.google.com/notebooks/data_table.ipynb>data table notebook</a>'\n",
              "            + ' to learn more about interactive tables.';\n",
              "          element.innerHTML = '';\n",
              "          dataTable['output_type'] = 'display_data';\n",
              "          await google.colab.output.renderOutput(dataTable, element);\n",
              "          const docLink = document.createElement('div');\n",
              "          docLink.innerHTML = docLinkHtml;\n",
              "          element.appendChild(docLink);\n",
              "        }\n",
              "      </script>\n",
              "    </div>\n",
              "  </div>\n",
              "  "
            ]
          },
          "metadata": {},
          "execution_count": 9
        }
      ]
    },
    {
      "cell_type": "code",
      "source": [
        "data = pd.merge(data, train_format, on=['user_id', 'merchant_id'])\n",
        "print(data.head())\n"
      ],
      "metadata": {
        "id": "c5boUB-t5UYG",
        "colab": {
          "base_uri": "https://localhost:8080/"
        },
        "outputId": "667909c5-a69f-4e26-c8e1-0aade9e5cf2d"
      },
      "execution_count": null,
      "outputs": [
        {
          "output_type": "stream",
          "name": "stdout",
          "text": [
            "   user_id  item_id  cat_id  merchant_id  brand_id  time_stamp  action_type  \\\n",
            "0   310303      650     656         3473    3305.0        1111            0   \n",
            "1   310303      650     656         3473    3305.0        1111            0   \n",
            "2   310303      650     656         3473    3305.0        1111            2   \n",
            "3   310303      650     656         3473    3305.0        1111            0   \n",
            "4   156939      653      35         4267    6046.0        1111            0   \n",
            "\n",
            "   age_range  gender  label  \n",
            "0        4.0     0.0      0  \n",
            "1        4.0     0.0      0  \n",
            "2        4.0     0.0      0  \n",
            "3        4.0     0.0      0  \n",
            "4        4.0     1.0      1  \n"
          ]
        }
      ]
    },
    {
      "cell_type": "code",
      "source": [
        "data.shape"
      ],
      "metadata": {
        "id": "ODm2O6zm8IKj",
        "colab": {
          "base_uri": "https://localhost:8080/"
        },
        "outputId": "7e3860c1-7b58-4de9-fa81-6fe5b3c987de"
      },
      "execution_count": null,
      "outputs": [
        {
          "output_type": "execute_result",
          "data": {
            "text/plain": [
              "(449, 10)"
            ]
          },
          "metadata": {},
          "execution_count": 11
        }
      ]
    },
    {
      "cell_type": "code",
      "source": [
        "\n",
        "data['Day']=data['time_stamp']%100\n",
        "data['Month']=(data['time_stamp']-data['Day'])/100\n",
        "data = data.drop(columns = ['time_stamp'])\n"
      ],
      "metadata": {
        "id": "wIoj4kVU5fG1"
      },
      "execution_count": null,
      "outputs": []
    },
    {
      "cell_type": "code",
      "source": [
        "#activity_count of user\n",
        "activity_count = data.groupby('user_id')['action_type'].count().reset_index()\n",
        "activity_count.columns = ['user_id', 'activity_count']\n",
        "data = pd.merge(data, activity_count, on='user_id', how='left')"
      ],
      "metadata": {
        "id": "ceSaDLxK5nTf"
      },
      "execution_count": null,
      "outputs": []
    },
    {
      "cell_type": "code",
      "source": [
        "data.shape"
      ],
      "metadata": {
        "id": "XkyKYaxO8pNS",
        "colab": {
          "base_uri": "https://localhost:8080/"
        },
        "outputId": "e753b9c8-6760-4b7b-820e-c49ec6bf5995"
      },
      "execution_count": null,
      "outputs": [
        {
          "output_type": "execute_result",
          "data": {
            "text/plain": [
              "(449, 12)"
            ]
          },
          "metadata": {},
          "execution_count": 14
        }
      ]
    },
    {
      "cell_type": "code",
      "source": [
        "click_count = data[data['action_type']==0].groupby('user_id')['action_type'].count().reset_index()\n",
        "click_count.columns = ['user_id', 'click_count']\n",
        "data = pd.merge(data,click_count,on='user_id', how='left')"
      ],
      "metadata": {
        "id": "nj3A5mzY5oRo"
      },
      "execution_count": null,
      "outputs": []
    },
    {
      "cell_type": "code",
      "source": [
        "data.shape"
      ],
      "metadata": {
        "id": "C0n34mjg8p7c",
        "colab": {
          "base_uri": "https://localhost:8080/"
        },
        "outputId": "a6bfe3a5-7744-4de4-8cf5-011f1f647c68"
      },
      "execution_count": null,
      "outputs": [
        {
          "output_type": "execute_result",
          "data": {
            "text/plain": [
              "(449, 13)"
            ]
          },
          "metadata": {},
          "execution_count": 16
        }
      ]
    },
    {
      "cell_type": "code",
      "source": [
        "add_to_cart_count = data[data['action_type']==1].groupby('user_id')['action_type'].count().reset_index()\n",
        "add_to_cart_count.columns = ['user_id', 'add_to_cart_count']\n",
        "data = pd.merge(data, add_to_cart_count, on='user_id', how='left')"
      ],
      "metadata": {
        "id": "y2x0K5vP5rMK"
      },
      "execution_count": null,
      "outputs": []
    },
    {
      "cell_type": "code",
      "source": [
        "data.shape"
      ],
      "metadata": {
        "id": "z6qtbLvv8rD3",
        "colab": {
          "base_uri": "https://localhost:8080/"
        },
        "outputId": "dc8f682d-f6a1-42df-d9f5-bed9f1173c26"
      },
      "execution_count": null,
      "outputs": [
        {
          "output_type": "execute_result",
          "data": {
            "text/plain": [
              "(449, 14)"
            ]
          },
          "metadata": {},
          "execution_count": 18
        }
      ]
    },
    {
      "cell_type": "code",
      "source": [
        "purchase_count = data[data['action_type']==2].groupby('user_id')['action_type'].count().reset_index()\n",
        "purchase_count.columns = ['user_id', 'purchase_count']\n",
        "data = pd.merge(data, purchase_count, on='user_id', how='left')"
      ],
      "metadata": {
        "id": "miuKW-UI5rxo"
      },
      "execution_count": null,
      "outputs": []
    },
    {
      "cell_type": "code",
      "source": [
        "data.shape"
      ],
      "metadata": {
        "id": "p6mAFNpv8rpE",
        "colab": {
          "base_uri": "https://localhost:8080/"
        },
        "outputId": "11087d86-8c28-411b-8631-9a7fb6713193"
      },
      "execution_count": null,
      "outputs": [
        {
          "output_type": "execute_result",
          "data": {
            "text/plain": [
              "(449, 15)"
            ]
          },
          "metadata": {},
          "execution_count": 20
        }
      ]
    },
    {
      "cell_type": "code",
      "source": [
        "favourite_count = data[data['action_type']==3].groupby('user_id')['action_type'].count().reset_index()\n",
        "favourite_count.columns = ['user_id', 'favourite_count']\n",
        "data = pd.merge(data, favourite_count, on='user_id', how='left')"
      ],
      "metadata": {
        "id": "jwoM97Bh5t6d"
      },
      "execution_count": null,
      "outputs": []
    },
    {
      "cell_type": "code",
      "source": [
        "data.shape"
      ],
      "metadata": {
        "id": "cMIId2RC8sTs",
        "colab": {
          "base_uri": "https://localhost:8080/"
        },
        "outputId": "6ed62cfe-b86f-4d21-d45c-e07a6647a20f"
      },
      "execution_count": null,
      "outputs": [
        {
          "output_type": "execute_result",
          "data": {
            "text/plain": [
              "(449, 16)"
            ]
          },
          "metadata": {},
          "execution_count": 22
        }
      ]
    },
    {
      "cell_type": "code",
      "source": [
        "data[['click_count','activity_count','add_to_cart_count','purchase_count','favourite_count']] = data[['click_count','activity_count','add_to_cart_count','purchase_count','favourite_count']].fillna(0)"
      ],
      "metadata": {
        "id": "NCvOxyVpGNjv"
      },
      "execution_count": null,
      "outputs": []
    },
    {
      "cell_type": "code",
      "source": [
        "data['gender'] = data['gender'].fillna(2)"
      ],
      "metadata": {
        "id": "j3zXTE7O8uUk"
      },
      "execution_count": null,
      "outputs": []
    },
    {
      "cell_type": "code",
      "source": [
        "user_gender = label_binarize(np.array(data.gender), classes=[0,1,2])\n",
        "user_gender = pd.DataFrame(data=user_gender, columns=['gender_female','gender_male','gender_unknown'])\n",
        "data['user_gender_female']=user_gender['gender_female']\n",
        "data['user_gender_male']=user_gender['gender_male']\n",
        "data['user_gender_unknown']=user_gender['gender_unknown']\n",
        "data = data.drop(columns = ['gender'])\n",
        "data.head()"
      ],
      "metadata": {
        "id": "2tACU26Y7TM0",
        "colab": {
          "base_uri": "https://localhost:8080/",
          "height": 270
        },
        "outputId": "e9ec34ed-0e71-47aa-dd58-747007cf3db3"
      },
      "execution_count": null,
      "outputs": [
        {
          "output_type": "execute_result",
          "data": {
            "text/plain": [
              "   user_id  item_id  cat_id  merchant_id  brand_id  action_type  age_range  \\\n",
              "0   310303      650     656         3473    3305.0            0        4.0   \n",
              "1   310303      650     656         3473    3305.0            0        4.0   \n",
              "2   310303      650     656         3473    3305.0            2        4.0   \n",
              "3   310303      650     656         3473    3305.0            0        4.0   \n",
              "4   156939      653      35         4267    6046.0            0        4.0   \n",
              "\n",
              "   label  Day  Month  activity_count  click_count  add_to_cart_count  \\\n",
              "0      0   11   11.0               4          3.0                0.0   \n",
              "1      0   11   11.0               4          3.0                0.0   \n",
              "2      0   11   11.0               4          3.0                0.0   \n",
              "3      0   11   11.0               4          3.0                0.0   \n",
              "4      1   11   11.0               2          1.0                0.0   \n",
              "\n",
              "   purchase_count  favourite_count  user_gender_female  user_gender_male  \\\n",
              "0             1.0              0.0                   1                 0   \n",
              "1             1.0              0.0                   1                 0   \n",
              "2             1.0              0.0                   1                 0   \n",
              "3             1.0              0.0                   1                 0   \n",
              "4             1.0              0.0                   0                 1   \n",
              "\n",
              "   user_gender_unknown  \n",
              "0                    0  \n",
              "1                    0  \n",
              "2                    0  \n",
              "3                    0  \n",
              "4                    0  "
            ],
            "text/html": [
              "\n",
              "  <div id=\"df-6fb5f02c-0424-46d1-9f4a-29a457af7b3b\">\n",
              "    <div class=\"colab-df-container\">\n",
              "      <div>\n",
              "<style scoped>\n",
              "    .dataframe tbody tr th:only-of-type {\n",
              "        vertical-align: middle;\n",
              "    }\n",
              "\n",
              "    .dataframe tbody tr th {\n",
              "        vertical-align: top;\n",
              "    }\n",
              "\n",
              "    .dataframe thead th {\n",
              "        text-align: right;\n",
              "    }\n",
              "</style>\n",
              "<table border=\"1\" class=\"dataframe\">\n",
              "  <thead>\n",
              "    <tr style=\"text-align: right;\">\n",
              "      <th></th>\n",
              "      <th>user_id</th>\n",
              "      <th>item_id</th>\n",
              "      <th>cat_id</th>\n",
              "      <th>merchant_id</th>\n",
              "      <th>brand_id</th>\n",
              "      <th>action_type</th>\n",
              "      <th>age_range</th>\n",
              "      <th>label</th>\n",
              "      <th>Day</th>\n",
              "      <th>Month</th>\n",
              "      <th>activity_count</th>\n",
              "      <th>click_count</th>\n",
              "      <th>add_to_cart_count</th>\n",
              "      <th>purchase_count</th>\n",
              "      <th>favourite_count</th>\n",
              "      <th>user_gender_female</th>\n",
              "      <th>user_gender_male</th>\n",
              "      <th>user_gender_unknown</th>\n",
              "    </tr>\n",
              "  </thead>\n",
              "  <tbody>\n",
              "    <tr>\n",
              "      <th>0</th>\n",
              "      <td>310303</td>\n",
              "      <td>650</td>\n",
              "      <td>656</td>\n",
              "      <td>3473</td>\n",
              "      <td>3305.0</td>\n",
              "      <td>0</td>\n",
              "      <td>4.0</td>\n",
              "      <td>0</td>\n",
              "      <td>11</td>\n",
              "      <td>11.0</td>\n",
              "      <td>4</td>\n",
              "      <td>3.0</td>\n",
              "      <td>0.0</td>\n",
              "      <td>1.0</td>\n",
              "      <td>0.0</td>\n",
              "      <td>1</td>\n",
              "      <td>0</td>\n",
              "      <td>0</td>\n",
              "    </tr>\n",
              "    <tr>\n",
              "      <th>1</th>\n",
              "      <td>310303</td>\n",
              "      <td>650</td>\n",
              "      <td>656</td>\n",
              "      <td>3473</td>\n",
              "      <td>3305.0</td>\n",
              "      <td>0</td>\n",
              "      <td>4.0</td>\n",
              "      <td>0</td>\n",
              "      <td>11</td>\n",
              "      <td>11.0</td>\n",
              "      <td>4</td>\n",
              "      <td>3.0</td>\n",
              "      <td>0.0</td>\n",
              "      <td>1.0</td>\n",
              "      <td>0.0</td>\n",
              "      <td>1</td>\n",
              "      <td>0</td>\n",
              "      <td>0</td>\n",
              "    </tr>\n",
              "    <tr>\n",
              "      <th>2</th>\n",
              "      <td>310303</td>\n",
              "      <td>650</td>\n",
              "      <td>656</td>\n",
              "      <td>3473</td>\n",
              "      <td>3305.0</td>\n",
              "      <td>2</td>\n",
              "      <td>4.0</td>\n",
              "      <td>0</td>\n",
              "      <td>11</td>\n",
              "      <td>11.0</td>\n",
              "      <td>4</td>\n",
              "      <td>3.0</td>\n",
              "      <td>0.0</td>\n",
              "      <td>1.0</td>\n",
              "      <td>0.0</td>\n",
              "      <td>1</td>\n",
              "      <td>0</td>\n",
              "      <td>0</td>\n",
              "    </tr>\n",
              "    <tr>\n",
              "      <th>3</th>\n",
              "      <td>310303</td>\n",
              "      <td>650</td>\n",
              "      <td>656</td>\n",
              "      <td>3473</td>\n",
              "      <td>3305.0</td>\n",
              "      <td>0</td>\n",
              "      <td>4.0</td>\n",
              "      <td>0</td>\n",
              "      <td>11</td>\n",
              "      <td>11.0</td>\n",
              "      <td>4</td>\n",
              "      <td>3.0</td>\n",
              "      <td>0.0</td>\n",
              "      <td>1.0</td>\n",
              "      <td>0.0</td>\n",
              "      <td>1</td>\n",
              "      <td>0</td>\n",
              "      <td>0</td>\n",
              "    </tr>\n",
              "    <tr>\n",
              "      <th>4</th>\n",
              "      <td>156939</td>\n",
              "      <td>653</td>\n",
              "      <td>35</td>\n",
              "      <td>4267</td>\n",
              "      <td>6046.0</td>\n",
              "      <td>0</td>\n",
              "      <td>4.0</td>\n",
              "      <td>1</td>\n",
              "      <td>11</td>\n",
              "      <td>11.0</td>\n",
              "      <td>2</td>\n",
              "      <td>1.0</td>\n",
              "      <td>0.0</td>\n",
              "      <td>1.0</td>\n",
              "      <td>0.0</td>\n",
              "      <td>0</td>\n",
              "      <td>1</td>\n",
              "      <td>0</td>\n",
              "    </tr>\n",
              "  </tbody>\n",
              "</table>\n",
              "</div>\n",
              "      <button class=\"colab-df-convert\" onclick=\"convertToInteractive('df-6fb5f02c-0424-46d1-9f4a-29a457af7b3b')\"\n",
              "              title=\"Convert this dataframe to an interactive table.\"\n",
              "              style=\"display:none;\">\n",
              "        \n",
              "  <svg xmlns=\"http://www.w3.org/2000/svg\" height=\"24px\"viewBox=\"0 0 24 24\"\n",
              "       width=\"24px\">\n",
              "    <path d=\"M0 0h24v24H0V0z\" fill=\"none\"/>\n",
              "    <path d=\"M18.56 5.44l.94 2.06.94-2.06 2.06-.94-2.06-.94-.94-2.06-.94 2.06-2.06.94zm-11 1L8.5 8.5l.94-2.06 2.06-.94-2.06-.94L8.5 2.5l-.94 2.06-2.06.94zm10 10l.94 2.06.94-2.06 2.06-.94-2.06-.94-.94-2.06-.94 2.06-2.06.94z\"/><path d=\"M17.41 7.96l-1.37-1.37c-.4-.4-.92-.59-1.43-.59-.52 0-1.04.2-1.43.59L10.3 9.45l-7.72 7.72c-.78.78-.78 2.05 0 2.83L4 21.41c.39.39.9.59 1.41.59.51 0 1.02-.2 1.41-.59l7.78-7.78 2.81-2.81c.8-.78.8-2.07 0-2.86zM5.41 20L4 18.59l7.72-7.72 1.47 1.35L5.41 20z\"/>\n",
              "  </svg>\n",
              "      </button>\n",
              "      \n",
              "  <style>\n",
              "    .colab-df-container {\n",
              "      display:flex;\n",
              "      flex-wrap:wrap;\n",
              "      gap: 12px;\n",
              "    }\n",
              "\n",
              "    .colab-df-convert {\n",
              "      background-color: #E8F0FE;\n",
              "      border: none;\n",
              "      border-radius: 50%;\n",
              "      cursor: pointer;\n",
              "      display: none;\n",
              "      fill: #1967D2;\n",
              "      height: 32px;\n",
              "      padding: 0 0 0 0;\n",
              "      width: 32px;\n",
              "    }\n",
              "\n",
              "    .colab-df-convert:hover {\n",
              "      background-color: #E2EBFA;\n",
              "      box-shadow: 0px 1px 2px rgba(60, 64, 67, 0.3), 0px 1px 3px 1px rgba(60, 64, 67, 0.15);\n",
              "      fill: #174EA6;\n",
              "    }\n",
              "\n",
              "    [theme=dark] .colab-df-convert {\n",
              "      background-color: #3B4455;\n",
              "      fill: #D2E3FC;\n",
              "    }\n",
              "\n",
              "    [theme=dark] .colab-df-convert:hover {\n",
              "      background-color: #434B5C;\n",
              "      box-shadow: 0px 1px 3px 1px rgba(0, 0, 0, 0.15);\n",
              "      filter: drop-shadow(0px 1px 2px rgba(0, 0, 0, 0.3));\n",
              "      fill: #FFFFFF;\n",
              "    }\n",
              "  </style>\n",
              "\n",
              "      <script>\n",
              "        const buttonEl =\n",
              "          document.querySelector('#df-6fb5f02c-0424-46d1-9f4a-29a457af7b3b button.colab-df-convert');\n",
              "        buttonEl.style.display =\n",
              "          google.colab.kernel.accessAllowed ? 'block' : 'none';\n",
              "\n",
              "        async function convertToInteractive(key) {\n",
              "          const element = document.querySelector('#df-6fb5f02c-0424-46d1-9f4a-29a457af7b3b');\n",
              "          const dataTable =\n",
              "            await google.colab.kernel.invokeFunction('convertToInteractive',\n",
              "                                                     [key], {});\n",
              "          if (!dataTable) return;\n",
              "\n",
              "          const docLinkHtml = 'Like what you see? Visit the ' +\n",
              "            '<a target=\"_blank\" href=https://colab.research.google.com/notebooks/data_table.ipynb>data table notebook</a>'\n",
              "            + ' to learn more about interactive tables.';\n",
              "          element.innerHTML = '';\n",
              "          dataTable['output_type'] = 'display_data';\n",
              "          await google.colab.output.renderOutput(dataTable, element);\n",
              "          const docLink = document.createElement('div');\n",
              "          docLink.innerHTML = docLinkHtml;\n",
              "          element.appendChild(docLink);\n",
              "        }\n",
              "      </script>\n",
              "    </div>\n",
              "  </div>\n",
              "  "
            ]
          },
          "metadata": {},
          "execution_count": 25
        }
      ]
    },
    {
      "cell_type": "code",
      "source": [
        "data.shape"
      ],
      "metadata": {
        "id": "IROOi46D8wYm",
        "colab": {
          "base_uri": "https://localhost:8080/"
        },
        "outputId": "e8637bcc-3a0f-4521-b580-4da93a2e483b"
      },
      "execution_count": null,
      "outputs": [
        {
          "output_type": "execute_result",
          "data": {
            "text/plain": [
              "(449, 18)"
            ]
          },
          "metadata": {},
          "execution_count": 26
        }
      ]
    },
    {
      "cell_type": "code",
      "source": [
        "user_activity = data[['user_id','action_type']].copy()\n",
        "user_activity_info = label_binarize(np.array(data.action_type), classes=[0,1,2,3])\n",
        "user_activity_info = pd.DataFrame(data = user_activity_info, columns=['Click','add_to_cart','purchase','add_to_favorite'])\n",
        "user_activity['user_Click']= user_activity_info.Click\n",
        "user_activity['user_Add_to_cart']=user_activity_info.add_to_cart\n",
        "user_activity['user_purchase']=user_activity_info.purchase\n",
        "user_activity['user_Add_to_favorite']=user_activity_info.add_to_favorite\n",
        "\n",
        "data = pd.merge(data, user_activity, on=['user_id','action_type'], how='left')\n",
        "data.head()"
      ],
      "metadata": {
        "id": "hp_odj0f6npk",
        "colab": {
          "base_uri": "https://localhost:8080/",
          "height": 299
        },
        "outputId": "32fba098-222b-445c-808f-f3fb17ac98aa"
      },
      "execution_count": null,
      "outputs": [
        {
          "output_type": "execute_result",
          "data": {
            "text/plain": [
              "   user_id  item_id  cat_id  merchant_id  brand_id  action_type  age_range  \\\n",
              "0   310303      650     656         3473    3305.0            0        4.0   \n",
              "1   310303      650     656         3473    3305.0            0        4.0   \n",
              "2   310303      650     656         3473    3305.0            0        4.0   \n",
              "3   310303      650     656         3473    3305.0            0        4.0   \n",
              "4   310303      650     656         3473    3305.0            0        4.0   \n",
              "\n",
              "   label  Day  Month  ...  add_to_cart_count  purchase_count  favourite_count  \\\n",
              "0      0   11   11.0  ...                0.0             1.0              0.0   \n",
              "1      0   11   11.0  ...                0.0             1.0              0.0   \n",
              "2      0   11   11.0  ...                0.0             1.0              0.0   \n",
              "3      0   11   11.0  ...                0.0             1.0              0.0   \n",
              "4      0   11   11.0  ...                0.0             1.0              0.0   \n",
              "\n",
              "   user_gender_female  user_gender_male  user_gender_unknown  user_Click  \\\n",
              "0                   1                 0                    0           1   \n",
              "1                   1                 0                    0           1   \n",
              "2                   1                 0                    0           1   \n",
              "3                   1                 0                    0           1   \n",
              "4                   1                 0                    0           1   \n",
              "\n",
              "   user_Add_to_cart  user_purchase  user_Add_to_favorite  \n",
              "0                 0              0                     0  \n",
              "1                 0              0                     0  \n",
              "2                 0              0                     0  \n",
              "3                 0              0                     0  \n",
              "4                 0              0                     0  \n",
              "\n",
              "[5 rows x 22 columns]"
            ],
            "text/html": [
              "\n",
              "  <div id=\"df-89abbf08-c631-4fd8-9175-4caf5e5951dc\">\n",
              "    <div class=\"colab-df-container\">\n",
              "      <div>\n",
              "<style scoped>\n",
              "    .dataframe tbody tr th:only-of-type {\n",
              "        vertical-align: middle;\n",
              "    }\n",
              "\n",
              "    .dataframe tbody tr th {\n",
              "        vertical-align: top;\n",
              "    }\n",
              "\n",
              "    .dataframe thead th {\n",
              "        text-align: right;\n",
              "    }\n",
              "</style>\n",
              "<table border=\"1\" class=\"dataframe\">\n",
              "  <thead>\n",
              "    <tr style=\"text-align: right;\">\n",
              "      <th></th>\n",
              "      <th>user_id</th>\n",
              "      <th>item_id</th>\n",
              "      <th>cat_id</th>\n",
              "      <th>merchant_id</th>\n",
              "      <th>brand_id</th>\n",
              "      <th>action_type</th>\n",
              "      <th>age_range</th>\n",
              "      <th>label</th>\n",
              "      <th>Day</th>\n",
              "      <th>Month</th>\n",
              "      <th>...</th>\n",
              "      <th>add_to_cart_count</th>\n",
              "      <th>purchase_count</th>\n",
              "      <th>favourite_count</th>\n",
              "      <th>user_gender_female</th>\n",
              "      <th>user_gender_male</th>\n",
              "      <th>user_gender_unknown</th>\n",
              "      <th>user_Click</th>\n",
              "      <th>user_Add_to_cart</th>\n",
              "      <th>user_purchase</th>\n",
              "      <th>user_Add_to_favorite</th>\n",
              "    </tr>\n",
              "  </thead>\n",
              "  <tbody>\n",
              "    <tr>\n",
              "      <th>0</th>\n",
              "      <td>310303</td>\n",
              "      <td>650</td>\n",
              "      <td>656</td>\n",
              "      <td>3473</td>\n",
              "      <td>3305.0</td>\n",
              "      <td>0</td>\n",
              "      <td>4.0</td>\n",
              "      <td>0</td>\n",
              "      <td>11</td>\n",
              "      <td>11.0</td>\n",
              "      <td>...</td>\n",
              "      <td>0.0</td>\n",
              "      <td>1.0</td>\n",
              "      <td>0.0</td>\n",
              "      <td>1</td>\n",
              "      <td>0</td>\n",
              "      <td>0</td>\n",
              "      <td>1</td>\n",
              "      <td>0</td>\n",
              "      <td>0</td>\n",
              "      <td>0</td>\n",
              "    </tr>\n",
              "    <tr>\n",
              "      <th>1</th>\n",
              "      <td>310303</td>\n",
              "      <td>650</td>\n",
              "      <td>656</td>\n",
              "      <td>3473</td>\n",
              "      <td>3305.0</td>\n",
              "      <td>0</td>\n",
              "      <td>4.0</td>\n",
              "      <td>0</td>\n",
              "      <td>11</td>\n",
              "      <td>11.0</td>\n",
              "      <td>...</td>\n",
              "      <td>0.0</td>\n",
              "      <td>1.0</td>\n",
              "      <td>0.0</td>\n",
              "      <td>1</td>\n",
              "      <td>0</td>\n",
              "      <td>0</td>\n",
              "      <td>1</td>\n",
              "      <td>0</td>\n",
              "      <td>0</td>\n",
              "      <td>0</td>\n",
              "    </tr>\n",
              "    <tr>\n",
              "      <th>2</th>\n",
              "      <td>310303</td>\n",
              "      <td>650</td>\n",
              "      <td>656</td>\n",
              "      <td>3473</td>\n",
              "      <td>3305.0</td>\n",
              "      <td>0</td>\n",
              "      <td>4.0</td>\n",
              "      <td>0</td>\n",
              "      <td>11</td>\n",
              "      <td>11.0</td>\n",
              "      <td>...</td>\n",
              "      <td>0.0</td>\n",
              "      <td>1.0</td>\n",
              "      <td>0.0</td>\n",
              "      <td>1</td>\n",
              "      <td>0</td>\n",
              "      <td>0</td>\n",
              "      <td>1</td>\n",
              "      <td>0</td>\n",
              "      <td>0</td>\n",
              "      <td>0</td>\n",
              "    </tr>\n",
              "    <tr>\n",
              "      <th>3</th>\n",
              "      <td>310303</td>\n",
              "      <td>650</td>\n",
              "      <td>656</td>\n",
              "      <td>3473</td>\n",
              "      <td>3305.0</td>\n",
              "      <td>0</td>\n",
              "      <td>4.0</td>\n",
              "      <td>0</td>\n",
              "      <td>11</td>\n",
              "      <td>11.0</td>\n",
              "      <td>...</td>\n",
              "      <td>0.0</td>\n",
              "      <td>1.0</td>\n",
              "      <td>0.0</td>\n",
              "      <td>1</td>\n",
              "      <td>0</td>\n",
              "      <td>0</td>\n",
              "      <td>1</td>\n",
              "      <td>0</td>\n",
              "      <td>0</td>\n",
              "      <td>0</td>\n",
              "    </tr>\n",
              "    <tr>\n",
              "      <th>4</th>\n",
              "      <td>310303</td>\n",
              "      <td>650</td>\n",
              "      <td>656</td>\n",
              "      <td>3473</td>\n",
              "      <td>3305.0</td>\n",
              "      <td>0</td>\n",
              "      <td>4.0</td>\n",
              "      <td>0</td>\n",
              "      <td>11</td>\n",
              "      <td>11.0</td>\n",
              "      <td>...</td>\n",
              "      <td>0.0</td>\n",
              "      <td>1.0</td>\n",
              "      <td>0.0</td>\n",
              "      <td>1</td>\n",
              "      <td>0</td>\n",
              "      <td>0</td>\n",
              "      <td>1</td>\n",
              "      <td>0</td>\n",
              "      <td>0</td>\n",
              "      <td>0</td>\n",
              "    </tr>\n",
              "  </tbody>\n",
              "</table>\n",
              "<p>5 rows × 22 columns</p>\n",
              "</div>\n",
              "      <button class=\"colab-df-convert\" onclick=\"convertToInteractive('df-89abbf08-c631-4fd8-9175-4caf5e5951dc')\"\n",
              "              title=\"Convert this dataframe to an interactive table.\"\n",
              "              style=\"display:none;\">\n",
              "        \n",
              "  <svg xmlns=\"http://www.w3.org/2000/svg\" height=\"24px\"viewBox=\"0 0 24 24\"\n",
              "       width=\"24px\">\n",
              "    <path d=\"M0 0h24v24H0V0z\" fill=\"none\"/>\n",
              "    <path d=\"M18.56 5.44l.94 2.06.94-2.06 2.06-.94-2.06-.94-.94-2.06-.94 2.06-2.06.94zm-11 1L8.5 8.5l.94-2.06 2.06-.94-2.06-.94L8.5 2.5l-.94 2.06-2.06.94zm10 10l.94 2.06.94-2.06 2.06-.94-2.06-.94-.94-2.06-.94 2.06-2.06.94z\"/><path d=\"M17.41 7.96l-1.37-1.37c-.4-.4-.92-.59-1.43-.59-.52 0-1.04.2-1.43.59L10.3 9.45l-7.72 7.72c-.78.78-.78 2.05 0 2.83L4 21.41c.39.39.9.59 1.41.59.51 0 1.02-.2 1.41-.59l7.78-7.78 2.81-2.81c.8-.78.8-2.07 0-2.86zM5.41 20L4 18.59l7.72-7.72 1.47 1.35L5.41 20z\"/>\n",
              "  </svg>\n",
              "      </button>\n",
              "      \n",
              "  <style>\n",
              "    .colab-df-container {\n",
              "      display:flex;\n",
              "      flex-wrap:wrap;\n",
              "      gap: 12px;\n",
              "    }\n",
              "\n",
              "    .colab-df-convert {\n",
              "      background-color: #E8F0FE;\n",
              "      border: none;\n",
              "      border-radius: 50%;\n",
              "      cursor: pointer;\n",
              "      display: none;\n",
              "      fill: #1967D2;\n",
              "      height: 32px;\n",
              "      padding: 0 0 0 0;\n",
              "      width: 32px;\n",
              "    }\n",
              "\n",
              "    .colab-df-convert:hover {\n",
              "      background-color: #E2EBFA;\n",
              "      box-shadow: 0px 1px 2px rgba(60, 64, 67, 0.3), 0px 1px 3px 1px rgba(60, 64, 67, 0.15);\n",
              "      fill: #174EA6;\n",
              "    }\n",
              "\n",
              "    [theme=dark] .colab-df-convert {\n",
              "      background-color: #3B4455;\n",
              "      fill: #D2E3FC;\n",
              "    }\n",
              "\n",
              "    [theme=dark] .colab-df-convert:hover {\n",
              "      background-color: #434B5C;\n",
              "      box-shadow: 0px 1px 3px 1px rgba(0, 0, 0, 0.15);\n",
              "      filter: drop-shadow(0px 1px 2px rgba(0, 0, 0, 0.3));\n",
              "      fill: #FFFFFF;\n",
              "    }\n",
              "  </style>\n",
              "\n",
              "      <script>\n",
              "        const buttonEl =\n",
              "          document.querySelector('#df-89abbf08-c631-4fd8-9175-4caf5e5951dc button.colab-df-convert');\n",
              "        buttonEl.style.display =\n",
              "          google.colab.kernel.accessAllowed ? 'block' : 'none';\n",
              "\n",
              "        async function convertToInteractive(key) {\n",
              "          const element = document.querySelector('#df-89abbf08-c631-4fd8-9175-4caf5e5951dc');\n",
              "          const dataTable =\n",
              "            await google.colab.kernel.invokeFunction('convertToInteractive',\n",
              "                                                     [key], {});\n",
              "          if (!dataTable) return;\n",
              "\n",
              "          const docLinkHtml = 'Like what you see? Visit the ' +\n",
              "            '<a target=\"_blank\" href=https://colab.research.google.com/notebooks/data_table.ipynb>data table notebook</a>'\n",
              "            + ' to learn more about interactive tables.';\n",
              "          element.innerHTML = '';\n",
              "          dataTable['output_type'] = 'display_data';\n",
              "          await google.colab.output.renderOutput(dataTable, element);\n",
              "          const docLink = document.createElement('div');\n",
              "          docLink.innerHTML = docLinkHtml;\n",
              "          element.appendChild(docLink);\n",
              "        }\n",
              "      </script>\n",
              "    </div>\n",
              "  </div>\n",
              "  "
            ]
          },
          "metadata": {},
          "execution_count": 27
        }
      ]
    },
    {
      "cell_type": "code",
      "source": [
        "data.fillna(0,inplace=True)"
      ],
      "metadata": {
        "id": "2pp2lm1l-neK"
      },
      "execution_count": null,
      "outputs": []
    },
    {
      "cell_type": "code",
      "source": [
        "data.shape"
      ],
      "metadata": {
        "id": "z3TC3O598x4N",
        "colab": {
          "base_uri": "https://localhost:8080/"
        },
        "outputId": "e73908b0-3e75-4f38-bd12-efb1e04be3b4"
      },
      "execution_count": null,
      "outputs": [
        {
          "output_type": "execute_result",
          "data": {
            "text/plain": [
              "(3309, 22)"
            ]
          },
          "metadata": {},
          "execution_count": 29
        }
      ]
    },
    {
      "cell_type": "code",
      "source": [
        "data['age_range'] = data['age_range'].replace(8,7)\n",
        "age =  pd.DataFrame(pd.get_dummies(data['age_range']))\n",
        "column_name = {3.0:'age_25_29',\n",
        "4.0:'age_30_34',\n",
        "0.0:'age_0_18',\n",
        "2.0:'age_18_24',\n",
        "6.0:'age_40_49',\n",
        "5.0:'age_35_39'}\n",
        "age = age.rename(columns=column_name)"
      ],
      "metadata": {
        "id": "fe-X4Xj_3oD_"
      },
      "execution_count": null,
      "outputs": []
    },
    {
      "cell_type": "code",
      "source": [
        "for val in age.columns:\n",
        "  data[val] = age[val]\n",
        "data = data.drop(columns=['age_range'])"
      ],
      "metadata": {
        "id": "zv_gnmRS4CYV"
      },
      "execution_count": null,
      "outputs": []
    },
    {
      "cell_type": "code",
      "source": [
        "data.shape"
      ],
      "metadata": {
        "id": "o3fdQz6Z5xvk",
        "colab": {
          "base_uri": "https://localhost:8080/"
        },
        "outputId": "73e9537f-a8b7-4844-a7c3-4f638c92b42c"
      },
      "execution_count": null,
      "outputs": [
        {
          "output_type": "execute_result",
          "data": {
            "text/plain": [
              "(3309, 27)"
            ]
          },
          "metadata": {},
          "execution_count": 32
        }
      ]
    },
    {
      "cell_type": "code",
      "source": [
        "data.head().T"
      ],
      "metadata": {
        "id": "jhh-LTz24f7u",
        "colab": {
          "base_uri": "https://localhost:8080/",
          "height": 896
        },
        "outputId": "62371b12-110f-4925-afe1-20e8909e33e6"
      },
      "execution_count": null,
      "outputs": [
        {
          "output_type": "execute_result",
          "data": {
            "text/plain": [
              "                             0         1         2         3         4\n",
              "user_id               310303.0  310303.0  310303.0  310303.0  310303.0\n",
              "item_id                  650.0     650.0     650.0     650.0     650.0\n",
              "cat_id                   656.0     656.0     656.0     656.0     656.0\n",
              "merchant_id             3473.0    3473.0    3473.0    3473.0    3473.0\n",
              "brand_id                3305.0    3305.0    3305.0    3305.0    3305.0\n",
              "action_type                0.0       0.0       0.0       0.0       0.0\n",
              "label                      0.0       0.0       0.0       0.0       0.0\n",
              "Day                       11.0      11.0      11.0      11.0      11.0\n",
              "Month                     11.0      11.0      11.0      11.0      11.0\n",
              "activity_count             4.0       4.0       4.0       4.0       4.0\n",
              "click_count                3.0       3.0       3.0       3.0       3.0\n",
              "add_to_cart_count          0.0       0.0       0.0       0.0       0.0\n",
              "purchase_count             1.0       1.0       1.0       1.0       1.0\n",
              "favourite_count            0.0       0.0       0.0       0.0       0.0\n",
              "user_gender_female         1.0       1.0       1.0       1.0       1.0\n",
              "user_gender_male           0.0       0.0       0.0       0.0       0.0\n",
              "user_gender_unknown        0.0       0.0       0.0       0.0       0.0\n",
              "user_Click                 1.0       1.0       1.0       1.0       1.0\n",
              "user_Add_to_cart           0.0       0.0       0.0       0.0       0.0\n",
              "user_purchase              0.0       0.0       0.0       0.0       0.0\n",
              "user_Add_to_favorite       0.0       0.0       0.0       0.0       0.0\n",
              "age_0_18                   0.0       0.0       0.0       0.0       0.0\n",
              "age_18_24                  0.0       0.0       0.0       0.0       0.0\n",
              "age_25_29                  0.0       0.0       0.0       0.0       0.0\n",
              "age_30_34                  1.0       1.0       1.0       1.0       1.0\n",
              "age_35_39                  0.0       0.0       0.0       0.0       0.0\n",
              "age_40_49                  0.0       0.0       0.0       0.0       0.0"
            ],
            "text/html": [
              "\n",
              "  <div id=\"df-8fdd74cd-1802-4a3e-aa2f-96e55179377f\">\n",
              "    <div class=\"colab-df-container\">\n",
              "      <div>\n",
              "<style scoped>\n",
              "    .dataframe tbody tr th:only-of-type {\n",
              "        vertical-align: middle;\n",
              "    }\n",
              "\n",
              "    .dataframe tbody tr th {\n",
              "        vertical-align: top;\n",
              "    }\n",
              "\n",
              "    .dataframe thead th {\n",
              "        text-align: right;\n",
              "    }\n",
              "</style>\n",
              "<table border=\"1\" class=\"dataframe\">\n",
              "  <thead>\n",
              "    <tr style=\"text-align: right;\">\n",
              "      <th></th>\n",
              "      <th>0</th>\n",
              "      <th>1</th>\n",
              "      <th>2</th>\n",
              "      <th>3</th>\n",
              "      <th>4</th>\n",
              "    </tr>\n",
              "  </thead>\n",
              "  <tbody>\n",
              "    <tr>\n",
              "      <th>user_id</th>\n",
              "      <td>310303.0</td>\n",
              "      <td>310303.0</td>\n",
              "      <td>310303.0</td>\n",
              "      <td>310303.0</td>\n",
              "      <td>310303.0</td>\n",
              "    </tr>\n",
              "    <tr>\n",
              "      <th>item_id</th>\n",
              "      <td>650.0</td>\n",
              "      <td>650.0</td>\n",
              "      <td>650.0</td>\n",
              "      <td>650.0</td>\n",
              "      <td>650.0</td>\n",
              "    </tr>\n",
              "    <tr>\n",
              "      <th>cat_id</th>\n",
              "      <td>656.0</td>\n",
              "      <td>656.0</td>\n",
              "      <td>656.0</td>\n",
              "      <td>656.0</td>\n",
              "      <td>656.0</td>\n",
              "    </tr>\n",
              "    <tr>\n",
              "      <th>merchant_id</th>\n",
              "      <td>3473.0</td>\n",
              "      <td>3473.0</td>\n",
              "      <td>3473.0</td>\n",
              "      <td>3473.0</td>\n",
              "      <td>3473.0</td>\n",
              "    </tr>\n",
              "    <tr>\n",
              "      <th>brand_id</th>\n",
              "      <td>3305.0</td>\n",
              "      <td>3305.0</td>\n",
              "      <td>3305.0</td>\n",
              "      <td>3305.0</td>\n",
              "      <td>3305.0</td>\n",
              "    </tr>\n",
              "    <tr>\n",
              "      <th>action_type</th>\n",
              "      <td>0.0</td>\n",
              "      <td>0.0</td>\n",
              "      <td>0.0</td>\n",
              "      <td>0.0</td>\n",
              "      <td>0.0</td>\n",
              "    </tr>\n",
              "    <tr>\n",
              "      <th>label</th>\n",
              "      <td>0.0</td>\n",
              "      <td>0.0</td>\n",
              "      <td>0.0</td>\n",
              "      <td>0.0</td>\n",
              "      <td>0.0</td>\n",
              "    </tr>\n",
              "    <tr>\n",
              "      <th>Day</th>\n",
              "      <td>11.0</td>\n",
              "      <td>11.0</td>\n",
              "      <td>11.0</td>\n",
              "      <td>11.0</td>\n",
              "      <td>11.0</td>\n",
              "    </tr>\n",
              "    <tr>\n",
              "      <th>Month</th>\n",
              "      <td>11.0</td>\n",
              "      <td>11.0</td>\n",
              "      <td>11.0</td>\n",
              "      <td>11.0</td>\n",
              "      <td>11.0</td>\n",
              "    </tr>\n",
              "    <tr>\n",
              "      <th>activity_count</th>\n",
              "      <td>4.0</td>\n",
              "      <td>4.0</td>\n",
              "      <td>4.0</td>\n",
              "      <td>4.0</td>\n",
              "      <td>4.0</td>\n",
              "    </tr>\n",
              "    <tr>\n",
              "      <th>click_count</th>\n",
              "      <td>3.0</td>\n",
              "      <td>3.0</td>\n",
              "      <td>3.0</td>\n",
              "      <td>3.0</td>\n",
              "      <td>3.0</td>\n",
              "    </tr>\n",
              "    <tr>\n",
              "      <th>add_to_cart_count</th>\n",
              "      <td>0.0</td>\n",
              "      <td>0.0</td>\n",
              "      <td>0.0</td>\n",
              "      <td>0.0</td>\n",
              "      <td>0.0</td>\n",
              "    </tr>\n",
              "    <tr>\n",
              "      <th>purchase_count</th>\n",
              "      <td>1.0</td>\n",
              "      <td>1.0</td>\n",
              "      <td>1.0</td>\n",
              "      <td>1.0</td>\n",
              "      <td>1.0</td>\n",
              "    </tr>\n",
              "    <tr>\n",
              "      <th>favourite_count</th>\n",
              "      <td>0.0</td>\n",
              "      <td>0.0</td>\n",
              "      <td>0.0</td>\n",
              "      <td>0.0</td>\n",
              "      <td>0.0</td>\n",
              "    </tr>\n",
              "    <tr>\n",
              "      <th>user_gender_female</th>\n",
              "      <td>1.0</td>\n",
              "      <td>1.0</td>\n",
              "      <td>1.0</td>\n",
              "      <td>1.0</td>\n",
              "      <td>1.0</td>\n",
              "    </tr>\n",
              "    <tr>\n",
              "      <th>user_gender_male</th>\n",
              "      <td>0.0</td>\n",
              "      <td>0.0</td>\n",
              "      <td>0.0</td>\n",
              "      <td>0.0</td>\n",
              "      <td>0.0</td>\n",
              "    </tr>\n",
              "    <tr>\n",
              "      <th>user_gender_unknown</th>\n",
              "      <td>0.0</td>\n",
              "      <td>0.0</td>\n",
              "      <td>0.0</td>\n",
              "      <td>0.0</td>\n",
              "      <td>0.0</td>\n",
              "    </tr>\n",
              "    <tr>\n",
              "      <th>user_Click</th>\n",
              "      <td>1.0</td>\n",
              "      <td>1.0</td>\n",
              "      <td>1.0</td>\n",
              "      <td>1.0</td>\n",
              "      <td>1.0</td>\n",
              "    </tr>\n",
              "    <tr>\n",
              "      <th>user_Add_to_cart</th>\n",
              "      <td>0.0</td>\n",
              "      <td>0.0</td>\n",
              "      <td>0.0</td>\n",
              "      <td>0.0</td>\n",
              "      <td>0.0</td>\n",
              "    </tr>\n",
              "    <tr>\n",
              "      <th>user_purchase</th>\n",
              "      <td>0.0</td>\n",
              "      <td>0.0</td>\n",
              "      <td>0.0</td>\n",
              "      <td>0.0</td>\n",
              "      <td>0.0</td>\n",
              "    </tr>\n",
              "    <tr>\n",
              "      <th>user_Add_to_favorite</th>\n",
              "      <td>0.0</td>\n",
              "      <td>0.0</td>\n",
              "      <td>0.0</td>\n",
              "      <td>0.0</td>\n",
              "      <td>0.0</td>\n",
              "    </tr>\n",
              "    <tr>\n",
              "      <th>age_0_18</th>\n",
              "      <td>0.0</td>\n",
              "      <td>0.0</td>\n",
              "      <td>0.0</td>\n",
              "      <td>0.0</td>\n",
              "      <td>0.0</td>\n",
              "    </tr>\n",
              "    <tr>\n",
              "      <th>age_18_24</th>\n",
              "      <td>0.0</td>\n",
              "      <td>0.0</td>\n",
              "      <td>0.0</td>\n",
              "      <td>0.0</td>\n",
              "      <td>0.0</td>\n",
              "    </tr>\n",
              "    <tr>\n",
              "      <th>age_25_29</th>\n",
              "      <td>0.0</td>\n",
              "      <td>0.0</td>\n",
              "      <td>0.0</td>\n",
              "      <td>0.0</td>\n",
              "      <td>0.0</td>\n",
              "    </tr>\n",
              "    <tr>\n",
              "      <th>age_30_34</th>\n",
              "      <td>1.0</td>\n",
              "      <td>1.0</td>\n",
              "      <td>1.0</td>\n",
              "      <td>1.0</td>\n",
              "      <td>1.0</td>\n",
              "    </tr>\n",
              "    <tr>\n",
              "      <th>age_35_39</th>\n",
              "      <td>0.0</td>\n",
              "      <td>0.0</td>\n",
              "      <td>0.0</td>\n",
              "      <td>0.0</td>\n",
              "      <td>0.0</td>\n",
              "    </tr>\n",
              "    <tr>\n",
              "      <th>age_40_49</th>\n",
              "      <td>0.0</td>\n",
              "      <td>0.0</td>\n",
              "      <td>0.0</td>\n",
              "      <td>0.0</td>\n",
              "      <td>0.0</td>\n",
              "    </tr>\n",
              "  </tbody>\n",
              "</table>\n",
              "</div>\n",
              "      <button class=\"colab-df-convert\" onclick=\"convertToInteractive('df-8fdd74cd-1802-4a3e-aa2f-96e55179377f')\"\n",
              "              title=\"Convert this dataframe to an interactive table.\"\n",
              "              style=\"display:none;\">\n",
              "        \n",
              "  <svg xmlns=\"http://www.w3.org/2000/svg\" height=\"24px\"viewBox=\"0 0 24 24\"\n",
              "       width=\"24px\">\n",
              "    <path d=\"M0 0h24v24H0V0z\" fill=\"none\"/>\n",
              "    <path d=\"M18.56 5.44l.94 2.06.94-2.06 2.06-.94-2.06-.94-.94-2.06-.94 2.06-2.06.94zm-11 1L8.5 8.5l.94-2.06 2.06-.94-2.06-.94L8.5 2.5l-.94 2.06-2.06.94zm10 10l.94 2.06.94-2.06 2.06-.94-2.06-.94-.94-2.06-.94 2.06-2.06.94z\"/><path d=\"M17.41 7.96l-1.37-1.37c-.4-.4-.92-.59-1.43-.59-.52 0-1.04.2-1.43.59L10.3 9.45l-7.72 7.72c-.78.78-.78 2.05 0 2.83L4 21.41c.39.39.9.59 1.41.59.51 0 1.02-.2 1.41-.59l7.78-7.78 2.81-2.81c.8-.78.8-2.07 0-2.86zM5.41 20L4 18.59l7.72-7.72 1.47 1.35L5.41 20z\"/>\n",
              "  </svg>\n",
              "      </button>\n",
              "      \n",
              "  <style>\n",
              "    .colab-df-container {\n",
              "      display:flex;\n",
              "      flex-wrap:wrap;\n",
              "      gap: 12px;\n",
              "    }\n",
              "\n",
              "    .colab-df-convert {\n",
              "      background-color: #E8F0FE;\n",
              "      border: none;\n",
              "      border-radius: 50%;\n",
              "      cursor: pointer;\n",
              "      display: none;\n",
              "      fill: #1967D2;\n",
              "      height: 32px;\n",
              "      padding: 0 0 0 0;\n",
              "      width: 32px;\n",
              "    }\n",
              "\n",
              "    .colab-df-convert:hover {\n",
              "      background-color: #E2EBFA;\n",
              "      box-shadow: 0px 1px 2px rgba(60, 64, 67, 0.3), 0px 1px 3px 1px rgba(60, 64, 67, 0.15);\n",
              "      fill: #174EA6;\n",
              "    }\n",
              "\n",
              "    [theme=dark] .colab-df-convert {\n",
              "      background-color: #3B4455;\n",
              "      fill: #D2E3FC;\n",
              "    }\n",
              "\n",
              "    [theme=dark] .colab-df-convert:hover {\n",
              "      background-color: #434B5C;\n",
              "      box-shadow: 0px 1px 3px 1px rgba(0, 0, 0, 0.15);\n",
              "      filter: drop-shadow(0px 1px 2px rgba(0, 0, 0, 0.3));\n",
              "      fill: #FFFFFF;\n",
              "    }\n",
              "  </style>\n",
              "\n",
              "      <script>\n",
              "        const buttonEl =\n",
              "          document.querySelector('#df-8fdd74cd-1802-4a3e-aa2f-96e55179377f button.colab-df-convert');\n",
              "        buttonEl.style.display =\n",
              "          google.colab.kernel.accessAllowed ? 'block' : 'none';\n",
              "\n",
              "        async function convertToInteractive(key) {\n",
              "          const element = document.querySelector('#df-8fdd74cd-1802-4a3e-aa2f-96e55179377f');\n",
              "          const dataTable =\n",
              "            await google.colab.kernel.invokeFunction('convertToInteractive',\n",
              "                                                     [key], {});\n",
              "          if (!dataTable) return;\n",
              "\n",
              "          const docLinkHtml = 'Like what you see? Visit the ' +\n",
              "            '<a target=\"_blank\" href=https://colab.research.google.com/notebooks/data_table.ipynb>data table notebook</a>'\n",
              "            + ' to learn more about interactive tables.';\n",
              "          element.innerHTML = '';\n",
              "          dataTable['output_type'] = 'display_data';\n",
              "          await google.colab.output.renderOutput(dataTable, element);\n",
              "          const docLink = document.createElement('div');\n",
              "          docLink.innerHTML = docLinkHtml;\n",
              "          element.appendChild(docLink);\n",
              "        }\n",
              "      </script>\n",
              "    </div>\n",
              "  </div>\n",
              "  "
            ]
          },
          "metadata": {},
          "execution_count": 33
        }
      ]
    },
    {
      "cell_type": "markdown",
      "source": [
        "<h2>Seller Level Info<h2>"
      ],
      "metadata": {
        "id": "DHyLht1U8hSO"
      }
    },
    {
      "cell_type": "markdown",
      "source": [
        "We try to find new features with respect to different criteria i.e the merchant having interaction with item,brand,cateogry,"
      ],
      "metadata": {
        "id": "jnG19KUqAZlG"
      }
    },
    {
      "cell_type": "code",
      "source": [
        "\n",
        "merchant_item = data.loc[:, ['merchant_id', 'item_id']]\n",
        "\n",
        "merchant_item = merchant_item.drop_duplicates(subset='item_id')\n",
        "\n",
        "merchant_item_info = merchant_item.groupby('merchant_id').agg({'item_id': 'count'}).reset_index()\n",
        "\n",
        "merchant_item_info = merchant_item_info.rename(columns={'item_id': 'merchant_item_count'})\n",
        "\n",
        "print(merchant_item_info.head(50))\n",
        "\n",
        "data = pd.merge(data, merchant_item_info, on='merchant_id', how='left')\n"
      ],
      "metadata": {
        "id": "E1el-EtA4iRN",
        "colab": {
          "base_uri": "https://localhost:8080/"
        },
        "outputId": "0c02965a-0ce9-4b19-e926-e8de1f10ca08"
      },
      "execution_count": null,
      "outputs": [
        {
          "output_type": "stream",
          "name": "stdout",
          "text": [
            "    merchant_id  merchant_item_count\n",
            "0           252                    1\n",
            "1           350                    1\n",
            "2           412                    1\n",
            "3           523                    1\n",
            "4           586                    1\n",
            "5           630                    1\n",
            "6           643                    1\n",
            "7           804                    1\n",
            "8          1429                    1\n",
            "9          1472                    1\n",
            "10         1501                    1\n",
            "11         1840                    1\n",
            "12         1841                    1\n",
            "13         1944                    1\n",
            "14         2242                    1\n",
            "15         3432                    1\n",
            "16         3473                    1\n",
            "17         3502                    1\n",
            "18         3828                    1\n",
            "19         4267                    1\n",
            "20         4502                    1\n",
            "21         4534                    1\n",
            "22         4847                    1\n",
            "23         4850                    1\n"
          ]
        }
      ]
    },
    {
      "cell_type": "code",
      "source": [
        "\n",
        "merchant_brand = data.loc[:, ['merchant_id', 'brand_id']]\n",
        "\n",
        "merchant_brand = merchant_brand.drop_duplicates(subset='brand_id')\n",
        "\n",
        "merchant_brand_info = merchant_brand.groupby('merchant_id').agg({'brand_id': 'count'}).reset_index()\n",
        "\n",
        "merchant_brand_info = merchant_brand_info.rename(columns={'brand_id': 'merchant_brand_count'})\n",
        "\n",
        "print(merchant_brand_info.head(50))\n",
        "\n",
        "data = pd.merge(data, merchant_brand_info, on='merchant_id', how='left')"
      ],
      "metadata": {
        "id": "sfvyEXLq67B9",
        "colab": {
          "base_uri": "https://localhost:8080/"
        },
        "outputId": "27515634-e290-45a1-d3e8-21695047abae"
      },
      "execution_count": null,
      "outputs": [
        {
          "output_type": "stream",
          "name": "stdout",
          "text": [
            "    merchant_id  merchant_brand_count\n",
            "0           252                     1\n",
            "1           350                     1\n",
            "2           412                     1\n",
            "3           523                     1\n",
            "4           586                     1\n",
            "5           630                     1\n",
            "6           643                     1\n",
            "7           804                     1\n",
            "8          1429                     1\n",
            "9          1472                     1\n",
            "10         1501                     1\n",
            "11         1840                     1\n",
            "12         1841                     1\n",
            "13         1944                     1\n",
            "14         2242                     1\n",
            "15         3432                     1\n",
            "16         3473                     1\n",
            "17         3502                     1\n",
            "18         3828                     1\n",
            "19         4267                     1\n",
            "20         4502                     1\n",
            "21         4534                     1\n",
            "22         4847                     2\n",
            "23         4850                     1\n"
          ]
        }
      ]
    },
    {
      "cell_type": "markdown",
      "source": [
        "<h2>User Seller Info<h2>"
      ],
      "metadata": {
        "id": "A5CjcCC98nHx"
      }
    },
    {
      "cell_type": "code",
      "source": [
        "merchant_cat = data.loc[:, ['merchant_id', 'cat_id']]\n",
        "merchant_cat_info = merchant_cat.groupby('merchant_id').agg({'cat_id': 'count'}).reset_index()\n",
        "merchant_cat_info = merchant_cat_info.rename(columns={'cat_id': 'merchant_cat_count'})\n",
        "print(merchant_cat_info.head(50))\n",
        "data = pd.merge(data, merchant_cat_info, on='merchant_id', how='left')"
      ],
      "metadata": {
        "id": "5r1bDaPy7AsM",
        "colab": {
          "base_uri": "https://localhost:8080/"
        },
        "outputId": "5b7ebda3-4eb2-4f52-cd5d-80339673a043"
      },
      "execution_count": null,
      "outputs": [
        {
          "output_type": "stream",
          "name": "stdout",
          "text": [
            "    merchant_id  merchant_cat_count\n",
            "0           252                   1\n",
            "1           350                 232\n",
            "2           412                   1\n",
            "3           523                   1\n",
            "4           586                  11\n",
            "5           630                  51\n",
            "6           643                   5\n",
            "7           804                  28\n",
            "8          1429                   1\n",
            "9          1472                  10\n",
            "10         1501                  15\n",
            "11         1840                   7\n",
            "12         1841                   1\n",
            "13         1944                   1\n",
            "14         2242                   1\n",
            "15         3432                   1\n",
            "16         3473                2460\n",
            "17         3502                   1\n",
            "18         3828                   3\n",
            "19         4267                 366\n",
            "20         4502                   1\n",
            "21         4534                  55\n",
            "22         4847                  39\n",
            "23         4850                  17\n"
          ]
        }
      ]
    },
    {
      "cell_type": "code",
      "source": [
        "user_merchant = data.loc[:, ['user_id','merchant_id']]\n",
        "user_merchant = user_merchant.drop_duplicates(subset='merchant_id')\n",
        "user_merchant_info = user_merchant.groupby('user_id').agg({'merchant_id': 'count'}).reset_index()\n",
        "user_merchant_info = user_merchant_info.rename(columns={'merchant_id': 'user_merchant_count'})\n",
        "print(user_merchant_info.head(50))\n",
        "data = pd.merge(data, user_merchant_info, on='user_id', how='left')"
      ],
      "metadata": {
        "id": "xcEDKToMGpzJ",
        "colab": {
          "base_uri": "https://localhost:8080/"
        },
        "outputId": "f901e09c-43bc-475b-b665-ef4ae73c4316"
      },
      "execution_count": null,
      "outputs": [
        {
          "output_type": "stream",
          "name": "stdout",
          "text": [
            "    user_id  user_merchant_count\n",
            "0     14196                    1\n",
            "1     54738                    1\n",
            "2     56665                    1\n",
            "3     63183                    1\n",
            "4     80940                    1\n",
            "5     87997                    1\n",
            "6     92655                    1\n",
            "7    112081                    1\n",
            "8    112950                    1\n",
            "9    148947                    1\n",
            "10   156939                    1\n",
            "11   156965                    1\n",
            "12   182603                    1\n",
            "13   242112                    1\n",
            "14   264378                    1\n",
            "15   310303                    1\n",
            "16   313743                    1\n",
            "17   316744                    1\n",
            "18   327778                    1\n",
            "19   329471                    1\n",
            "20   329675                    1\n",
            "21   337468                    1\n",
            "22   355457                    1\n",
            "23   413107                    1\n"
          ]
        }
      ]
    },
    {
      "cell_type": "code",
      "source": [
        "user_cat = data.loc[:, ['user_id','cat_id']]\n",
        "user_cat = user_cat.drop_duplicates(subset='cat_id')\n",
        "user_cat_info = user_cat.groupby('user_id').agg({'cat_id': 'count'}).reset_index()\n",
        "user_cat_info = user_cat_info.rename(columns={'cat_id': 'user_cat_count'})\n",
        "print(user_cat_info.head(50))\n",
        "data = pd.merge(data, user_cat_info, on='user_id', how='left')"
      ],
      "metadata": {
        "id": "jFF7GFOv9AFy",
        "colab": {
          "base_uri": "https://localhost:8080/"
        },
        "outputId": "69f58078-8175-43a3-a7b8-b64bc1feb162"
      },
      "execution_count": null,
      "outputs": [
        {
          "output_type": "stream",
          "name": "stdout",
          "text": [
            "    user_id  user_cat_count\n",
            "0     14196               1\n",
            "1     54738               1\n",
            "2     56665               1\n",
            "3     63183               1\n",
            "4     80940               1\n",
            "5     87997               1\n",
            "6     92655               1\n",
            "7    112950               1\n",
            "8    156939               1\n",
            "9    156965               1\n",
            "10   182603               1\n",
            "11   242112               1\n",
            "12   310303               1\n",
            "13   313743               1\n",
            "14   316744               1\n",
            "15   327778               1\n",
            "16   329471               1\n",
            "17   337468               1\n",
            "18   355457               1\n",
            "19   413107               1\n"
          ]
        }
      ]
    },
    {
      "cell_type": "code",
      "source": [
        "user_brand = data.loc[:, ['user_id','brand_id']]\n",
        "user_brand = user_brand.drop_duplicates(subset='brand_id')\n",
        "user_brand_info = user_brand.groupby('user_id').agg({'brand_id': 'count'}).reset_index()\n",
        "user_brand_info = user_brand_info.rename(columns={'brand_id': 'user_brand_count'})\n",
        "print(user_brand_info.head(50))\n",
        "data = pd.merge(data, user_brand_info, on='user_id', how='left')"
      ],
      "metadata": {
        "id": "D8MY1JXJ9Ds6",
        "colab": {
          "base_uri": "https://localhost:8080/"
        },
        "outputId": "93364ebe-bf55-48a0-f6d1-4ba22764cc2e"
      },
      "execution_count": null,
      "outputs": [
        {
          "output_type": "stream",
          "name": "stdout",
          "text": [
            "    user_id  user_brand_count\n",
            "0     14196                 1\n",
            "1     54738                 1\n",
            "2     56665                 1\n",
            "3     63183                 1\n",
            "4     80940                 1\n",
            "5     87997                 1\n",
            "6     92655                 1\n",
            "7    112081                 1\n",
            "8    112950                 1\n",
            "9    148947                 1\n",
            "10   156939                 1\n",
            "11   156965                 2\n",
            "12   182603                 1\n",
            "13   242112                 1\n",
            "14   264378                 1\n",
            "15   310303                 1\n",
            "16   313743                 1\n",
            "17   316744                 1\n",
            "18   327778                 1\n",
            "19   329471                 1\n",
            "20   329675                 1\n",
            "21   337468                 1\n",
            "22   355457                 1\n",
            "23   413107                 1\n"
          ]
        }
      ]
    },
    {
      "cell_type": "markdown",
      "source": [
        "<h2>User Seller Merchant Info<h2>"
      ],
      "metadata": {
        "id": "1IJBTT4jHi7E"
      }
    },
    {
      "cell_type": "code",
      "source": [
        "user_brand = data.loc[:, ['user_id','merchant_id','brand_id']]\n",
        "user_brand_info = user_brand.groupby(['user_id','merchant_id']).agg({'brand_id': 'count'}).reset_index()\n",
        "user_brand_info = user_brand_info.rename(columns={'brand_id': 'user_merchant_brand_count'})\n",
        "print(user_brand_info.head(50))\n",
        "data = pd.merge(data, user_brand_info, on=['user_id','merchant_id'], how='left')"
      ],
      "metadata": {
        "id": "lh2gwBMA9J2k",
        "colab": {
          "base_uri": "https://localhost:8080/"
        },
        "outputId": "e2a54f1e-0e19-4ea9-92df-a1db4646492d"
      },
      "execution_count": null,
      "outputs": [
        {
          "output_type": "stream",
          "name": "stdout",
          "text": [
            "    user_id  merchant_id  user_merchant_brand_count\n",
            "0      6308         4267                          9\n",
            "1     14196         4850                          1\n",
            "2     15333         3473                          2\n",
            "3     21456         4267                          4\n",
            "4     22289         4267                          1\n",
            "5     30637         4267                         49\n",
            "6     31008          643                          1\n",
            "7     39322         1501                          1\n",
            "8     40560         3473                        198\n",
            "9     42310         4850                         16\n",
            "10    42460         4267                          4\n",
            "11    43489         4267                          1\n",
            "12    44525         4534                          1\n",
            "13    47962          804                          4\n",
            "14    54159         3473                         26\n",
            "15    54738          586                          9\n",
            "16    54820         1501                          1\n",
            "17    55308          804                          4\n",
            "18    56282         4847                          1\n",
            "19    56665          412                          1\n",
            "20    57067         3473                          1\n",
            "21    59087         4847                          1\n",
            "22    59297          350                          1\n",
            "23    62060          350                         25\n",
            "24    63168         4847                          1\n",
            "25    63183          804                          1\n",
            "26    63524          350                         65\n",
            "27    69845         4267                          4\n",
            "28    70109         1501                          1\n",
            "29    73597         4847                          1\n",
            "30    76374         4267                          1\n",
            "31    79159         4267                          1\n",
            "32    80940         3432                          1\n",
            "33    87997          252                          1\n",
            "34    92655         3828                          1\n",
            "35    94684          804                          1\n",
            "36   100392         3473                          2\n",
            "37   101477         3473                        123\n",
            "38   102054         3473                         26\n",
            "39   105267         1840                          1\n",
            "40   109742         4847                          5\n",
            "41   112081         1841                          1\n",
            "42   112950          643                          1\n",
            "43   113301         4847                          1\n",
            "44   118899         3473                          2\n",
            "45   123932         4267                         26\n",
            "46   131937         3473                        123\n",
            "47   135595         3473                        226\n",
            "48   147996          643                          1\n",
            "49   148947         1501                          1\n"
          ]
        }
      ]
    },
    {
      "cell_type": "code",
      "source": [
        "user_merchant_cat = data.loc[:, ['user_id','merchant_id','cat_id']]\n",
        "user_merchant_cat_info = user_merchant_cat.groupby(['user_id','merchant_id']).agg({'cat_id': 'count'}).reset_index()\n",
        "user_merchant_cat_info = user_merchant_cat_info.rename(columns={'cat_id': 'user_merchant_cat_count'})\n",
        "print(user_merchant_cat_info.head(50))\n",
        "data = pd.merge(data, user_merchant_cat_info, on=['user_id','merchant_id'], how='left')"
      ],
      "metadata": {
        "id": "mrNEHOJLJLXZ",
        "colab": {
          "base_uri": "https://localhost:8080/"
        },
        "outputId": "d1774c44-85be-4412-86e2-f48bbe36bddb"
      },
      "execution_count": null,
      "outputs": [
        {
          "output_type": "stream",
          "name": "stdout",
          "text": [
            "    user_id  merchant_id  user_merchant_cat_count\n",
            "0      6308         4267                        9\n",
            "1     14196         4850                        1\n",
            "2     15333         3473                        2\n",
            "3     21456         4267                        4\n",
            "4     22289         4267                        1\n",
            "5     30637         4267                       49\n",
            "6     31008          643                        1\n",
            "7     39322         1501                        1\n",
            "8     40560         3473                      198\n",
            "9     42310         4850                       16\n",
            "10    42460         4267                        4\n",
            "11    43489         4267                        1\n",
            "12    44525         4534                        1\n",
            "13    47962          804                        4\n",
            "14    54159         3473                       26\n",
            "15    54738          586                        9\n",
            "16    54820         1501                        1\n",
            "17    55308          804                        4\n",
            "18    56282         4847                        1\n",
            "19    56665          412                        1\n",
            "20    57067         3473                        1\n",
            "21    59087         4847                        1\n",
            "22    59297          350                        1\n",
            "23    62060          350                       25\n",
            "24    63168         4847                        1\n",
            "25    63183          804                        1\n",
            "26    63524          350                       65\n",
            "27    69845         4267                        4\n",
            "28    70109         1501                        1\n",
            "29    73597         4847                        1\n",
            "30    76374         4267                        1\n",
            "31    79159         4267                        1\n",
            "32    80940         3432                        1\n",
            "33    87997          252                        1\n",
            "34    92655         3828                        1\n",
            "35    94684          804                        1\n",
            "36   100392         3473                        2\n",
            "37   101477         3473                      123\n",
            "38   102054         3473                       26\n",
            "39   105267         1840                        1\n",
            "40   109742         4847                        5\n",
            "41   112081         1841                        1\n",
            "42   112950          643                        1\n",
            "43   113301         4847                        1\n",
            "44   118899         3473                        2\n",
            "45   123932         4267                       26\n",
            "46   131937         3473                      123\n",
            "47   135595         3473                      226\n",
            "48   147996          643                        1\n",
            "49   148947         1501                        1\n"
          ]
        }
      ]
    },
    {
      "cell_type": "code",
      "source": [
        "user_merchant_day_cat = data.loc[:, ['user_id','merchant_id','Day','cat_id']]\n",
        "user_merchant_day_cat_info = user_merchant_day_cat.groupby(['user_id','merchant_id','Day']).agg({'cat_id': 'count'}).reset_index()\n",
        "user_merchant_day_cat_info = user_merchant_day_cat_info.rename(columns={'cat_id': 'user_merchant_day_cat_count'})\n",
        "\n",
        "\n",
        "data = pd.merge(data, user_merchant_day_cat_info, on=['user_id','merchant_id','Day'], how='left')\n",
        "\n",
        "print(user_merchant_day_cat_info.head(10))"
      ],
      "metadata": {
        "id": "FeWTr4mQJP2Q",
        "colab": {
          "base_uri": "https://localhost:8080/"
        },
        "outputId": "50e1bb98-5676-424d-bcf6-66a6808aea08"
      },
      "execution_count": null,
      "outputs": [
        {
          "output_type": "stream",
          "name": "stdout",
          "text": [
            "   user_id  merchant_id  Day  user_merchant_day_cat_count\n",
            "0     6308         4267   10                            9\n",
            "1    14196         4850   28                            1\n",
            "2    15333         3473   11                            2\n",
            "3    21456         4267   11                            4\n",
            "4    22289         4267   11                            1\n",
            "5    30637         4267   10                           14\n",
            "6    30637         4267   11                           35\n",
            "7    31008          643   10                            1\n",
            "8    39322         1501   10                            1\n",
            "9    40560         3473    8                           56\n"
          ]
        }
      ]
    },
    {
      "cell_type": "code",
      "source": [
        "data.shape"
      ],
      "metadata": {
        "id": "Jf7UCVd_6Viv",
        "colab": {
          "base_uri": "https://localhost:8080/"
        },
        "outputId": "d0202681-7d31-44ed-e2bc-ea0194f12b53"
      },
      "execution_count": null,
      "outputs": [
        {
          "output_type": "execute_result",
          "data": {
            "text/plain": [
              "(3309, 36)"
            ]
          },
          "metadata": {},
          "execution_count": 43
        }
      ]
    },
    {
      "cell_type": "code",
      "source": [
        "data.columns"
      ],
      "metadata": {
        "id": "nNGevJs8STSa",
        "colab": {
          "base_uri": "https://localhost:8080/"
        },
        "outputId": "cf111c56-615a-4cec-b5e5-55440a595d10"
      },
      "execution_count": null,
      "outputs": [
        {
          "output_type": "execute_result",
          "data": {
            "text/plain": [
              "Index(['user_id', 'item_id', 'cat_id', 'merchant_id', 'brand_id',\n",
              "       'action_type', 'label', 'Day', 'Month', 'activity_count', 'click_count',\n",
              "       'add_to_cart_count', 'purchase_count', 'favourite_count',\n",
              "       'user_gender_female', 'user_gender_male', 'user_gender_unknown',\n",
              "       'user_Click', 'user_Add_to_cart', 'user_purchase',\n",
              "       'user_Add_to_favorite', 'age_0_18', 'age_18_24', 'age_25_29',\n",
              "       'age_30_34', 'age_35_39', 'age_40_49', 'merchant_item_count',\n",
              "       'merchant_brand_count', 'merchant_cat_count', 'user_merchant_count',\n",
              "       'user_cat_count', 'user_brand_count', 'user_merchant_brand_count',\n",
              "       'user_merchant_cat_count', 'user_merchant_day_cat_count'],\n",
              "      dtype='object')"
            ]
          },
          "metadata": {},
          "execution_count": 44
        }
      ]
    },
    {
      "cell_type": "code",
      "source": [
        "len(data)"
      ],
      "metadata": {
        "id": "YAYhxKbu4Ocy",
        "colab": {
          "base_uri": "https://localhost:8080/"
        },
        "outputId": "7e713b10-b1b9-4b58-9265-15937740e930"
      },
      "execution_count": null,
      "outputs": [
        {
          "output_type": "execute_result",
          "data": {
            "text/plain": [
              "3309"
            ]
          },
          "metadata": {},
          "execution_count": 45
        }
      ]
    },
    {
      "cell_type": "code",
      "source": [
        "numerical_features = ['activity_count', 'click_count',\n",
        "       'add_to_cart_count', 'purchase_count', 'favourite_count','merchant_item_count',\n",
        "        'merchant_brand_count', 'merchant_cat_count', 'user_merchant_count',\n",
        "        'user_cat_count', 'user_brand_count', 'user_merchant_brand_count',\n",
        "        'user_merchant_cat_count', 'user_merchant_day_cat_count']"
      ],
      "metadata": {
        "id": "-FYpwpRQvOxN"
      },
      "execution_count": null,
      "outputs": []
    },
    {
      "cell_type": "code",
      "source": [
        "numerical_data = data[numerical_features]"
      ],
      "metadata": {
        "id": "Q4l-sJSY4erQ"
      },
      "execution_count": null,
      "outputs": []
    },
    {
      "cell_type": "code",
      "source": [
        "categorical_features = list(set(data.columns)- set(numerical_features))"
      ],
      "metadata": {
        "id": "zq4yARbx4iNV"
      },
      "execution_count": null,
      "outputs": []
    },
    {
      "cell_type": "code",
      "source": [
        "categorical_data = data[categorical_features]"
      ],
      "metadata": {
        "id": "kIRQs_iY47zd"
      },
      "execution_count": null,
      "outputs": []
    },
    {
      "cell_type": "code",
      "source": [
        "data.describe().T"
      ],
      "metadata": {
        "colab": {
          "base_uri": "https://localhost:8080/",
          "height": 1000
        },
        "id": "CHZct6DhLh3F",
        "outputId": "e853bee1-0116-4cff-8b93-c6fe0f001a00"
      },
      "execution_count": null,
      "outputs": [
        {
          "output_type": "execute_result",
          "data": {
            "text/plain": [
              "                              count           mean            std     min  \\\n",
              "user_id                      3309.0  224021.426111  114539.204219  6308.0   \n",
              "item_id                      3309.0     660.195527      28.645514   644.0   \n",
              "cat_id                       3309.0     634.822907     311.445412    35.0   \n",
              "merchant_id                  3309.0    3279.944394    1019.598601   252.0   \n",
              "brand_id                     3309.0    3586.232699    1059.355053   799.0   \n",
              "action_type                  3309.0       0.045331       0.323972     0.0   \n",
              "label                        3309.0       0.011484       0.106562     0.0   \n",
              "Day                          3309.0      11.218495       4.721091     1.0   \n",
              "Month                        3309.0      10.867029       0.577567     5.0   \n",
              "activity_count               3309.0      14.993351       6.637073     1.0   \n",
              "click_count                  3309.0      13.688728       6.518910     0.0   \n",
              "add_to_cart_count            3309.0       0.000000       0.000000     0.0   \n",
              "purchase_count               3309.0       0.911151       0.318646     0.0   \n",
              "favourite_count              3309.0       0.393472       0.488594     0.0   \n",
              "user_gender_female           3309.0       0.982170       0.132354     0.0   \n",
              "user_gender_male             3309.0       0.006951       0.083093     0.0   \n",
              "user_gender_unknown          3309.0       0.010879       0.103751     0.0   \n",
              "user_Click                   3309.0       0.980054       0.139834     0.0   \n",
              "user_Add_to_cart             3309.0       0.000000       0.000000     0.0   \n",
              "user_purchase                3309.0       0.014506       0.119582     0.0   \n",
              "user_Add_to_favorite         3309.0       0.005440       0.073565     0.0   \n",
              "age_0_18                     3309.0       0.159263       0.365976     0.0   \n",
              "age_18_24                    3309.0       0.165005       0.371241     0.0   \n",
              "age_25_29                    3309.0       0.408885       0.491702     0.0   \n",
              "age_30_34                    3309.0       0.184648       0.388070     0.0   \n",
              "age_35_39                    3309.0       0.038985       0.193587     0.0   \n",
              "age_40_49                    3309.0       0.043215       0.203373     0.0   \n",
              "merchant_item_count          3309.0       1.000000       0.000000     1.0   \n",
              "merchant_brand_count         3309.0       1.011786       0.107938     1.0   \n",
              "merchant_cat_count           3309.0    1888.225748     975.972765     1.0   \n",
              "user_merchant_count           165.0       1.000000       0.000000     1.0   \n",
              "user_cat_count                161.0       1.000000       0.000000     1.0   \n",
              "user_brand_count              165.0       1.109091       0.312702     1.0   \n",
              "user_merchant_brand_count    3309.0     231.189785     175.087904     1.0   \n",
              "user_merchant_cat_count      3309.0     231.189785     175.087904     1.0   \n",
              "user_merchant_day_cat_count  3309.0     175.610456     194.860745     1.0   \n",
              "\n",
              "                                  25%       50%       75%       max  \n",
              "user_id                      135595.0  196029.0  327778.0  414003.0  \n",
              "item_id                         650.0     650.0     653.0     798.0  \n",
              "cat_id                          656.0     656.0     656.0    1577.0  \n",
              "merchant_id                    3473.0    3473.0    3473.0    4850.0  \n",
              "brand_id                       3305.0    3305.0    3305.0    7863.0  \n",
              "action_type                       0.0       0.0       0.0       3.0  \n",
              "label                             0.0       0.0       0.0       1.0  \n",
              "Day                              10.0      11.0      11.0      31.0  \n",
              "Month                            11.0      11.0      11.0      11.0  \n",
              "activity_count                    9.0      16.0      21.0      24.0  \n",
              "click_count                       8.0      15.0      20.0      23.0  \n",
              "add_to_cart_count                 0.0       0.0       0.0       0.0  \n",
              "purchase_count                    1.0       1.0       1.0       2.0  \n",
              "favourite_count                   0.0       0.0       1.0       1.0  \n",
              "user_gender_female                1.0       1.0       1.0       1.0  \n",
              "user_gender_male                  0.0       0.0       0.0       1.0  \n",
              "user_gender_unknown               0.0       0.0       0.0       1.0  \n",
              "user_Click                        1.0       1.0       1.0       1.0  \n",
              "user_Add_to_cart                  0.0       0.0       0.0       0.0  \n",
              "user_purchase                     0.0       0.0       0.0       1.0  \n",
              "user_Add_to_favorite              0.0       0.0       0.0       1.0  \n",
              "age_0_18                          0.0       0.0       0.0       1.0  \n",
              "age_18_24                         0.0       0.0       0.0       1.0  \n",
              "age_25_29                         0.0       0.0       1.0       1.0  \n",
              "age_30_34                         0.0       0.0       0.0       1.0  \n",
              "age_35_39                         0.0       0.0       0.0       1.0  \n",
              "age_40_49                         0.0       0.0       0.0       1.0  \n",
              "merchant_item_count               1.0       1.0       1.0       1.0  \n",
              "merchant_brand_count              1.0       1.0       1.0       2.0  \n",
              "merchant_cat_count              366.0    2460.0    2460.0    2460.0  \n",
              "user_merchant_count               1.0       1.0       1.0       1.0  \n",
              "user_cat_count                    1.0       1.0       1.0       1.0  \n",
              "user_brand_count                  1.0       1.0       1.0       2.0  \n",
              "user_merchant_brand_count        65.0     226.0     401.0     530.0  \n",
              "user_merchant_cat_count          65.0     226.0     401.0     530.0  \n",
              "user_merchant_day_cat_count      19.0      60.0     381.0     530.0  "
            ],
            "text/html": [
              "\n",
              "  <div id=\"df-d6719d67-7671-4143-a69d-10c6ff00fc13\">\n",
              "    <div class=\"colab-df-container\">\n",
              "      <div>\n",
              "<style scoped>\n",
              "    .dataframe tbody tr th:only-of-type {\n",
              "        vertical-align: middle;\n",
              "    }\n",
              "\n",
              "    .dataframe tbody tr th {\n",
              "        vertical-align: top;\n",
              "    }\n",
              "\n",
              "    .dataframe thead th {\n",
              "        text-align: right;\n",
              "    }\n",
              "</style>\n",
              "<table border=\"1\" class=\"dataframe\">\n",
              "  <thead>\n",
              "    <tr style=\"text-align: right;\">\n",
              "      <th></th>\n",
              "      <th>count</th>\n",
              "      <th>mean</th>\n",
              "      <th>std</th>\n",
              "      <th>min</th>\n",
              "      <th>25%</th>\n",
              "      <th>50%</th>\n",
              "      <th>75%</th>\n",
              "      <th>max</th>\n",
              "    </tr>\n",
              "  </thead>\n",
              "  <tbody>\n",
              "    <tr>\n",
              "      <th>user_id</th>\n",
              "      <td>3309.0</td>\n",
              "      <td>224021.426111</td>\n",
              "      <td>114539.204219</td>\n",
              "      <td>6308.0</td>\n",
              "      <td>135595.0</td>\n",
              "      <td>196029.0</td>\n",
              "      <td>327778.0</td>\n",
              "      <td>414003.0</td>\n",
              "    </tr>\n",
              "    <tr>\n",
              "      <th>item_id</th>\n",
              "      <td>3309.0</td>\n",
              "      <td>660.195527</td>\n",
              "      <td>28.645514</td>\n",
              "      <td>644.0</td>\n",
              "      <td>650.0</td>\n",
              "      <td>650.0</td>\n",
              "      <td>653.0</td>\n",
              "      <td>798.0</td>\n",
              "    </tr>\n",
              "    <tr>\n",
              "      <th>cat_id</th>\n",
              "      <td>3309.0</td>\n",
              "      <td>634.822907</td>\n",
              "      <td>311.445412</td>\n",
              "      <td>35.0</td>\n",
              "      <td>656.0</td>\n",
              "      <td>656.0</td>\n",
              "      <td>656.0</td>\n",
              "      <td>1577.0</td>\n",
              "    </tr>\n",
              "    <tr>\n",
              "      <th>merchant_id</th>\n",
              "      <td>3309.0</td>\n",
              "      <td>3279.944394</td>\n",
              "      <td>1019.598601</td>\n",
              "      <td>252.0</td>\n",
              "      <td>3473.0</td>\n",
              "      <td>3473.0</td>\n",
              "      <td>3473.0</td>\n",
              "      <td>4850.0</td>\n",
              "    </tr>\n",
              "    <tr>\n",
              "      <th>brand_id</th>\n",
              "      <td>3309.0</td>\n",
              "      <td>3586.232699</td>\n",
              "      <td>1059.355053</td>\n",
              "      <td>799.0</td>\n",
              "      <td>3305.0</td>\n",
              "      <td>3305.0</td>\n",
              "      <td>3305.0</td>\n",
              "      <td>7863.0</td>\n",
              "    </tr>\n",
              "    <tr>\n",
              "      <th>action_type</th>\n",
              "      <td>3309.0</td>\n",
              "      <td>0.045331</td>\n",
              "      <td>0.323972</td>\n",
              "      <td>0.0</td>\n",
              "      <td>0.0</td>\n",
              "      <td>0.0</td>\n",
              "      <td>0.0</td>\n",
              "      <td>3.0</td>\n",
              "    </tr>\n",
              "    <tr>\n",
              "      <th>label</th>\n",
              "      <td>3309.0</td>\n",
              "      <td>0.011484</td>\n",
              "      <td>0.106562</td>\n",
              "      <td>0.0</td>\n",
              "      <td>0.0</td>\n",
              "      <td>0.0</td>\n",
              "      <td>0.0</td>\n",
              "      <td>1.0</td>\n",
              "    </tr>\n",
              "    <tr>\n",
              "      <th>Day</th>\n",
              "      <td>3309.0</td>\n",
              "      <td>11.218495</td>\n",
              "      <td>4.721091</td>\n",
              "      <td>1.0</td>\n",
              "      <td>10.0</td>\n",
              "      <td>11.0</td>\n",
              "      <td>11.0</td>\n",
              "      <td>31.0</td>\n",
              "    </tr>\n",
              "    <tr>\n",
              "      <th>Month</th>\n",
              "      <td>3309.0</td>\n",
              "      <td>10.867029</td>\n",
              "      <td>0.577567</td>\n",
              "      <td>5.0</td>\n",
              "      <td>11.0</td>\n",
              "      <td>11.0</td>\n",
              "      <td>11.0</td>\n",
              "      <td>11.0</td>\n",
              "    </tr>\n",
              "    <tr>\n",
              "      <th>activity_count</th>\n",
              "      <td>3309.0</td>\n",
              "      <td>14.993351</td>\n",
              "      <td>6.637073</td>\n",
              "      <td>1.0</td>\n",
              "      <td>9.0</td>\n",
              "      <td>16.0</td>\n",
              "      <td>21.0</td>\n",
              "      <td>24.0</td>\n",
              "    </tr>\n",
              "    <tr>\n",
              "      <th>click_count</th>\n",
              "      <td>3309.0</td>\n",
              "      <td>13.688728</td>\n",
              "      <td>6.518910</td>\n",
              "      <td>0.0</td>\n",
              "      <td>8.0</td>\n",
              "      <td>15.0</td>\n",
              "      <td>20.0</td>\n",
              "      <td>23.0</td>\n",
              "    </tr>\n",
              "    <tr>\n",
              "      <th>add_to_cart_count</th>\n",
              "      <td>3309.0</td>\n",
              "      <td>0.000000</td>\n",
              "      <td>0.000000</td>\n",
              "      <td>0.0</td>\n",
              "      <td>0.0</td>\n",
              "      <td>0.0</td>\n",
              "      <td>0.0</td>\n",
              "      <td>0.0</td>\n",
              "    </tr>\n",
              "    <tr>\n",
              "      <th>purchase_count</th>\n",
              "      <td>3309.0</td>\n",
              "      <td>0.911151</td>\n",
              "      <td>0.318646</td>\n",
              "      <td>0.0</td>\n",
              "      <td>1.0</td>\n",
              "      <td>1.0</td>\n",
              "      <td>1.0</td>\n",
              "      <td>2.0</td>\n",
              "    </tr>\n",
              "    <tr>\n",
              "      <th>favourite_count</th>\n",
              "      <td>3309.0</td>\n",
              "      <td>0.393472</td>\n",
              "      <td>0.488594</td>\n",
              "      <td>0.0</td>\n",
              "      <td>0.0</td>\n",
              "      <td>0.0</td>\n",
              "      <td>1.0</td>\n",
              "      <td>1.0</td>\n",
              "    </tr>\n",
              "    <tr>\n",
              "      <th>user_gender_female</th>\n",
              "      <td>3309.0</td>\n",
              "      <td>0.982170</td>\n",
              "      <td>0.132354</td>\n",
              "      <td>0.0</td>\n",
              "      <td>1.0</td>\n",
              "      <td>1.0</td>\n",
              "      <td>1.0</td>\n",
              "      <td>1.0</td>\n",
              "    </tr>\n",
              "    <tr>\n",
              "      <th>user_gender_male</th>\n",
              "      <td>3309.0</td>\n",
              "      <td>0.006951</td>\n",
              "      <td>0.083093</td>\n",
              "      <td>0.0</td>\n",
              "      <td>0.0</td>\n",
              "      <td>0.0</td>\n",
              "      <td>0.0</td>\n",
              "      <td>1.0</td>\n",
              "    </tr>\n",
              "    <tr>\n",
              "      <th>user_gender_unknown</th>\n",
              "      <td>3309.0</td>\n",
              "      <td>0.010879</td>\n",
              "      <td>0.103751</td>\n",
              "      <td>0.0</td>\n",
              "      <td>0.0</td>\n",
              "      <td>0.0</td>\n",
              "      <td>0.0</td>\n",
              "      <td>1.0</td>\n",
              "    </tr>\n",
              "    <tr>\n",
              "      <th>user_Click</th>\n",
              "      <td>3309.0</td>\n",
              "      <td>0.980054</td>\n",
              "      <td>0.139834</td>\n",
              "      <td>0.0</td>\n",
              "      <td>1.0</td>\n",
              "      <td>1.0</td>\n",
              "      <td>1.0</td>\n",
              "      <td>1.0</td>\n",
              "    </tr>\n",
              "    <tr>\n",
              "      <th>user_Add_to_cart</th>\n",
              "      <td>3309.0</td>\n",
              "      <td>0.000000</td>\n",
              "      <td>0.000000</td>\n",
              "      <td>0.0</td>\n",
              "      <td>0.0</td>\n",
              "      <td>0.0</td>\n",
              "      <td>0.0</td>\n",
              "      <td>0.0</td>\n",
              "    </tr>\n",
              "    <tr>\n",
              "      <th>user_purchase</th>\n",
              "      <td>3309.0</td>\n",
              "      <td>0.014506</td>\n",
              "      <td>0.119582</td>\n",
              "      <td>0.0</td>\n",
              "      <td>0.0</td>\n",
              "      <td>0.0</td>\n",
              "      <td>0.0</td>\n",
              "      <td>1.0</td>\n",
              "    </tr>\n",
              "    <tr>\n",
              "      <th>user_Add_to_favorite</th>\n",
              "      <td>3309.0</td>\n",
              "      <td>0.005440</td>\n",
              "      <td>0.073565</td>\n",
              "      <td>0.0</td>\n",
              "      <td>0.0</td>\n",
              "      <td>0.0</td>\n",
              "      <td>0.0</td>\n",
              "      <td>1.0</td>\n",
              "    </tr>\n",
              "    <tr>\n",
              "      <th>age_0_18</th>\n",
              "      <td>3309.0</td>\n",
              "      <td>0.159263</td>\n",
              "      <td>0.365976</td>\n",
              "      <td>0.0</td>\n",
              "      <td>0.0</td>\n",
              "      <td>0.0</td>\n",
              "      <td>0.0</td>\n",
              "      <td>1.0</td>\n",
              "    </tr>\n",
              "    <tr>\n",
              "      <th>age_18_24</th>\n",
              "      <td>3309.0</td>\n",
              "      <td>0.165005</td>\n",
              "      <td>0.371241</td>\n",
              "      <td>0.0</td>\n",
              "      <td>0.0</td>\n",
              "      <td>0.0</td>\n",
              "      <td>0.0</td>\n",
              "      <td>1.0</td>\n",
              "    </tr>\n",
              "    <tr>\n",
              "      <th>age_25_29</th>\n",
              "      <td>3309.0</td>\n",
              "      <td>0.408885</td>\n",
              "      <td>0.491702</td>\n",
              "      <td>0.0</td>\n",
              "      <td>0.0</td>\n",
              "      <td>0.0</td>\n",
              "      <td>1.0</td>\n",
              "      <td>1.0</td>\n",
              "    </tr>\n",
              "    <tr>\n",
              "      <th>age_30_34</th>\n",
              "      <td>3309.0</td>\n",
              "      <td>0.184648</td>\n",
              "      <td>0.388070</td>\n",
              "      <td>0.0</td>\n",
              "      <td>0.0</td>\n",
              "      <td>0.0</td>\n",
              "      <td>0.0</td>\n",
              "      <td>1.0</td>\n",
              "    </tr>\n",
              "    <tr>\n",
              "      <th>age_35_39</th>\n",
              "      <td>3309.0</td>\n",
              "      <td>0.038985</td>\n",
              "      <td>0.193587</td>\n",
              "      <td>0.0</td>\n",
              "      <td>0.0</td>\n",
              "      <td>0.0</td>\n",
              "      <td>0.0</td>\n",
              "      <td>1.0</td>\n",
              "    </tr>\n",
              "    <tr>\n",
              "      <th>age_40_49</th>\n",
              "      <td>3309.0</td>\n",
              "      <td>0.043215</td>\n",
              "      <td>0.203373</td>\n",
              "      <td>0.0</td>\n",
              "      <td>0.0</td>\n",
              "      <td>0.0</td>\n",
              "      <td>0.0</td>\n",
              "      <td>1.0</td>\n",
              "    </tr>\n",
              "    <tr>\n",
              "      <th>merchant_item_count</th>\n",
              "      <td>3309.0</td>\n",
              "      <td>1.000000</td>\n",
              "      <td>0.000000</td>\n",
              "      <td>1.0</td>\n",
              "      <td>1.0</td>\n",
              "      <td>1.0</td>\n",
              "      <td>1.0</td>\n",
              "      <td>1.0</td>\n",
              "    </tr>\n",
              "    <tr>\n",
              "      <th>merchant_brand_count</th>\n",
              "      <td>3309.0</td>\n",
              "      <td>1.011786</td>\n",
              "      <td>0.107938</td>\n",
              "      <td>1.0</td>\n",
              "      <td>1.0</td>\n",
              "      <td>1.0</td>\n",
              "      <td>1.0</td>\n",
              "      <td>2.0</td>\n",
              "    </tr>\n",
              "    <tr>\n",
              "      <th>merchant_cat_count</th>\n",
              "      <td>3309.0</td>\n",
              "      <td>1888.225748</td>\n",
              "      <td>975.972765</td>\n",
              "      <td>1.0</td>\n",
              "      <td>366.0</td>\n",
              "      <td>2460.0</td>\n",
              "      <td>2460.0</td>\n",
              "      <td>2460.0</td>\n",
              "    </tr>\n",
              "    <tr>\n",
              "      <th>user_merchant_count</th>\n",
              "      <td>165.0</td>\n",
              "      <td>1.000000</td>\n",
              "      <td>0.000000</td>\n",
              "      <td>1.0</td>\n",
              "      <td>1.0</td>\n",
              "      <td>1.0</td>\n",
              "      <td>1.0</td>\n",
              "      <td>1.0</td>\n",
              "    </tr>\n",
              "    <tr>\n",
              "      <th>user_cat_count</th>\n",
              "      <td>161.0</td>\n",
              "      <td>1.000000</td>\n",
              "      <td>0.000000</td>\n",
              "      <td>1.0</td>\n",
              "      <td>1.0</td>\n",
              "      <td>1.0</td>\n",
              "      <td>1.0</td>\n",
              "      <td>1.0</td>\n",
              "    </tr>\n",
              "    <tr>\n",
              "      <th>user_brand_count</th>\n",
              "      <td>165.0</td>\n",
              "      <td>1.109091</td>\n",
              "      <td>0.312702</td>\n",
              "      <td>1.0</td>\n",
              "      <td>1.0</td>\n",
              "      <td>1.0</td>\n",
              "      <td>1.0</td>\n",
              "      <td>2.0</td>\n",
              "    </tr>\n",
              "    <tr>\n",
              "      <th>user_merchant_brand_count</th>\n",
              "      <td>3309.0</td>\n",
              "      <td>231.189785</td>\n",
              "      <td>175.087904</td>\n",
              "      <td>1.0</td>\n",
              "      <td>65.0</td>\n",
              "      <td>226.0</td>\n",
              "      <td>401.0</td>\n",
              "      <td>530.0</td>\n",
              "    </tr>\n",
              "    <tr>\n",
              "      <th>user_merchant_cat_count</th>\n",
              "      <td>3309.0</td>\n",
              "      <td>231.189785</td>\n",
              "      <td>175.087904</td>\n",
              "      <td>1.0</td>\n",
              "      <td>65.0</td>\n",
              "      <td>226.0</td>\n",
              "      <td>401.0</td>\n",
              "      <td>530.0</td>\n",
              "    </tr>\n",
              "    <tr>\n",
              "      <th>user_merchant_day_cat_count</th>\n",
              "      <td>3309.0</td>\n",
              "      <td>175.610456</td>\n",
              "      <td>194.860745</td>\n",
              "      <td>1.0</td>\n",
              "      <td>19.0</td>\n",
              "      <td>60.0</td>\n",
              "      <td>381.0</td>\n",
              "      <td>530.0</td>\n",
              "    </tr>\n",
              "  </tbody>\n",
              "</table>\n",
              "</div>\n",
              "      <button class=\"colab-df-convert\" onclick=\"convertToInteractive('df-d6719d67-7671-4143-a69d-10c6ff00fc13')\"\n",
              "              title=\"Convert this dataframe to an interactive table.\"\n",
              "              style=\"display:none;\">\n",
              "        \n",
              "  <svg xmlns=\"http://www.w3.org/2000/svg\" height=\"24px\"viewBox=\"0 0 24 24\"\n",
              "       width=\"24px\">\n",
              "    <path d=\"M0 0h24v24H0V0z\" fill=\"none\"/>\n",
              "    <path d=\"M18.56 5.44l.94 2.06.94-2.06 2.06-.94-2.06-.94-.94-2.06-.94 2.06-2.06.94zm-11 1L8.5 8.5l.94-2.06 2.06-.94-2.06-.94L8.5 2.5l-.94 2.06-2.06.94zm10 10l.94 2.06.94-2.06 2.06-.94-2.06-.94-.94-2.06-.94 2.06-2.06.94z\"/><path d=\"M17.41 7.96l-1.37-1.37c-.4-.4-.92-.59-1.43-.59-.52 0-1.04.2-1.43.59L10.3 9.45l-7.72 7.72c-.78.78-.78 2.05 0 2.83L4 21.41c.39.39.9.59 1.41.59.51 0 1.02-.2 1.41-.59l7.78-7.78 2.81-2.81c.8-.78.8-2.07 0-2.86zM5.41 20L4 18.59l7.72-7.72 1.47 1.35L5.41 20z\"/>\n",
              "  </svg>\n",
              "      </button>\n",
              "      \n",
              "  <style>\n",
              "    .colab-df-container {\n",
              "      display:flex;\n",
              "      flex-wrap:wrap;\n",
              "      gap: 12px;\n",
              "    }\n",
              "\n",
              "    .colab-df-convert {\n",
              "      background-color: #E8F0FE;\n",
              "      border: none;\n",
              "      border-radius: 50%;\n",
              "      cursor: pointer;\n",
              "      display: none;\n",
              "      fill: #1967D2;\n",
              "      height: 32px;\n",
              "      padding: 0 0 0 0;\n",
              "      width: 32px;\n",
              "    }\n",
              "\n",
              "    .colab-df-convert:hover {\n",
              "      background-color: #E2EBFA;\n",
              "      box-shadow: 0px 1px 2px rgba(60, 64, 67, 0.3), 0px 1px 3px 1px rgba(60, 64, 67, 0.15);\n",
              "      fill: #174EA6;\n",
              "    }\n",
              "\n",
              "    [theme=dark] .colab-df-convert {\n",
              "      background-color: #3B4455;\n",
              "      fill: #D2E3FC;\n",
              "    }\n",
              "\n",
              "    [theme=dark] .colab-df-convert:hover {\n",
              "      background-color: #434B5C;\n",
              "      box-shadow: 0px 1px 3px 1px rgba(0, 0, 0, 0.15);\n",
              "      filter: drop-shadow(0px 1px 2px rgba(0, 0, 0, 0.3));\n",
              "      fill: #FFFFFF;\n",
              "    }\n",
              "  </style>\n",
              "\n",
              "      <script>\n",
              "        const buttonEl =\n",
              "          document.querySelector('#df-d6719d67-7671-4143-a69d-10c6ff00fc13 button.colab-df-convert');\n",
              "        buttonEl.style.display =\n",
              "          google.colab.kernel.accessAllowed ? 'block' : 'none';\n",
              "\n",
              "        async function convertToInteractive(key) {\n",
              "          const element = document.querySelector('#df-d6719d67-7671-4143-a69d-10c6ff00fc13');\n",
              "          const dataTable =\n",
              "            await google.colab.kernel.invokeFunction('convertToInteractive',\n",
              "                                                     [key], {});\n",
              "          if (!dataTable) return;\n",
              "\n",
              "          const docLinkHtml = 'Like what you see? Visit the ' +\n",
              "            '<a target=\"_blank\" href=https://colab.research.google.com/notebooks/data_table.ipynb>data table notebook</a>'\n",
              "            + ' to learn more about interactive tables.';\n",
              "          element.innerHTML = '';\n",
              "          dataTable['output_type'] = 'display_data';\n",
              "          await google.colab.output.renderOutput(dataTable, element);\n",
              "          const docLink = document.createElement('div');\n",
              "          docLink.innerHTML = docLinkHtml;\n",
              "          element.appendChild(docLink);\n",
              "        }\n",
              "      </script>\n",
              "    </div>\n",
              "  </div>\n",
              "  "
            ]
          },
          "metadata": {},
          "execution_count": 50
        }
      ]
    },
    {
      "cell_type": "code",
      "source": [
        "data.to_csv (r'/content/drive/MyDrive/CECS550/data_format1/train_complete_features.csv', index = False, header=True)"
      ],
      "metadata": {
        "id": "KFZVAhet3Mzo"
      },
      "execution_count": null,
      "outputs": []
    },
    {
      "cell_type": "markdown",
      "source": [
        "Feature Ranking"
      ],
      "metadata": {
        "id": "ehJCTUodBb1T"
      }
    },
    {
      "cell_type": "code",
      "source": [
        "# Import libraries\n",
        "from sklearn.feature_selection import mutual_info_classif\n",
        "import pandas as pd\n",
        "import matplotlib.pyplot as plt\n",
        "\n",
        "\n",
        "# Separate features and target\n",
        "X = data.drop('label', axis=1)\n",
        "X.fillna(0, inplace=True)\n",
        "y = data['label']\n",
        "\n",
        "# Calculate mutual information between features and target\n",
        "mi_scores = mutual_info_classif(X, y)\n",
        "\n",
        "# Create dataframe to store feature scores\n",
        "feature_scores = pd.DataFrame({'Feature': X.columns, 'MI Score': mi_scores})\n",
        "\n",
        "# Sort features by MI scores in descending order\n",
        "feature_scores = feature_scores.sort_values('MI Score', ascending=False)\n",
        "\n",
        "# Print feature ranking\n",
        "print(feature_scores)\n",
        "mi_scores_feature_importance = dict(zip(X.columns, mi_scores))\n",
        "\n",
        "\n",
        "\n",
        "# Plot feature importances\n",
        "plt.figure()\n",
        "plt.title(\"Mutual Information Scores\")\n",
        "plt.bar(feature_scores['Feature'], feature_scores['MI Score'])\n",
        "plt.xticks(rotation='vertical')\n",
        "plt.subplots_adjust(bottom=0.3)\n",
        "plt.show()\n"
      ],
      "metadata": {
        "id": "WMd-rLtM7a26",
        "colab": {
          "base_uri": "https://localhost:8080/",
          "height": 1000
        },
        "outputId": "e79d423a-09b7-478e-b8b5-9ba5d2479946"
      },
      "execution_count": null,
      "outputs": [
        {
          "output_type": "stream",
          "name": "stdout",
          "text": [
            "                        Feature  MI Score\n",
            "33      user_merchant_cat_count  0.047874\n",
            "32    user_merchant_brand_count  0.047222\n",
            "8                activity_count  0.044747\n",
            "0                       user_id  0.037655\n",
            "34  user_merchant_day_cat_count  0.036526\n",
            "9                   click_count  0.034924\n",
            "28           merchant_cat_count  0.030913\n",
            "1                       item_id  0.030142\n",
            "3                   merchant_id  0.027390\n",
            "4                      brand_id  0.026619\n",
            "2                        cat_id  0.026384\n",
            "11               purchase_count  0.015439\n",
            "7                         Month  0.014435\n",
            "27         merchant_brand_count  0.007398\n",
            "13           user_gender_female  0.007220\n",
            "6                           Day  0.006449\n",
            "15          user_gender_unknown  0.005331\n",
            "29          user_merchant_count  0.005283\n",
            "12              favourite_count  0.004984\n",
            "23                    age_30_34  0.004916\n",
            "24                    age_35_39  0.004268\n",
            "30               user_cat_count  0.004177\n",
            "31             user_brand_count  0.003834\n",
            "22                    age_25_29  0.003086\n",
            "20                     age_0_18  0.002371\n",
            "10            add_to_cart_count  0.001540\n",
            "16                   user_Click  0.001431\n",
            "18                user_purchase  0.000898\n",
            "21                    age_18_24  0.000636\n",
            "17             user_Add_to_cart  0.000524\n",
            "26          merchant_item_count  0.000000\n",
            "25                    age_40_49  0.000000\n",
            "19         user_Add_to_favorite  0.000000\n",
            "14             user_gender_male  0.000000\n",
            "5                   action_type  0.000000\n"
          ]
        },
        {
          "output_type": "display_data",
          "data": {
            "text/plain": [
              "<Figure size 640x480 with 1 Axes>"
            ],
            "image/png": "[encoded data removed]"
          },
          "metadata": {}
        }
      ]
    },
    {
      "cell_type": "code",
      "source": [
        "from sklearn.ensemble import RandomForestClassifier\n",
        "import pandas as pd\n",
        "\n",
        "\n",
        "# Split data into X and y\n",
        "X = data.drop(\"label\", axis=1)\n",
        "y = data[\"label\"]\n",
        "X.fillna(0,inplace=True)\n",
        "# Train random forest classifier\n",
        "rf = RandomForestClassifier()\n",
        "rf.fit(X, y)\n",
        "\n",
        "importances = rf.feature_importances_\n",
        "\n",
        "# Sort features by importance score\n",
        "indices = importances.argsort()[::-1]\n",
        "\n",
        "# Print feature ranking\n",
        "rf_feature_importance_dict = dict()\n",
        "print(\"Feature ranking:\")\n",
        "for f in range(X.shape[1]):\n",
        "    print(f\"{f+1}. {X.columns[indices[f]]}: {importances[indices[f]]}\")\n",
        "    rf_feature_importance_dict[X.columns[indices[f]]]=importances[indices[f]]\n",
        "\n",
        "# Plot feature importances\n",
        "plt.figure()\n",
        "plt.title(\"Feature importances\")\n",
        "plt.bar(range(X.shape[1]), importances[indices])\n",
        "plt.xticks(range(X.shape[1]), X.columns[indices], rotation='vertical')\n",
        "plt.subplots_adjust(bottom=0.3)\n",
        "plt.show()"
      ],
      "metadata": {
        "colab": {
          "base_uri": "https://localhost:8080/",
          "height": 1000
        },
        "id": "kuftO3c3BdV7",
        "outputId": "5fe44973-7033-493f-e950-d44d6e9efad5"
      },
      "execution_count": null,
      "outputs": [
        {
          "output_type": "stream",
          "name": "stdout",
          "text": [
            "Feature ranking:\n",
            "1. user_id: 0.15652247154205465\n",
            "2. user_merchant_brand_count: 0.10455674333431604\n",
            "3. activity_count: 0.07559986154967821\n",
            "4. Day: 0.06761428469807265\n",
            "5. user_merchant_cat_count: 0.06507805745321814\n",
            "6. click_count: 0.06402553302930829\n",
            "7. merchant_id: 0.05250352779775389\n",
            "8. brand_id: 0.04696871053113712\n",
            "9. user_merchant_day_cat_count: 0.04065636489767014\n",
            "10. merchant_cat_count: 0.038414014088815396\n",
            "11. Month: 0.03480858029745162\n",
            "12. cat_id: 0.033280181932617656\n",
            "13. item_id: 0.032283362433347285\n",
            "14. merchant_brand_count: 0.027475140952276825\n",
            "15. age_30_34: 0.022926852340315027\n",
            "16. user_gender_unknown: 0.018194227750699874\n",
            "17. age_35_39: 0.01627721110710749\n",
            "18. user_cat_count: 0.012855352858312175\n",
            "19. purchase_count: 0.011318314344878275\n",
            "20. user_merchant_count: 0.010841089502918195\n",
            "21. user_gender_female: 0.010209708966270188\n",
            "22. age_25_29: 0.010085529466401271\n",
            "23. age_40_49: 0.008389312935909377\n",
            "24. user_brand_count: 0.008205421810808433\n",
            "25. age_18_24: 0.007741652535638348\n",
            "26. age_0_18: 0.007679201519175284\n",
            "27. user_gender_male: 0.004127520244183561\n",
            "28. action_type: 0.0026729086297388347\n",
            "29. user_Click: 0.0025072656483451435\n",
            "30. favourite_count: 0.002448415228826176\n",
            "31. user_Add_to_favorite: 0.0020569035549023473\n",
            "32. user_purchase: 0.0016762770178520687\n",
            "33. add_to_cart_count: 0.0\n",
            "34. merchant_item_count: 0.0\n",
            "35. user_Add_to_cart: 0.0\n"
          ]
        },
        {
          "output_type": "display_data",
          "data": {
            "text/plain": [
              "<Figure size 640x480 with 1 Axes>"
            ],
            "image/png": "[encoded data removed]"
          },
          "metadata": {}
        }
      ]
    },
    {
      "cell_type": "code",
      "source": [
        "from xgboost import XGBClassifier\n",
        "import pandas as pd\n",
        "\n",
        "\n",
        "# Split data into X and y\n",
        "X = data.drop(\"label\", axis=1)\n",
        "y = data[\"label\"]\n",
        "# Train XGBoost classifier\n",
        "xgb_model = XGBClassifier(n_estimators=100, random_state=42)\n",
        "xgb_model.fit(X, y)\n",
        "\n",
        "# Get feature importance scores\n",
        "importances = xgb_model.feature_importances_\n",
        "\n",
        "# Sort features by importance score\n",
        "indices = importances.argsort()[::-1]\n",
        "\n",
        "xgb_feature_importance_dict = dict()\n",
        "# Print feature ranking\n",
        "print(\"Feature ranking:\")\n",
        "for f in range(X.shape[1]):\n",
        "    print(f\"{f+1}. {X.columns[indices[f]]}: {importances[indices[f]]}\")\n",
        "    xgb_feature_importance_dict[X.columns[indices[f]]]=importances[indices[f]]\n",
        "\n",
        "\n",
        "# Plot feature importances\n",
        "plt.figure()\n",
        "plt.title(\"Feature importances\")\n",
        "plt.bar(range(X.shape[1]), importances[indices])\n",
        "plt.xticks(range(X.shape[1]), X.columns[indices], rotation='vertical')\n",
        "plt.subplots_adjust(bottom=0.3)\n",
        "plt.show()"
      ],
      "metadata": {
        "colab": {
          "base_uri": "https://localhost:8080/",
          "height": 1000
        },
        "id": "881fET0CCFfm",
        "outputId": "9162538b-f0ce-4244-da4f-7f49dc89b2bb"
      },
      "execution_count": null,
      "outputs": [
        {
          "output_type": "stream",
          "name": "stdout",
          "text": [
            "Feature ranking:\n",
            "1. click_count: 0.23939669132232666\n",
            "2. merchant_brand_count: 0.22854925692081451\n",
            "3. activity_count: 0.15933385491371155\n",
            "4. age_40_49: 0.11420058459043503\n",
            "5. Day: 0.060186538845300674\n",
            "6. age_30_34: 0.046633053570985794\n",
            "7. merchant_id: 0.035900916904211044\n",
            "8. user_id: 0.03108569234609604\n",
            "9. user_cat_count: 0.018214095383882523\n",
            "10. user_merchant_day_cat_count: 0.01318058930337429\n",
            "11. item_id: 0.012836961075663567\n",
            "12. age_35_39: 0.012246851809322834\n",
            "13. brand_id: 0.007431583013385534\n",
            "14. cat_id: 0.006994405761361122\n",
            "15. age_25_29: 0.006849354598671198\n",
            "16. merchant_cat_count: 0.0065419734455645084\n",
            "17. purchase_count: 0.0004175342619419098\n",
            "18. user_merchant_brand_count: 0.0\n",
            "19. action_type: 0.0\n",
            "20. user_brand_count: 0.0\n",
            "21. Month: 0.0\n",
            "22. user_merchant_count: 0.0\n",
            "23. add_to_cart_count: 0.0\n",
            "24. favourite_count: 0.0\n",
            "25. merchant_item_count: 0.0\n",
            "26. user_gender_female: 0.0\n",
            "27. user_gender_male: 0.0\n",
            "28. user_gender_unknown: 0.0\n",
            "29. user_Click: 0.0\n",
            "30. user_merchant_cat_count: 0.0\n",
            "31. user_purchase: 0.0\n",
            "32. user_Add_to_favorite: 0.0\n",
            "33. age_0_18: 0.0\n",
            "34. age_18_24: 0.0\n",
            "35. user_Add_to_cart: 0.0\n"
          ]
        },
        {
          "output_type": "display_data",
          "data": {
            "text/plain": [
              "<Figure size 640x480 with 1 Axes>"
            ],
            "image/png": "[encoded data removed]"
          },
          "metadata": {}
        }
      ]
    },
    {
      "cell_type": "code",
      "source": [
        "# Import libraries\n",
        "from sklearn.ensemble import RandomForestClassifier\n",
        "from sklearn.inspection import permutation_importance\n",
        "import pandas as pd\n",
        "import matplotlib.pyplot as plt\n",
        "\n",
        "\n",
        "# Separate features and target\n",
        "X = data.drop('label', axis=1)\n",
        "y = data['label']\n",
        "\n",
        "# Fill NaN values with 0\n",
        "X.fillna(0, inplace=True)\n",
        "\n",
        "# Train Random Forest classifier\n",
        "rf = RandomForestClassifier()\n",
        "rf.fit(X, y)\n",
        "\n",
        "# Calculate permutation importances\n",
        "result = permutation_importance(rf, X, y, n_repeats=10)\n",
        "\n",
        "# Get feature importances\n",
        "importances = result.importances_mean\n",
        "\n",
        "# Sort feature importances\n",
        "sorted_importances = sorted(zip(X.columns, importances), key=lambda x: x[1], reverse=True)\n",
        "\n",
        "permutation_import_feature_importance_dict = dict()\n",
        "# Print feature importances in sorted order\n",
        "for feature, importance in sorted_importances:\n",
        "    print(f\"{feature}: {importance}\")\n",
        "    permutation_import_feature_importance_dict[feature]=importance\n",
        "\n",
        "# Plot feature importances\n",
        "plt.figure()\n",
        "plt.title(\"Permutation Importances\")\n",
        "plt.bar([x[0] for x in sorted_importances], [x[1] for x in sorted_importances])\n",
        "plt.xticks(rotation='vertical')\n",
        "plt.subplots_adjust(bottom=0.3)\n",
        "plt.show()\n"
      ],
      "metadata": {
        "colab": {
          "base_uri": "https://localhost:8080/",
          "height": 1000
        },
        "id": "qXkdLUx6CTmT",
        "outputId": "685884a6-e74e-499f-9e5b-f723bfd8bebc"
      },
      "execution_count": null,
      "outputs": [
        {
          "output_type": "stream",
          "name": "stdout",
          "text": [
            "user_merchant_cat_count: 0.0022665457842248604\n",
            "user_merchant_brand_count: 0.0014203686914475377\n",
            "merchant_id: 0.001269265639165873\n",
            "user_id: 0.0009368389241462771\n",
            "item_id: 0.0008461770927773226\n",
            "click_count: 0.0005439709882139931\n",
            "Day: 0.00048352976730132725\n",
            "age_30_34: 0.00048352976730132725\n",
            "activity_count: 0.0003022061045633295\n",
            "age_35_39: 0.0003022061045633295\n",
            "age_40_49: 0.0003022061045633295\n",
            "merchant_cat_count: 0.0003022061045633295\n",
            "brand_id: 0.00027198549410699656\n",
            "Month: 0.00027198549410699656\n",
            "cat_id: 0.00024176488365066363\n",
            "action_type: 0.0\n",
            "add_to_cart_count: 0.0\n",
            "purchase_count: 0.0\n",
            "favourite_count: 0.0\n",
            "user_gender_female: 0.0\n",
            "user_gender_male: 0.0\n",
            "user_gender_unknown: 0.0\n",
            "user_Click: 0.0\n",
            "user_Add_to_cart: 0.0\n",
            "user_purchase: 0.0\n",
            "user_Add_to_favorite: 0.0\n",
            "age_0_18: 0.0\n",
            "age_18_24: 0.0\n",
            "age_25_29: 0.0\n",
            "merchant_item_count: 0.0\n",
            "merchant_brand_count: 0.0\n",
            "user_merchant_count: 0.0\n",
            "user_cat_count: 0.0\n",
            "user_brand_count: 0.0\n",
            "user_merchant_day_cat_count: 0.0\n"
          ]
        },
        {
          "output_type": "display_data",
          "data": {
            "text/plain": [
              "<Figure size 640x480 with 1 Axes>"
            ],
            "image/png": "[encoded data removed]"
          },
          "metadata": {}
        }
      ]
    },
    {
      "cell_type": "code",
      "source": [
        "\n",
        "# Create a dictionary to store the combined importance scores\n",
        "combined_dict = {}\n",
        "\n",
        "# Loop over all features in the four dictionaries\n",
        "for feature in rf_feature_importance_dict.keys():\n",
        "    \n",
        "    # Add the importance scores of the feature from all four dictionaries\n",
        "    combined_score = rf_feature_importance_dict[feature] + mi_scores_feature_importance[feature] + permutation_import_feature_importance_dict[feature] + xgb_feature_importance_dict[feature]\n",
        "    \n",
        "    # Store the combined importance score for the feature in the combined dictionary\n",
        "    combined_dict[feature] = combined_score\n",
        "\n",
        "# Sort the features by their combined importance scores in descending order\n",
        "sorted_features = sorted(combined_dict.items(), key=lambda x: x[1], reverse=True)\n",
        "\n",
        "for feature, importance in sorted_features:\n",
        "    print(f\"{feature}: {importance}\")\n",
        "\n",
        "plt.figure()\n",
        "plt.title(\"Combined Importances\")\n",
        "plt.bar([x[0] for x in sorted_features], [x[1] for x in sorted_features])\n",
        "plt.xticks(rotation='vertical')\n",
        "plt.subplots_adjust(bottom=0.3)\n",
        "plt.show()\n",
        "\n"
      ],
      "metadata": {
        "colab": {
          "base_uri": "https://localhost:8080/",
          "height": 1000
        },
        "id": "3o3m_1gnDL0f",
        "outputId": "7cffe611-2c9a-47a0-bd91-d49323fbfd45"
      },
      "execution_count": null,
      "outputs": [
        {
          "output_type": "stream",
          "name": "stdout",
          "text": [
            "click_count: 0.33889018688608996\n",
            "activity_count: 0.2799826026399538\n",
            "merchant_brand_count: 0.2634225976136491\n",
            "user_id: 0.22619957605402868\n",
            "user_merchant_brand_count: 0.15319868581423615\n",
            "Day: 0.13473324500831407\n",
            "age_40_49: 0.12289210363090773\n",
            "merchant_id: 0.11706349527750859\n",
            "user_merchant_cat_count: 0.11521878773622922\n",
            "user_merchant_day_cat_count: 0.0903629886233848\n",
            "brand_id: 0.08129084825101368\n",
            "merchant_cat_count: 0.07617094227246612\n",
            "item_id: 0.07610838037971598\n",
            "age_30_34: 0.07495990851975574\n",
            "cat_id: 0.06690019161264685\n",
            "Month: 0.04951558628859277\n",
            "user_cat_count: 0.03524633646455176\n",
            "age_35_39: 0.03309407352306708\n",
            "purchase_count: 0.027175329806431656\n",
            "user_gender_unknown: 0.023525685928052684\n",
            "age_25_29: 0.020021375361690446\n",
            "user_gender_female: 0.017430098312927328\n",
            "user_merchant_count: 0.016123921029478034\n",
            "user_brand_count: 0.012039484565588699\n",
            "age_0_18: 0.010050584709584365\n",
            "age_18_24: 0.008377679155659505\n",
            "favourite_count: 0.007432497784987405\n",
            "user_gender_male: 0.004127520244183561\n",
            "user_Click: 0.003937872925152915\n",
            "action_type: 0.0026729086297388347\n",
            "user_purchase: 0.0025738742854275027\n",
            "user_Add_to_favorite: 0.0020569035549023473\n",
            "add_to_cart_count: 0.00153991500427475\n",
            "user_Add_to_cart: 0.0005242847492595848\n",
            "merchant_item_count: 0.0\n"
          ]
        },
        {
          "output_type": "display_data",
          "data": {
            "text/plain": [
              "<Figure size 640x480 with 1 Axes>"
            ],
            "image/png": "[encoded data removed]"
          },
          "metadata": {}
        }
      ]
    },
    {
      "cell_type": "code",
      "source": [
        "from imblearn.over_sampling import SMOTE\n",
        "from sklearn.compose import make_column_transformer\n",
        "from sklearn.decomposition import PCA\n",
        "from sklearn.impute import SimpleImputer\n",
        "from sklearn.pipeline import make_pipeline\n",
        "from sklearn.preprocessing import StandardScaler\n",
        "import matplotlib.pyplot as plt\n",
        "\n",
        "# Select columns\n",
        "selected_columns = data.columns.tolist()\n",
        "selected_columns.remove('user_id')\n",
        "selected_columns.remove('label')\n",
        "\n",
        "# Define data preprocessing pipeline\n",
        "preprocessing_pipeline = make_pipeline(\n",
        "    SimpleImputer(strategy='mean'),\n",
        "    StandardScaler(),\n",
        "    PCA()\n",
        ")\n",
        "\n",
        "# Fit and transform the data\n",
        "X = data[selected_columns]\n",
        "y = data['label']\n",
        "X.fillna(0,inplace=True)\n",
        "X_resampled, y_resampled = SMOTE().fit_resample(X, y)\n",
        "X_transformed = preprocessing_pipeline.fit_transform(X_resampled)\n",
        "\n",
        "# Plot PCA analysis\n",
        "plt.plot(range(1, len(pca.explained_variance_ratio_) + 1), pca.explained_variance_ratio_.cumsum())\n",
        "plt.xlabel('Number of Components')\n",
        "plt.ylabel('Cumulative Explained Variance')\n",
        "plt.title('PCA Analysis')\n",
        "plt.show()\n",
        "\n",
        "# Determine optimal number of components\n",
        "optimal_components = (pca.explained_variance_ratio_.cumsum() >= 0.95).argmax() + 1\n",
        "print(\"Number of optimal components: \", optimal_components)\n"
      ],
      "metadata": {
        "colab": {
          "base_uri": "https://localhost:8080/",
          "height": 576
        },
        "id": "g8l9IUp5tQ_N",
        "outputId": "d117c59e-9928-4cb9-9eb9-33819d9f30d9"
      },
      "execution_count": null,
      "outputs": [
        {
          "output_type": "stream",
          "name": "stderr",
          "text": [
            "<ipython-input-65-0aecdc6ffdcd>:24: SettingWithCopyWarning: \n",
            "A value is trying to be set on a copy of a slice from a DataFrame\n",
            "\n",
            "See the caveats in the documentation: https://pandas.pydata.org/pandas-docs/stable/user_guide/indexing.html#returning-a-view-versus-a-copy\n",
            "  X.fillna(0,inplace=True)\n"
          ]
        },
        {
          "output_type": "display_data",
          "data": {
            "text/plain": [
              "<Figure size 640x480 with 1 Axes>"
            ],
            "image/png": "[encoded data removed]"
          },
          "metadata": {}
        },
        {
          "output_type": "stream",
          "name": "stdout",
          "text": [
            "Number of optimal components:  15\n"
          ]
        }
      ]
    },
    {
      "cell_type": "code",
      "source": [],
      "metadata": {
        "id": "aPYQ4nJ6t-an"
      },
      "execution_count": null,
      "outputs": []
    }
  ]
}