{
  "nbformat": 4,
  "nbformat_minor": 0,
  "metadata": {
    "colab": {
      "provenance": []
    },
    "kernelspec": {
      "name": "python3",
      "display_name": "Python 3"
    },
    "language_info": {
      "name": "python"
    }
  },
  "cells": [
    {
      "cell_type": "code",
      "execution_count": 1,
      "metadata": {
        "id": "veUxg4JY46L4"
      },
      "outputs": [],
      "source": [
        "import pandas as pd\n",
        "import numpy as np\n",
        "from sklearn.preprocessing import label_binarize\n",
        "import matplotlib.pyplot as plt"
      ]
    },
    {
      "cell_type": "code",
      "source": [
        "user_info = pd.read_csv(\"/content/drive/MyDrive/CECS550/data_format1/user_info_format1.csv\");\n",
        "user_log = pd.read_csv(\"/content/drive/MyDrive/CECS550/data_format1/user_log_format1.csv\");\n",
        "train_format = pd.read_csv(\"/content/drive/MyDrive/CECS550/data_format1/train_format1.csv\");\n"
      ],
      "metadata": {
        "id": "8HWOwdnR5BhH"
      },
      "execution_count": 2,
      "outputs": []
    },
    {
      "cell_type": "code",
      "source": [
        "user_log = user_log[(user_log['item_id']>=641) & (user_log['item_id'] <=800)]\n",
        "# user_log.to_csv(\"/content/drive/MyDrive/CECS550/data_format1/user_log_modified.csv\",index=False)"
      ],
      "metadata": {
        "id": "uYNSMfsm5G5v"
      },
      "execution_count": 3,
      "outputs": []
    },
    {
      "cell_type": "code",
      "source": [
        "user_info.columns"
      ],
      "metadata": {
        "id": "JRnZK_Pw9z6I",
        "colab": {
          "base_uri": "https://localhost:8080/"
        },
        "outputId": "1b7f0660-796c-42ce-d400-537cdaf4f222"
      },
      "execution_count": 4,
      "outputs": [
        {
          "output_type": "execute_result",
          "data": {
            "text/plain": [
              "Index(['user_id', 'age_range', 'gender'], dtype='object')"
            ]
          },
          "metadata": {},
          "execution_count": 4
        }
      ]
    },
    {
      "cell_type": "code",
      "source": [
        "user_log.columns"
      ],
      "metadata": {
        "id": "0aGrUgG_958l",
        "colab": {
          "base_uri": "https://localhost:8080/"
        },
        "outputId": "c27a8e05-c98c-4e56-9194-1596169da150"
      },
      "execution_count": 5,
      "outputs": [
        {
          "output_type": "execute_result",
          "data": {
            "text/plain": [
              "Index(['user_id', 'item_id', 'cat_id', 'seller_id', 'brand_id', 'time_stamp',\n",
              "       'action_type'],\n",
              "      dtype='object')"
            ]
          },
          "metadata": {},
          "execution_count": 5
        }
      ]
    },
    {
      "cell_type": "code",
      "source": [
        "train_format.columns"
      ],
      "metadata": {
        "id": "oj6MCZZE98Pg",
        "colab": {
          "base_uri": "https://localhost:8080/"
        },
        "outputId": "2d8ae447-6753-448c-a8a0-fa959ffe03d8"
      },
      "execution_count": 6,
      "outputs": [
        {
          "output_type": "execute_result",
          "data": {
            "text/plain": [
              "Index(['user_id', 'merchant_id', 'label'], dtype='object')"
            ]
          },
          "metadata": {},
          "execution_count": 6
        }
      ]
    },
    {
      "cell_type": "code",
      "source": [
        "user_log = user_log.rename(columns={'seller_id': 'merchant_id'})"
      ],
      "metadata": {
        "id": "v-146jFN5JYo"
      },
      "execution_count": 7,
      "outputs": []
    },
    {
      "cell_type": "code",
      "source": [
        "data = pd.merge(user_log, user_info, on='user_id', how='left')\n",
        "train_format.head()"
      ],
      "metadata": {
        "id": "IwJrO3MN5SRG",
        "colab": {
          "base_uri": "https://localhost:8080/",
          "height": 206
        },
        "outputId": "c24ebb7a-1cc3-4388-93b3-3d66e62ed630"
      },
      "execution_count": 8,
      "outputs": [
        {
          "output_type": "execute_result",
          "data": {
            "text/plain": [
              "   user_id  merchant_id  label\n",
              "0    34176         3906      0\n",
              "1    34176          121      0\n",
              "2    34176         4356      1\n",
              "3    34176         2217      0\n",
              "4   230784         4818      0"
            ],
            "text/html": [
              "\n",
              "  <div id=\"df-1d96094a-08c5-4078-8bd5-f39e3cc078a6\">\n",
              "    <div class=\"colab-df-container\">\n",
              "      <div>\n",
              "<style scoped>\n",
              "    .dataframe tbody tr th:only-of-type {\n",
              "        vertical-align: middle;\n",
              "    }\n",
              "\n",
              "    .dataframe tbody tr th {\n",
              "        vertical-align: top;\n",
              "    }\n",
              "\n",
              "    .dataframe thead th {\n",
              "        text-align: right;\n",
              "    }\n",
              "</style>\n",
              "<table border=\"1\" class=\"dataframe\">\n",
              "  <thead>\n",
              "    <tr style=\"text-align: right;\">\n",
              "      <th></th>\n",
              "      <th>user_id</th>\n",
              "      <th>merchant_id</th>\n",
              "      <th>label</th>\n",
              "    </tr>\n",
              "  </thead>\n",
              "  <tbody>\n",
              "    <tr>\n",
              "      <th>0</th>\n",
              "      <td>34176</td>\n",
              "      <td>3906</td>\n",
              "      <td>0</td>\n",
              "    </tr>\n",
              "    <tr>\n",
              "      <th>1</th>\n",
              "      <td>34176</td>\n",
              "      <td>121</td>\n",
              "      <td>0</td>\n",
              "    </tr>\n",
              "    <tr>\n",
              "      <th>2</th>\n",
              "      <td>34176</td>\n",
              "      <td>4356</td>\n",
              "      <td>1</td>\n",
              "    </tr>\n",
              "    <tr>\n",
              "      <th>3</th>\n",
              "      <td>34176</td>\n",
              "      <td>2217</td>\n",
              "      <td>0</td>\n",
              "    </tr>\n",
              "    <tr>\n",
              "      <th>4</th>\n",
              "      <td>230784</td>\n",
              "      <td>4818</td>\n",
              "      <td>0</td>\n",
              "    </tr>\n",
              "  </tbody>\n",
              "</table>\n",
              "</div>\n",
              "      <button class=\"colab-df-convert\" onclick=\"convertToInteractive('df-1d96094a-08c5-4078-8bd5-f39e3cc078a6')\"\n",
              "              title=\"Convert this dataframe to an interactive table.\"\n",
              "              style=\"display:none;\">\n",
              "        \n",
              "  <svg xmlns=\"http://www.w3.org/2000/svg\" height=\"24px\"viewBox=\"0 0 24 24\"\n",
              "       width=\"24px\">\n",
              "    <path d=\"M0 0h24v24H0V0z\" fill=\"none\"/>\n",
              "    <path d=\"M18.56 5.44l.94 2.06.94-2.06 2.06-.94-2.06-.94-.94-2.06-.94 2.06-2.06.94zm-11 1L8.5 8.5l.94-2.06 2.06-.94-2.06-.94L8.5 2.5l-.94 2.06-2.06.94zm10 10l.94 2.06.94-2.06 2.06-.94-2.06-.94-.94-2.06-.94 2.06-2.06.94z\"/><path d=\"M17.41 7.96l-1.37-1.37c-.4-.4-.92-.59-1.43-.59-.52 0-1.04.2-1.43.59L10.3 9.45l-7.72 7.72c-.78.78-.78 2.05 0 2.83L4 21.41c.39.39.9.59 1.41.59.51 0 1.02-.2 1.41-.59l7.78-7.78 2.81-2.81c.8-.78.8-2.07 0-2.86zM5.41 20L4 18.59l7.72-7.72 1.47 1.35L5.41 20z\"/>\n",
              "  </svg>\n",
              "      </button>\n",
              "      \n",
              "  <style>\n",
              "    .colab-df-container {\n",
              "      display:flex;\n",
              "      flex-wrap:wrap;\n",
              "      gap: 12px;\n",
              "    }\n",
              "\n",
              "    .colab-df-convert {\n",
              "      background-color: #E8F0FE;\n",
              "      border: none;\n",
              "      border-radius: 50%;\n",
              "      cursor: pointer;\n",
              "      display: none;\n",
              "      fill: #1967D2;\n",
              "      height: 32px;\n",
              "      padding: 0 0 0 0;\n",
              "      width: 32px;\n",
              "    }\n",
              "\n",
              "    .colab-df-convert:hover {\n",
              "      background-color: #E2EBFA;\n",
              "      box-shadow: 0px 1px 2px rgba(60, 64, 67, 0.3), 0px 1px 3px 1px rgba(60, 64, 67, 0.15);\n",
              "      fill: #174EA6;\n",
              "    }\n",
              "\n",
              "    [theme=dark] .colab-df-convert {\n",
              "      background-color: #3B4455;\n",
              "      fill: #D2E3FC;\n",
              "    }\n",
              "\n",
              "    [theme=dark] .colab-df-convert:hover {\n",
              "      background-color: #434B5C;\n",
              "      box-shadow: 0px 1px 3px 1px rgba(0, 0, 0, 0.15);\n",
              "      filter: drop-shadow(0px 1px 2px rgba(0, 0, 0, 0.3));\n",
              "      fill: #FFFFFF;\n",
              "    }\n",
              "  </style>\n",
              "\n",
              "      <script>\n",
              "        const buttonEl =\n",
              "          document.querySelector('#df-1d96094a-08c5-4078-8bd5-f39e3cc078a6 button.colab-df-convert');\n",
              "        buttonEl.style.display =\n",
              "          google.colab.kernel.accessAllowed ? 'block' : 'none';\n",
              "\n",
              "        async function convertToInteractive(key) {\n",
              "          const element = document.querySelector('#df-1d96094a-08c5-4078-8bd5-f39e3cc078a6');\n",
              "          const dataTable =\n",
              "            await google.colab.kernel.invokeFunction('convertToInteractive',\n",
              "                                                     [key], {});\n",
              "          if (!dataTable) return;\n",
              "\n",
              "          const docLinkHtml = 'Like what you see? Visit the ' +\n",
              "            '<a target=\"_blank\" href=https://colab.research.google.com/notebooks/data_table.ipynb>data table notebook</a>'\n",
              "            + ' to learn more about interactive tables.';\n",
              "          element.innerHTML = '';\n",
              "          dataTable['output_type'] = 'display_data';\n",
              "          await google.colab.output.renderOutput(dataTable, element);\n",
              "          const docLink = document.createElement('div');\n",
              "          docLink.innerHTML = docLinkHtml;\n",
              "          element.appendChild(docLink);\n",
              "        }\n",
              "      </script>\n",
              "    </div>\n",
              "  </div>\n",
              "  "
            ]
          },
          "metadata": {},
          "execution_count": 8
        }
      ]
    },
    {
      "cell_type": "code",
      "source": [
        "data = pd.merge(data, train_format, on=['user_id', 'merchant_id'])\n",
        "print(data.head())"
      ],
      "metadata": {
        "id": "c5boUB-t5UYG",
        "colab": {
          "base_uri": "https://localhost:8080/"
        },
        "outputId": "3eeca8d3-df23-4e86-eda6-6eb92b2ba60c"
      },
      "execution_count": 9,
      "outputs": [
        {
          "output_type": "stream",
          "name": "stdout",
          "text": [
            "   user_id  item_id  cat_id  merchant_id  brand_id  time_stamp  action_type  \\\n",
            "0   310303      650     656         3473    3305.0        1111            0   \n",
            "1   310303      650     656         3473    3305.0        1111            0   \n",
            "2   310303      650     656         3473    3305.0        1111            2   \n",
            "3   310303      650     656         3473    3305.0        1111            0   \n",
            "4   156939      653      35         4267    6046.0        1111            0   \n",
            "\n",
            "   age_range  gender  label  \n",
            "0        4.0     0.0      0  \n",
            "1        4.0     0.0      0  \n",
            "2        4.0     0.0      0  \n",
            "3        4.0     0.0      0  \n",
            "4        4.0     1.0      1  \n"
          ]
        }
      ]
    },
    {
      "cell_type": "code",
      "source": [
        "data.shape"
      ],
      "metadata": {
        "id": "ODm2O6zm8IKj",
        "colab": {
          "base_uri": "https://localhost:8080/"
        },
        "outputId": "407d4975-ce34-412f-e351-bde8a74691df"
      },
      "execution_count": 10,
      "outputs": [
        {
          "output_type": "execute_result",
          "data": {
            "text/plain": [
              "(449, 10)"
            ]
          },
          "metadata": {},
          "execution_count": 10
        }
      ]
    },
    {
      "cell_type": "code",
      "source": [
        "data['Day']=data['time_stamp']%100\n",
        "data['Month']=(data['time_stamp']-data['Day'])/100\n",
        "data = data.drop(columns = ['time_stamp'])"
      ],
      "metadata": {
        "id": "wIoj4kVU5fG1"
      },
      "execution_count": 11,
      "outputs": []
    },
    {
      "cell_type": "code",
      "source": [
        "#activity_count of user\n",
        "activity_count = data.groupby('user_id')['action_type'].count().reset_index()\n",
        "activity_count.columns = ['user_id', 'activity_count']\n",
        "data = pd.merge(data, activity_count, on='user_id', how='left')"
      ],
      "metadata": {
        "id": "ceSaDLxK5nTf"
      },
      "execution_count": 12,
      "outputs": []
    },
    {
      "cell_type": "code",
      "source": [
        "data.shape"
      ],
      "metadata": {
        "id": "XkyKYaxO8pNS",
        "colab": {
          "base_uri": "https://localhost:8080/"
        },
        "outputId": "02094f2d-a2a8-48d9-f4f8-4bb57d7f66f5"
      },
      "execution_count": 13,
      "outputs": [
        {
          "output_type": "execute_result",
          "data": {
            "text/plain": [
              "(449, 12)"
            ]
          },
          "metadata": {},
          "execution_count": 13
        }
      ]
    },
    {
      "cell_type": "code",
      "source": [
        "click_count = data[data['action_type']==0].groupby('user_id')['action_type'].count().reset_index()\n",
        "click_count.columns = ['user_id', 'click_count']\n",
        "data = pd.merge(data,click_count,on='user_id', how='left')"
      ],
      "metadata": {
        "id": "nj3A5mzY5oRo"
      },
      "execution_count": 14,
      "outputs": []
    },
    {
      "cell_type": "code",
      "source": [
        "data.shape"
      ],
      "metadata": {
        "id": "C0n34mjg8p7c",
        "colab": {
          "base_uri": "https://localhost:8080/"
        },
        "outputId": "ecc5ca3a-124e-4b59-b50c-46eaf38fefcc"
      },
      "execution_count": 15,
      "outputs": [
        {
          "output_type": "execute_result",
          "data": {
            "text/plain": [
              "(449, 13)"
            ]
          },
          "metadata": {},
          "execution_count": 15
        }
      ]
    },
    {
      "cell_type": "code",
      "source": [
        "add_to_cart_count = data[data['action_type']==1].groupby('user_id')['action_type'].count().reset_index()\n",
        "add_to_cart_count.columns = ['user_id', 'add_to_cart_count']\n",
        "data = pd.merge(data, add_to_cart_count, on='user_id', how='left')"
      ],
      "metadata": {
        "id": "y2x0K5vP5rMK"
      },
      "execution_count": 16,
      "outputs": []
    },
    {
      "cell_type": "code",
      "source": [
        "data.shape"
      ],
      "metadata": {
        "id": "z6qtbLvv8rD3",
        "colab": {
          "base_uri": "https://localhost:8080/"
        },
        "outputId": "280038e2-be69-4ee7-a00d-cbc161cec680"
      },
      "execution_count": 17,
      "outputs": [
        {
          "output_type": "execute_result",
          "data": {
            "text/plain": [
              "(449, 14)"
            ]
          },
          "metadata": {},
          "execution_count": 17
        }
      ]
    },
    {
      "cell_type": "code",
      "source": [
        "purchase_count = data[data['action_type']==2].groupby('user_id')['action_type'].count().reset_index()\n",
        "purchase_count.columns = ['user_id', 'purchase_count']\n",
        "data = pd.merge(data, purchase_count, on='user_id', how='left')"
      ],
      "metadata": {
        "id": "miuKW-UI5rxo"
      },
      "execution_count": 18,
      "outputs": []
    },
    {
      "cell_type": "code",
      "source": [
        "data.shape"
      ],
      "metadata": {
        "id": "p6mAFNpv8rpE",
        "colab": {
          "base_uri": "https://localhost:8080/"
        },
        "outputId": "a4485952-a108-4c3d-ece4-73245d8c59d6"
      },
      "execution_count": 19,
      "outputs": [
        {
          "output_type": "execute_result",
          "data": {
            "text/plain": [
              "(449, 15)"
            ]
          },
          "metadata": {},
          "execution_count": 19
        }
      ]
    },
    {
      "cell_type": "code",
      "source": [
        "favourite_count = data[data['action_type']==3].groupby('user_id')['action_type'].count().reset_index()\n",
        "favourite_count.columns = ['user_id', 'favourite_count']\n",
        "data = pd.merge(data, favourite_count, on='user_id', how='left')"
      ],
      "metadata": {
        "id": "jwoM97Bh5t6d"
      },
      "execution_count": 20,
      "outputs": []
    },
    {
      "cell_type": "code",
      "source": [
        "data.shape"
      ],
      "metadata": {
        "id": "cMIId2RC8sTs",
        "colab": {
          "base_uri": "https://localhost:8080/"
        },
        "outputId": "163a10f0-9cb1-4976-9c6b-9e0d74fc6bde"
      },
      "execution_count": 21,
      "outputs": [
        {
          "output_type": "execute_result",
          "data": {
            "text/plain": [
              "(449, 16)"
            ]
          },
          "metadata": {},
          "execution_count": 21
        }
      ]
    },
    {
      "cell_type": "code",
      "source": [
        "data[['click_count','activity_count','add_to_cart_count','purchase_count','favourite_count']] = data[['click_count','activity_count','add_to_cart_count','purchase_count','favourite_count']].fillna(0)"
      ],
      "metadata": {
        "id": "NCvOxyVpGNjv"
      },
      "execution_count": 22,
      "outputs": []
    },
    {
      "cell_type": "code",
      "source": [
        "data['gender'] = data['gender'].fillna(2)"
      ],
      "metadata": {
        "id": "j3zXTE7O8uUk"
      },
      "execution_count": 23,
      "outputs": []
    },
    {
      "cell_type": "code",
      "source": [
        "user_gender = label_binarize(np.array(data.gender), classes=[0,1,2])\n",
        "user_gender = pd.DataFrame(data=user_gender, columns=['gender_female','gender_male','gender_unknown'])\n",
        "data['user_gender_female']=user_gender['gender_female']\n",
        "data['user_gender_male']=user_gender['gender_male']\n",
        "data['user_gender_unknown']=user_gender['gender_unknown']\n",
        "data = data.drop(columns = ['gender'])\n",
        "data.head()"
      ],
      "metadata": {
        "id": "2tACU26Y7TM0",
        "colab": {
          "base_uri": "https://localhost:8080/",
          "height": 270
        },
        "outputId": "79300686-84a2-489a-f60a-6205abd355ca"
      },
      "execution_count": 24,
      "outputs": [
        {
          "output_type": "execute_result",
          "data": {
            "text/plain": [
              "   user_id  item_id  cat_id  merchant_id  brand_id  action_type  age_range  \\\n",
              "0   310303      650     656         3473    3305.0            0        4.0   \n",
              "1   310303      650     656         3473    3305.0            0        4.0   \n",
              "2   310303      650     656         3473    3305.0            2        4.0   \n",
              "3   310303      650     656         3473    3305.0            0        4.0   \n",
              "4   156939      653      35         4267    6046.0            0        4.0   \n",
              "\n",
              "   label  Day  Month  activity_count  click_count  add_to_cart_count  \\\n",
              "0      0   11   11.0               4          3.0                0.0   \n",
              "1      0   11   11.0               4          3.0                0.0   \n",
              "2      0   11   11.0               4          3.0                0.0   \n",
              "3      0   11   11.0               4          3.0                0.0   \n",
              "4      1   11   11.0               2          1.0                0.0   \n",
              "\n",
              "   purchase_count  favourite_count  user_gender_female  user_gender_male  \\\n",
              "0             1.0              0.0                   1                 0   \n",
              "1             1.0              0.0                   1                 0   \n",
              "2             1.0              0.0                   1                 0   \n",
              "3             1.0              0.0                   1                 0   \n",
              "4             1.0              0.0                   0                 1   \n",
              "\n",
              "   user_gender_unknown  \n",
              "0                    0  \n",
              "1                    0  \n",
              "2                    0  \n",
              "3                    0  \n",
              "4                    0  "
            ],
            "text/html": [
              "\n",
              "  <div id=\"df-a867412b-41e2-4ee6-8f70-30998f77cf33\">\n",
              "    <div class=\"colab-df-container\">\n",
              "      <div>\n",
              "<style scoped>\n",
              "    .dataframe tbody tr th:only-of-type {\n",
              "        vertical-align: middle;\n",
              "    }\n",
              "\n",
              "    .dataframe tbody tr th {\n",
              "        vertical-align: top;\n",
              "    }\n",
              "\n",
              "    .dataframe thead th {\n",
              "        text-align: right;\n",
              "    }\n",
              "</style>\n",
              "<table border=\"1\" class=\"dataframe\">\n",
              "  <thead>\n",
              "    <tr style=\"text-align: right;\">\n",
              "      <th></th>\n",
              "      <th>user_id</th>\n",
              "      <th>item_id</th>\n",
              "      <th>cat_id</th>\n",
              "      <th>merchant_id</th>\n",
              "      <th>brand_id</th>\n",
              "      <th>action_type</th>\n",
              "      <th>age_range</th>\n",
              "      <th>label</th>\n",
              "      <th>Day</th>\n",
              "      <th>Month</th>\n",
              "      <th>activity_count</th>\n",
              "      <th>click_count</th>\n",
              "      <th>add_to_cart_count</th>\n",
              "      <th>purchase_count</th>\n",
              "      <th>favourite_count</th>\n",
              "      <th>user_gender_female</th>\n",
              "      <th>user_gender_male</th>\n",
              "      <th>user_gender_unknown</th>\n",
              "    </tr>\n",
              "  </thead>\n",
              "  <tbody>\n",
              "    <tr>\n",
              "      <th>0</th>\n",
              "      <td>310303</td>\n",
              "      <td>650</td>\n",
              "      <td>656</td>\n",
              "      <td>3473</td>\n",
              "      <td>3305.0</td>\n",
              "      <td>0</td>\n",
              "      <td>4.0</td>\n",
              "      <td>0</td>\n",
              "      <td>11</td>\n",
              "      <td>11.0</td>\n",
              "      <td>4</td>\n",
              "      <td>3.0</td>\n",
              "      <td>0.0</td>\n",
              "      <td>1.0</td>\n",
              "      <td>0.0</td>\n",
              "      <td>1</td>\n",
              "      <td>0</td>\n",
              "      <td>0</td>\n",
              "    </tr>\n",
              "    <tr>\n",
              "      <th>1</th>\n",
              "      <td>310303</td>\n",
              "      <td>650</td>\n",
              "      <td>656</td>\n",
              "      <td>3473</td>\n",
              "      <td>3305.0</td>\n",
              "      <td>0</td>\n",
              "      <td>4.0</td>\n",
              "      <td>0</td>\n",
              "      <td>11</td>\n",
              "      <td>11.0</td>\n",
              "      <td>4</td>\n",
              "      <td>3.0</td>\n",
              "      <td>0.0</td>\n",
              "      <td>1.0</td>\n",
              "      <td>0.0</td>\n",
              "      <td>1</td>\n",
              "      <td>0</td>\n",
              "      <td>0</td>\n",
              "    </tr>\n",
              "    <tr>\n",
              "      <th>2</th>\n",
              "      <td>310303</td>\n",
              "      <td>650</td>\n",
              "      <td>656</td>\n",
              "      <td>3473</td>\n",
              "      <td>3305.0</td>\n",
              "      <td>2</td>\n",
              "      <td>4.0</td>\n",
              "      <td>0</td>\n",
              "      <td>11</td>\n",
              "      <td>11.0</td>\n",
              "      <td>4</td>\n",
              "      <td>3.0</td>\n",
              "      <td>0.0</td>\n",
              "      <td>1.0</td>\n",
              "      <td>0.0</td>\n",
              "      <td>1</td>\n",
              "      <td>0</td>\n",
              "      <td>0</td>\n",
              "    </tr>\n",
              "    <tr>\n",
              "      <th>3</th>\n",
              "      <td>310303</td>\n",
              "      <td>650</td>\n",
              "      <td>656</td>\n",
              "      <td>3473</td>\n",
              "      <td>3305.0</td>\n",
              "      <td>0</td>\n",
              "      <td>4.0</td>\n",
              "      <td>0</td>\n",
              "      <td>11</td>\n",
              "      <td>11.0</td>\n",
              "      <td>4</td>\n",
              "      <td>3.0</td>\n",
              "      <td>0.0</td>\n",
              "      <td>1.0</td>\n",
              "      <td>0.0</td>\n",
              "      <td>1</td>\n",
              "      <td>0</td>\n",
              "      <td>0</td>\n",
              "    </tr>\n",
              "    <tr>\n",
              "      <th>4</th>\n",
              "      <td>156939</td>\n",
              "      <td>653</td>\n",
              "      <td>35</td>\n",
              "      <td>4267</td>\n",
              "      <td>6046.0</td>\n",
              "      <td>0</td>\n",
              "      <td>4.0</td>\n",
              "      <td>1</td>\n",
              "      <td>11</td>\n",
              "      <td>11.0</td>\n",
              "      <td>2</td>\n",
              "      <td>1.0</td>\n",
              "      <td>0.0</td>\n",
              "      <td>1.0</td>\n",
              "      <td>0.0</td>\n",
              "      <td>0</td>\n",
              "      <td>1</td>\n",
              "      <td>0</td>\n",
              "    </tr>\n",
              "  </tbody>\n",
              "</table>\n",
              "</div>\n",
              "      <button class=\"colab-df-convert\" onclick=\"convertToInteractive('df-a867412b-41e2-4ee6-8f70-30998f77cf33')\"\n",
              "              title=\"Convert this dataframe to an interactive table.\"\n",
              "              style=\"display:none;\">\n",
              "        \n",
              "  <svg xmlns=\"http://www.w3.org/2000/svg\" height=\"24px\"viewBox=\"0 0 24 24\"\n",
              "       width=\"24px\">\n",
              "    <path d=\"M0 0h24v24H0V0z\" fill=\"none\"/>\n",
              "    <path d=\"M18.56 5.44l.94 2.06.94-2.06 2.06-.94-2.06-.94-.94-2.06-.94 2.06-2.06.94zm-11 1L8.5 8.5l.94-2.06 2.06-.94-2.06-.94L8.5 2.5l-.94 2.06-2.06.94zm10 10l.94 2.06.94-2.06 2.06-.94-2.06-.94-.94-2.06-.94 2.06-2.06.94z\"/><path d=\"M17.41 7.96l-1.37-1.37c-.4-.4-.92-.59-1.43-.59-.52 0-1.04.2-1.43.59L10.3 9.45l-7.72 7.72c-.78.78-.78 2.05 0 2.83L4 21.41c.39.39.9.59 1.41.59.51 0 1.02-.2 1.41-.59l7.78-7.78 2.81-2.81c.8-.78.8-2.07 0-2.86zM5.41 20L4 18.59l7.72-7.72 1.47 1.35L5.41 20z\"/>\n",
              "  </svg>\n",
              "      </button>\n",
              "      \n",
              "  <style>\n",
              "    .colab-df-container {\n",
              "      display:flex;\n",
              "      flex-wrap:wrap;\n",
              "      gap: 12px;\n",
              "    }\n",
              "\n",
              "    .colab-df-convert {\n",
              "      background-color: #E8F0FE;\n",
              "      border: none;\n",
              "      border-radius: 50%;\n",
              "      cursor: pointer;\n",
              "      display: none;\n",
              "      fill: #1967D2;\n",
              "      height: 32px;\n",
              "      padding: 0 0 0 0;\n",
              "      width: 32px;\n",
              "    }\n",
              "\n",
              "    .colab-df-convert:hover {\n",
              "      background-color: #E2EBFA;\n",
              "      box-shadow: 0px 1px 2px rgba(60, 64, 67, 0.3), 0px 1px 3px 1px rgba(60, 64, 67, 0.15);\n",
              "      fill: #174EA6;\n",
              "    }\n",
              "\n",
              "    [theme=dark] .colab-df-convert {\n",
              "      background-color: #3B4455;\n",
              "      fill: #D2E3FC;\n",
              "    }\n",
              "\n",
              "    [theme=dark] .colab-df-convert:hover {\n",
              "      background-color: #434B5C;\n",
              "      box-shadow: 0px 1px 3px 1px rgba(0, 0, 0, 0.15);\n",
              "      filter: drop-shadow(0px 1px 2px rgba(0, 0, 0, 0.3));\n",
              "      fill: #FFFFFF;\n",
              "    }\n",
              "  </style>\n",
              "\n",
              "      <script>\n",
              "        const buttonEl =\n",
              "          document.querySelector('#df-a867412b-41e2-4ee6-8f70-30998f77cf33 button.colab-df-convert');\n",
              "        buttonEl.style.display =\n",
              "          google.colab.kernel.accessAllowed ? 'block' : 'none';\n",
              "\n",
              "        async function convertToInteractive(key) {\n",
              "          const element = document.querySelector('#df-a867412b-41e2-4ee6-8f70-30998f77cf33');\n",
              "          const dataTable =\n",
              "            await google.colab.kernel.invokeFunction('convertToInteractive',\n",
              "                                                     [key], {});\n",
              "          if (!dataTable) return;\n",
              "\n",
              "          const docLinkHtml = 'Like what you see? Visit the ' +\n",
              "            '<a target=\"_blank\" href=https://colab.research.google.com/notebooks/data_table.ipynb>data table notebook</a>'\n",
              "            + ' to learn more about interactive tables.';\n",
              "          element.innerHTML = '';\n",
              "          dataTable['output_type'] = 'display_data';\n",
              "          await google.colab.output.renderOutput(dataTable, element);\n",
              "          const docLink = document.createElement('div');\n",
              "          docLink.innerHTML = docLinkHtml;\n",
              "          element.appendChild(docLink);\n",
              "        }\n",
              "      </script>\n",
              "    </div>\n",
              "  </div>\n",
              "  "
            ]
          },
          "metadata": {},
          "execution_count": 24
        }
      ]
    },
    {
      "cell_type": "code",
      "source": [
        "data.shape"
      ],
      "metadata": {
        "id": "IROOi46D8wYm",
        "colab": {
          "base_uri": "https://localhost:8080/"
        },
        "outputId": "da0b02dd-b799-4ccd-d67e-d1bd30bfb8b6"
      },
      "execution_count": 25,
      "outputs": [
        {
          "output_type": "execute_result",
          "data": {
            "text/plain": [
              "(449, 18)"
            ]
          },
          "metadata": {},
          "execution_count": 25
        }
      ]
    },
    {
      "cell_type": "code",
      "source": [
        "user_activity = data[['user_id','action_type']].copy()\n",
        "user_activity_info = label_binarize(np.array(data.action_type), classes=[0,1,2,3])\n",
        "user_activity_info = pd.DataFrame(data = user_activity_info, columns=['Click','add_to_cart','purchase','add_to_favorite'])\n",
        "user_activity['user_Click']= user_activity_info.Click\n",
        "user_activity['user_Add_to_cart']=user_activity_info.add_to_cart\n",
        "user_activity['user_purchase']=user_activity_info.purchase\n",
        "user_activity['user_Add_to_favorite']=user_activity_info.add_to_favorite\n",
        "\n",
        "data = pd.merge(data, user_activity, on=['user_id','action_type'], how='left')\n",
        "data.head()"
      ],
      "metadata": {
        "id": "hp_odj0f6npk",
        "colab": {
          "base_uri": "https://localhost:8080/",
          "height": 299
        },
        "outputId": "f508605f-b93a-4e33-ae45-392b446a0c8c"
      },
      "execution_count": 26,
      "outputs": [
        {
          "output_type": "execute_result",
          "data": {
            "text/plain": [
              "   user_id  item_id  cat_id  merchant_id  brand_id  action_type  age_range  \\\n",
              "0   310303      650     656         3473    3305.0            0        4.0   \n",
              "1   310303      650     656         3473    3305.0            0        4.0   \n",
              "2   310303      650     656         3473    3305.0            0        4.0   \n",
              "3   310303      650     656         3473    3305.0            0        4.0   \n",
              "4   310303      650     656         3473    3305.0            0        4.0   \n",
              "\n",
              "   label  Day  Month  ...  add_to_cart_count  purchase_count  favourite_count  \\\n",
              "0      0   11   11.0  ...                0.0             1.0              0.0   \n",
              "1      0   11   11.0  ...                0.0             1.0              0.0   \n",
              "2      0   11   11.0  ...                0.0             1.0              0.0   \n",
              "3      0   11   11.0  ...                0.0             1.0              0.0   \n",
              "4      0   11   11.0  ...                0.0             1.0              0.0   \n",
              "\n",
              "   user_gender_female  user_gender_male  user_gender_unknown  user_Click  \\\n",
              "0                   1                 0                    0           1   \n",
              "1                   1                 0                    0           1   \n",
              "2                   1                 0                    0           1   \n",
              "3                   1                 0                    0           1   \n",
              "4                   1                 0                    0           1   \n",
              "\n",
              "   user_Add_to_cart  user_purchase  user_Add_to_favorite  \n",
              "0                 0              0                     0  \n",
              "1                 0              0                     0  \n",
              "2                 0              0                     0  \n",
              "3                 0              0                     0  \n",
              "4                 0              0                     0  \n",
              "\n",
              "[5 rows x 22 columns]"
            ],
            "text/html": [
              "\n",
              "  <div id=\"df-7c3d8355-89b7-4f26-bb38-743c6205ff03\">\n",
              "    <div class=\"colab-df-container\">\n",
              "      <div>\n",
              "<style scoped>\n",
              "    .dataframe tbody tr th:only-of-type {\n",
              "        vertical-align: middle;\n",
              "    }\n",
              "\n",
              "    .dataframe tbody tr th {\n",
              "        vertical-align: top;\n",
              "    }\n",
              "\n",
              "    .dataframe thead th {\n",
              "        text-align: right;\n",
              "    }\n",
              "</style>\n",
              "<table border=\"1\" class=\"dataframe\">\n",
              "  <thead>\n",
              "    <tr style=\"text-align: right;\">\n",
              "      <th></th>\n",
              "      <th>user_id</th>\n",
              "      <th>item_id</th>\n",
              "      <th>cat_id</th>\n",
              "      <th>merchant_id</th>\n",
              "      <th>brand_id</th>\n",
              "      <th>action_type</th>\n",
              "      <th>age_range</th>\n",
              "      <th>label</th>\n",
              "      <th>Day</th>\n",
              "      <th>Month</th>\n",
              "      <th>...</th>\n",
              "      <th>add_to_cart_count</th>\n",
              "      <th>purchase_count</th>\n",
              "      <th>favourite_count</th>\n",
              "      <th>user_gender_female</th>\n",
              "      <th>user_gender_male</th>\n",
              "      <th>user_gender_unknown</th>\n",
              "      <th>user_Click</th>\n",
              "      <th>user_Add_to_cart</th>\n",
              "      <th>user_purchase</th>\n",
              "      <th>user_Add_to_favorite</th>\n",
              "    </tr>\n",
              "  </thead>\n",
              "  <tbody>\n",
              "    <tr>\n",
              "      <th>0</th>\n",
              "      <td>310303</td>\n",
              "      <td>650</td>\n",
              "      <td>656</td>\n",
              "      <td>3473</td>\n",
              "      <td>3305.0</td>\n",
              "      <td>0</td>\n",
              "      <td>4.0</td>\n",
              "      <td>0</td>\n",
              "      <td>11</td>\n",
              "      <td>11.0</td>\n",
              "      <td>...</td>\n",
              "      <td>0.0</td>\n",
              "      <td>1.0</td>\n",
              "      <td>0.0</td>\n",
              "      <td>1</td>\n",
              "      <td>0</td>\n",
              "      <td>0</td>\n",
              "      <td>1</td>\n",
              "      <td>0</td>\n",
              "      <td>0</td>\n",
              "      <td>0</td>\n",
              "    </tr>\n",
              "    <tr>\n",
              "      <th>1</th>\n",
              "      <td>310303</td>\n",
              "      <td>650</td>\n",
              "      <td>656</td>\n",
              "      <td>3473</td>\n",
              "      <td>3305.0</td>\n",
              "      <td>0</td>\n",
              "      <td>4.0</td>\n",
              "      <td>0</td>\n",
              "      <td>11</td>\n",
              "      <td>11.0</td>\n",
              "      <td>...</td>\n",
              "      <td>0.0</td>\n",
              "      <td>1.0</td>\n",
              "      <td>0.0</td>\n",
              "      <td>1</td>\n",
              "      <td>0</td>\n",
              "      <td>0</td>\n",
              "      <td>1</td>\n",
              "      <td>0</td>\n",
              "      <td>0</td>\n",
              "      <td>0</td>\n",
              "    </tr>\n",
              "    <tr>\n",
              "      <th>2</th>\n",
              "      <td>310303</td>\n",
              "      <td>650</td>\n",
              "      <td>656</td>\n",
              "      <td>3473</td>\n",
              "      <td>3305.0</td>\n",
              "      <td>0</td>\n",
              "      <td>4.0</td>\n",
              "      <td>0</td>\n",
              "      <td>11</td>\n",
              "      <td>11.0</td>\n",
              "      <td>...</td>\n",
              "      <td>0.0</td>\n",
              "      <td>1.0</td>\n",
              "      <td>0.0</td>\n",
              "      <td>1</td>\n",
              "      <td>0</td>\n",
              "      <td>0</td>\n",
              "      <td>1</td>\n",
              "      <td>0</td>\n",
              "      <td>0</td>\n",
              "      <td>0</td>\n",
              "    </tr>\n",
              "    <tr>\n",
              "      <th>3</th>\n",
              "      <td>310303</td>\n",
              "      <td>650</td>\n",
              "      <td>656</td>\n",
              "      <td>3473</td>\n",
              "      <td>3305.0</td>\n",
              "      <td>0</td>\n",
              "      <td>4.0</td>\n",
              "      <td>0</td>\n",
              "      <td>11</td>\n",
              "      <td>11.0</td>\n",
              "      <td>...</td>\n",
              "      <td>0.0</td>\n",
              "      <td>1.0</td>\n",
              "      <td>0.0</td>\n",
              "      <td>1</td>\n",
              "      <td>0</td>\n",
              "      <td>0</td>\n",
              "      <td>1</td>\n",
              "      <td>0</td>\n",
              "      <td>0</td>\n",
              "      <td>0</td>\n",
              "    </tr>\n",
              "    <tr>\n",
              "      <th>4</th>\n",
              "      <td>310303</td>\n",
              "      <td>650</td>\n",
              "      <td>656</td>\n",
              "      <td>3473</td>\n",
              "      <td>3305.0</td>\n",
              "      <td>0</td>\n",
              "      <td>4.0</td>\n",
              "      <td>0</td>\n",
              "      <td>11</td>\n",
              "      <td>11.0</td>\n",
              "      <td>...</td>\n",
              "      <td>0.0</td>\n",
              "      <td>1.0</td>\n",
              "      <td>0.0</td>\n",
              "      <td>1</td>\n",
              "      <td>0</td>\n",
              "      <td>0</td>\n",
              "      <td>1</td>\n",
              "      <td>0</td>\n",
              "      <td>0</td>\n",
              "      <td>0</td>\n",
              "    </tr>\n",
              "  </tbody>\n",
              "</table>\n",
              "<p>5 rows × 22 columns</p>\n",
              "</div>\n",
              "      <button class=\"colab-df-convert\" onclick=\"convertToInteractive('df-7c3d8355-89b7-4f26-bb38-743c6205ff03')\"\n",
              "              title=\"Convert this dataframe to an interactive table.\"\n",
              "              style=\"display:none;\">\n",
              "        \n",
              "  <svg xmlns=\"http://www.w3.org/2000/svg\" height=\"24px\"viewBox=\"0 0 24 24\"\n",
              "       width=\"24px\">\n",
              "    <path d=\"M0 0h24v24H0V0z\" fill=\"none\"/>\n",
              "    <path d=\"M18.56 5.44l.94 2.06.94-2.06 2.06-.94-2.06-.94-.94-2.06-.94 2.06-2.06.94zm-11 1L8.5 8.5l.94-2.06 2.06-.94-2.06-.94L8.5 2.5l-.94 2.06-2.06.94zm10 10l.94 2.06.94-2.06 2.06-.94-2.06-.94-.94-2.06-.94 2.06-2.06.94z\"/><path d=\"M17.41 7.96l-1.37-1.37c-.4-.4-.92-.59-1.43-.59-.52 0-1.04.2-1.43.59L10.3 9.45l-7.72 7.72c-.78.78-.78 2.05 0 2.83L4 21.41c.39.39.9.59 1.41.59.51 0 1.02-.2 1.41-.59l7.78-7.78 2.81-2.81c.8-.78.8-2.07 0-2.86zM5.41 20L4 18.59l7.72-7.72 1.47 1.35L5.41 20z\"/>\n",
              "  </svg>\n",
              "      </button>\n",
              "      \n",
              "  <style>\n",
              "    .colab-df-container {\n",
              "      display:flex;\n",
              "      flex-wrap:wrap;\n",
              "      gap: 12px;\n",
              "    }\n",
              "\n",
              "    .colab-df-convert {\n",
              "      background-color: #E8F0FE;\n",
              "      border: none;\n",
              "      border-radius: 50%;\n",
              "      cursor: pointer;\n",
              "      display: none;\n",
              "      fill: #1967D2;\n",
              "      height: 32px;\n",
              "      padding: 0 0 0 0;\n",
              "      width: 32px;\n",
              "    }\n",
              "\n",
              "    .colab-df-convert:hover {\n",
              "      background-color: #E2EBFA;\n",
              "      box-shadow: 0px 1px 2px rgba(60, 64, 67, 0.3), 0px 1px 3px 1px rgba(60, 64, 67, 0.15);\n",
              "      fill: #174EA6;\n",
              "    }\n",
              "\n",
              "    [theme=dark] .colab-df-convert {\n",
              "      background-color: #3B4455;\n",
              "      fill: #D2E3FC;\n",
              "    }\n",
              "\n",
              "    [theme=dark] .colab-df-convert:hover {\n",
              "      background-color: #434B5C;\n",
              "      box-shadow: 0px 1px 3px 1px rgba(0, 0, 0, 0.15);\n",
              "      filter: drop-shadow(0px 1px 2px rgba(0, 0, 0, 0.3));\n",
              "      fill: #FFFFFF;\n",
              "    }\n",
              "  </style>\n",
              "\n",
              "      <script>\n",
              "        const buttonEl =\n",
              "          document.querySelector('#df-7c3d8355-89b7-4f26-bb38-743c6205ff03 button.colab-df-convert');\n",
              "        buttonEl.style.display =\n",
              "          google.colab.kernel.accessAllowed ? 'block' : 'none';\n",
              "\n",
              "        async function convertToInteractive(key) {\n",
              "          const element = document.querySelector('#df-7c3d8355-89b7-4f26-bb38-743c6205ff03');\n",
              "          const dataTable =\n",
              "            await google.colab.kernel.invokeFunction('convertToInteractive',\n",
              "                                                     [key], {});\n",
              "          if (!dataTable) return;\n",
              "\n",
              "          const docLinkHtml = 'Like what you see? Visit the ' +\n",
              "            '<a target=\"_blank\" href=https://colab.research.google.com/notebooks/data_table.ipynb>data table notebook</a>'\n",
              "            + ' to learn more about interactive tables.';\n",
              "          element.innerHTML = '';\n",
              "          dataTable['output_type'] = 'display_data';\n",
              "          await google.colab.output.renderOutput(dataTable, element);\n",
              "          const docLink = document.createElement('div');\n",
              "          docLink.innerHTML = docLinkHtml;\n",
              "          element.appendChild(docLink);\n",
              "        }\n",
              "      </script>\n",
              "    </div>\n",
              "  </div>\n",
              "  "
            ]
          },
          "metadata": {},
          "execution_count": 26
        }
      ]
    },
    {
      "cell_type": "code",
      "source": [
        "data.fillna(0,inplace=True)"
      ],
      "metadata": {
        "id": "2pp2lm1l-neK"
      },
      "execution_count": 27,
      "outputs": []
    },
    {
      "cell_type": "code",
      "source": [
        "data.shape"
      ],
      "metadata": {
        "id": "z3TC3O598x4N",
        "colab": {
          "base_uri": "https://localhost:8080/"
        },
        "outputId": "de8d489c-ef52-4857-ff45-cd7675becb92"
      },
      "execution_count": 28,
      "outputs": [
        {
          "output_type": "execute_result",
          "data": {
            "text/plain": [
              "(3309, 22)"
            ]
          },
          "metadata": {},
          "execution_count": 28
        }
      ]
    },
    {
      "cell_type": "code",
      "source": [
        "data['age_range'] = data['age_range'].replace(8,7)\n",
        "age =  pd.DataFrame(pd.get_dummies(data['age_range']))\n",
        "column_name = {3.0:'age_25_29',\n",
        "4.0:'age_30_34',\n",
        "0.0:'age_0_18',\n",
        "2.0:'age_18_24',\n",
        "6.0:'age_40_49',\n",
        "5.0:'age_35_39'}\n",
        "age = age.rename(columns=column_name)"
      ],
      "metadata": {
        "id": "fe-X4Xj_3oD_"
      },
      "execution_count": 29,
      "outputs": []
    },
    {
      "cell_type": "code",
      "source": [
        "for val in age.columns:\n",
        "  data[val] = age[val]\n",
        "data = data.drop(columns=['age_range'])"
      ],
      "metadata": {
        "id": "zv_gnmRS4CYV"
      },
      "execution_count": 30,
      "outputs": []
    },
    {
      "cell_type": "code",
      "source": [
        "data.shape"
      ],
      "metadata": {
        "id": "o3fdQz6Z5xvk",
        "colab": {
          "base_uri": "https://localhost:8080/"
        },
        "outputId": "025479dd-711c-497a-e0a6-f3e71a32f18a"
      },
      "execution_count": 31,
      "outputs": [
        {
          "output_type": "execute_result",
          "data": {
            "text/plain": [
              "(3309, 27)"
            ]
          },
          "metadata": {},
          "execution_count": 31
        }
      ]
    },
    {
      "cell_type": "code",
      "source": [
        "data.head().T"
      ],
      "metadata": {
        "id": "jhh-LTz24f7u",
        "colab": {
          "base_uri": "https://localhost:8080/",
          "height": 896
        },
        "outputId": "05b47902-fa6b-4478-9d9f-6d449b99a5a1"
      },
      "execution_count": 32,
      "outputs": [
        {
          "output_type": "execute_result",
          "data": {
            "text/plain": [
              "                             0         1         2         3         4\n",
              "user_id               310303.0  310303.0  310303.0  310303.0  310303.0\n",
              "item_id                  650.0     650.0     650.0     650.0     650.0\n",
              "cat_id                   656.0     656.0     656.0     656.0     656.0\n",
              "merchant_id             3473.0    3473.0    3473.0    3473.0    3473.0\n",
              "brand_id                3305.0    3305.0    3305.0    3305.0    3305.0\n",
              "action_type                0.0       0.0       0.0       0.0       0.0\n",
              "label                      0.0       0.0       0.0       0.0       0.0\n",
              "Day                       11.0      11.0      11.0      11.0      11.0\n",
              "Month                     11.0      11.0      11.0      11.0      11.0\n",
              "activity_count             4.0       4.0       4.0       4.0       4.0\n",
              "click_count                3.0       3.0       3.0       3.0       3.0\n",
              "add_to_cart_count          0.0       0.0       0.0       0.0       0.0\n",
              "purchase_count             1.0       1.0       1.0       1.0       1.0\n",
              "favourite_count            0.0       0.0       0.0       0.0       0.0\n",
              "user_gender_female         1.0       1.0       1.0       1.0       1.0\n",
              "user_gender_male           0.0       0.0       0.0       0.0       0.0\n",
              "user_gender_unknown        0.0       0.0       0.0       0.0       0.0\n",
              "user_Click                 1.0       1.0       1.0       1.0       1.0\n",
              "user_Add_to_cart           0.0       0.0       0.0       0.0       0.0\n",
              "user_purchase              0.0       0.0       0.0       0.0       0.0\n",
              "user_Add_to_favorite       0.0       0.0       0.0       0.0       0.0\n",
              "age_0_18                   0.0       0.0       0.0       0.0       0.0\n",
              "age_18_24                  0.0       0.0       0.0       0.0       0.0\n",
              "age_25_29                  0.0       0.0       0.0       0.0       0.0\n",
              "age_30_34                  1.0       1.0       1.0       1.0       1.0\n",
              "age_35_39                  0.0       0.0       0.0       0.0       0.0\n",
              "age_40_49                  0.0       0.0       0.0       0.0       0.0"
            ],
            "text/html": [
              "\n",
              "  <div id=\"df-df16765c-9ff6-4973-ae69-cb384d3361c4\">\n",
              "    <div class=\"colab-df-container\">\n",
              "      <div>\n",
              "<style scoped>\n",
              "    .dataframe tbody tr th:only-of-type {\n",
              "        vertical-align: middle;\n",
              "    }\n",
              "\n",
              "    .dataframe tbody tr th {\n",
              "        vertical-align: top;\n",
              "    }\n",
              "\n",
              "    .dataframe thead th {\n",
              "        text-align: right;\n",
              "    }\n",
              "</style>\n",
              "<table border=\"1\" class=\"dataframe\">\n",
              "  <thead>\n",
              "    <tr style=\"text-align: right;\">\n",
              "      <th></th>\n",
              "      <th>0</th>\n",
              "      <th>1</th>\n",
              "      <th>2</th>\n",
              "      <th>3</th>\n",
              "      <th>4</th>\n",
              "    </tr>\n",
              "  </thead>\n",
              "  <tbody>\n",
              "    <tr>\n",
              "      <th>user_id</th>\n",
              "      <td>310303.0</td>\n",
              "      <td>310303.0</td>\n",
              "      <td>310303.0</td>\n",
              "      <td>310303.0</td>\n",
              "      <td>310303.0</td>\n",
              "    </tr>\n",
              "    <tr>\n",
              "      <th>item_id</th>\n",
              "      <td>650.0</td>\n",
              "      <td>650.0</td>\n",
              "      <td>650.0</td>\n",
              "      <td>650.0</td>\n",
              "      <td>650.0</td>\n",
              "    </tr>\n",
              "    <tr>\n",
              "      <th>cat_id</th>\n",
              "      <td>656.0</td>\n",
              "      <td>656.0</td>\n",
              "      <td>656.0</td>\n",
              "      <td>656.0</td>\n",
              "      <td>656.0</td>\n",
              "    </tr>\n",
              "    <tr>\n",
              "      <th>merchant_id</th>\n",
              "      <td>3473.0</td>\n",
              "      <td>3473.0</td>\n",
              "      <td>3473.0</td>\n",
              "      <td>3473.0</td>\n",
              "      <td>3473.0</td>\n",
              "    </tr>\n",
              "    <tr>\n",
              "      <th>brand_id</th>\n",
              "      <td>3305.0</td>\n",
              "      <td>3305.0</td>\n",
              "      <td>3305.0</td>\n",
              "      <td>3305.0</td>\n",
              "      <td>3305.0</td>\n",
              "    </tr>\n",
              "    <tr>\n",
              "      <th>action_type</th>\n",
              "      <td>0.0</td>\n",
              "      <td>0.0</td>\n",
              "      <td>0.0</td>\n",
              "      <td>0.0</td>\n",
              "      <td>0.0</td>\n",
              "    </tr>\n",
              "    <tr>\n",
              "      <th>label</th>\n",
              "      <td>0.0</td>\n",
              "      <td>0.0</td>\n",
              "      <td>0.0</td>\n",
              "      <td>0.0</td>\n",
              "      <td>0.0</td>\n",
              "    </tr>\n",
              "    <tr>\n",
              "      <th>Day</th>\n",
              "      <td>11.0</td>\n",
              "      <td>11.0</td>\n",
              "      <td>11.0</td>\n",
              "      <td>11.0</td>\n",
              "      <td>11.0</td>\n",
              "    </tr>\n",
              "    <tr>\n",
              "      <th>Month</th>\n",
              "      <td>11.0</td>\n",
              "      <td>11.0</td>\n",
              "      <td>11.0</td>\n",
              "      <td>11.0</td>\n",
              "      <td>11.0</td>\n",
              "    </tr>\n",
              "    <tr>\n",
              "      <th>activity_count</th>\n",
              "      <td>4.0</td>\n",
              "      <td>4.0</td>\n",
              "      <td>4.0</td>\n",
              "      <td>4.0</td>\n",
              "      <td>4.0</td>\n",
              "    </tr>\n",
              "    <tr>\n",
              "      <th>click_count</th>\n",
              "      <td>3.0</td>\n",
              "      <td>3.0</td>\n",
              "      <td>3.0</td>\n",
              "      <td>3.0</td>\n",
              "      <td>3.0</td>\n",
              "    </tr>\n",
              "    <tr>\n",
              "      <th>add_to_cart_count</th>\n",
              "      <td>0.0</td>\n",
              "      <td>0.0</td>\n",
              "      <td>0.0</td>\n",
              "      <td>0.0</td>\n",
              "      <td>0.0</td>\n",
              "    </tr>\n",
              "    <tr>\n",
              "      <th>purchase_count</th>\n",
              "      <td>1.0</td>\n",
              "      <td>1.0</td>\n",
              "      <td>1.0</td>\n",
              "      <td>1.0</td>\n",
              "      <td>1.0</td>\n",
              "    </tr>\n",
              "    <tr>\n",
              "      <th>favourite_count</th>\n",
              "      <td>0.0</td>\n",
              "      <td>0.0</td>\n",
              "      <td>0.0</td>\n",
              "      <td>0.0</td>\n",
              "      <td>0.0</td>\n",
              "    </tr>\n",
              "    <tr>\n",
              "      <th>user_gender_female</th>\n",
              "      <td>1.0</td>\n",
              "      <td>1.0</td>\n",
              "      <td>1.0</td>\n",
              "      <td>1.0</td>\n",
              "      <td>1.0</td>\n",
              "    </tr>\n",
              "    <tr>\n",
              "      <th>user_gender_male</th>\n",
              "      <td>0.0</td>\n",
              "      <td>0.0</td>\n",
              "      <td>0.0</td>\n",
              "      <td>0.0</td>\n",
              "      <td>0.0</td>\n",
              "    </tr>\n",
              "    <tr>\n",
              "      <th>user_gender_unknown</th>\n",
              "      <td>0.0</td>\n",
              "      <td>0.0</td>\n",
              "      <td>0.0</td>\n",
              "      <td>0.0</td>\n",
              "      <td>0.0</td>\n",
              "    </tr>\n",
              "    <tr>\n",
              "      <th>user_Click</th>\n",
              "      <td>1.0</td>\n",
              "      <td>1.0</td>\n",
              "      <td>1.0</td>\n",
              "      <td>1.0</td>\n",
              "      <td>1.0</td>\n",
              "    </tr>\n",
              "    <tr>\n",
              "      <th>user_Add_to_cart</th>\n",
              "      <td>0.0</td>\n",
              "      <td>0.0</td>\n",
              "      <td>0.0</td>\n",
              "      <td>0.0</td>\n",
              "      <td>0.0</td>\n",
              "    </tr>\n",
              "    <tr>\n",
              "      <th>user_purchase</th>\n",
              "      <td>0.0</td>\n",
              "      <td>0.0</td>\n",
              "      <td>0.0</td>\n",
              "      <td>0.0</td>\n",
              "      <td>0.0</td>\n",
              "    </tr>\n",
              "    <tr>\n",
              "      <th>user_Add_to_favorite</th>\n",
              "      <td>0.0</td>\n",
              "      <td>0.0</td>\n",
              "      <td>0.0</td>\n",
              "      <td>0.0</td>\n",
              "      <td>0.0</td>\n",
              "    </tr>\n",
              "    <tr>\n",
              "      <th>age_0_18</th>\n",
              "      <td>0.0</td>\n",
              "      <td>0.0</td>\n",
              "      <td>0.0</td>\n",
              "      <td>0.0</td>\n",
              "      <td>0.0</td>\n",
              "    </tr>\n",
              "    <tr>\n",
              "      <th>age_18_24</th>\n",
              "      <td>0.0</td>\n",
              "      <td>0.0</td>\n",
              "      <td>0.0</td>\n",
              "      <td>0.0</td>\n",
              "      <td>0.0</td>\n",
              "    </tr>\n",
              "    <tr>\n",
              "      <th>age_25_29</th>\n",
              "      <td>0.0</td>\n",
              "      <td>0.0</td>\n",
              "      <td>0.0</td>\n",
              "      <td>0.0</td>\n",
              "      <td>0.0</td>\n",
              "    </tr>\n",
              "    <tr>\n",
              "      <th>age_30_34</th>\n",
              "      <td>1.0</td>\n",
              "      <td>1.0</td>\n",
              "      <td>1.0</td>\n",
              "      <td>1.0</td>\n",
              "      <td>1.0</td>\n",
              "    </tr>\n",
              "    <tr>\n",
              "      <th>age_35_39</th>\n",
              "      <td>0.0</td>\n",
              "      <td>0.0</td>\n",
              "      <td>0.0</td>\n",
              "      <td>0.0</td>\n",
              "      <td>0.0</td>\n",
              "    </tr>\n",
              "    <tr>\n",
              "      <th>age_40_49</th>\n",
              "      <td>0.0</td>\n",
              "      <td>0.0</td>\n",
              "      <td>0.0</td>\n",
              "      <td>0.0</td>\n",
              "      <td>0.0</td>\n",
              "    </tr>\n",
              "  </tbody>\n",
              "</table>\n",
              "</div>\n",
              "      <button class=\"colab-df-convert\" onclick=\"convertToInteractive('df-df16765c-9ff6-4973-ae69-cb384d3361c4')\"\n",
              "              title=\"Convert this dataframe to an interactive table.\"\n",
              "              style=\"display:none;\">\n",
              "        \n",
              "  <svg xmlns=\"http://www.w3.org/2000/svg\" height=\"24px\"viewBox=\"0 0 24 24\"\n",
              "       width=\"24px\">\n",
              "    <path d=\"M0 0h24v24H0V0z\" fill=\"none\"/>\n",
              "    <path d=\"M18.56 5.44l.94 2.06.94-2.06 2.06-.94-2.06-.94-.94-2.06-.94 2.06-2.06.94zm-11 1L8.5 8.5l.94-2.06 2.06-.94-2.06-.94L8.5 2.5l-.94 2.06-2.06.94zm10 10l.94 2.06.94-2.06 2.06-.94-2.06-.94-.94-2.06-.94 2.06-2.06.94z\"/><path d=\"M17.41 7.96l-1.37-1.37c-.4-.4-.92-.59-1.43-.59-.52 0-1.04.2-1.43.59L10.3 9.45l-7.72 7.72c-.78.78-.78 2.05 0 2.83L4 21.41c.39.39.9.59 1.41.59.51 0 1.02-.2 1.41-.59l7.78-7.78 2.81-2.81c.8-.78.8-2.07 0-2.86zM5.41 20L4 18.59l7.72-7.72 1.47 1.35L5.41 20z\"/>\n",
              "  </svg>\n",
              "      </button>\n",
              "      \n",
              "  <style>\n",
              "    .colab-df-container {\n",
              "      display:flex;\n",
              "      flex-wrap:wrap;\n",
              "      gap: 12px;\n",
              "    }\n",
              "\n",
              "    .colab-df-convert {\n",
              "      background-color: #E8F0FE;\n",
              "      border: none;\n",
              "      border-radius: 50%;\n",
              "      cursor: pointer;\n",
              "      display: none;\n",
              "      fill: #1967D2;\n",
              "      height: 32px;\n",
              "      padding: 0 0 0 0;\n",
              "      width: 32px;\n",
              "    }\n",
              "\n",
              "    .colab-df-convert:hover {\n",
              "      background-color: #E2EBFA;\n",
              "      box-shadow: 0px 1px 2px rgba(60, 64, 67, 0.3), 0px 1px 3px 1px rgba(60, 64, 67, 0.15);\n",
              "      fill: #174EA6;\n",
              "    }\n",
              "\n",
              "    [theme=dark] .colab-df-convert {\n",
              "      background-color: #3B4455;\n",
              "      fill: #D2E3FC;\n",
              "    }\n",
              "\n",
              "    [theme=dark] .colab-df-convert:hover {\n",
              "      background-color: #434B5C;\n",
              "      box-shadow: 0px 1px 3px 1px rgba(0, 0, 0, 0.15);\n",
              "      filter: drop-shadow(0px 1px 2px rgba(0, 0, 0, 0.3));\n",
              "      fill: #FFFFFF;\n",
              "    }\n",
              "  </style>\n",
              "\n",
              "      <script>\n",
              "        const buttonEl =\n",
              "          document.querySelector('#df-df16765c-9ff6-4973-ae69-cb384d3361c4 button.colab-df-convert');\n",
              "        buttonEl.style.display =\n",
              "          google.colab.kernel.accessAllowed ? 'block' : 'none';\n",
              "\n",
              "        async function convertToInteractive(key) {\n",
              "          const element = document.querySelector('#df-df16765c-9ff6-4973-ae69-cb384d3361c4');\n",
              "          const dataTable =\n",
              "            await google.colab.kernel.invokeFunction('convertToInteractive',\n",
              "                                                     [key], {});\n",
              "          if (!dataTable) return;\n",
              "\n",
              "          const docLinkHtml = 'Like what you see? Visit the ' +\n",
              "            '<a target=\"_blank\" href=https://colab.research.google.com/notebooks/data_table.ipynb>data table notebook</a>'\n",
              "            + ' to learn more about interactive tables.';\n",
              "          element.innerHTML = '';\n",
              "          dataTable['output_type'] = 'display_data';\n",
              "          await google.colab.output.renderOutput(dataTable, element);\n",
              "          const docLink = document.createElement('div');\n",
              "          docLink.innerHTML = docLinkHtml;\n",
              "          element.appendChild(docLink);\n",
              "        }\n",
              "      </script>\n",
              "    </div>\n",
              "  </div>\n",
              "  "
            ]
          },
          "metadata": {},
          "execution_count": 32
        }
      ]
    },
    {
      "cell_type": "markdown",
      "source": [
        "<h2>Seller Level Info<h2>"
      ],
      "metadata": {
        "id": "DHyLht1U8hSO"
      }
    },
    {
      "cell_type": "markdown",
      "source": [
        "We try to find new features with respect to different criteria i.e the merchant having interaction with item,brand,cateogry,"
      ],
      "metadata": {
        "id": "jnG19KUqAZlG"
      }
    },
    {
      "cell_type": "code",
      "source": [
        "\n",
        "merchant_item = data.loc[:, ['merchant_id', 'item_id']]\n",
        "\n",
        "merchant_item = merchant_item.drop_duplicates(subset='item_id')\n",
        "\n",
        "merchant_item_info = merchant_item.groupby('merchant_id').agg({'item_id': 'count'}).reset_index()\n",
        "\n",
        "merchant_item_info = merchant_item_info.rename(columns={'item_id': 'merchant_item_count'})\n",
        "\n",
        "print(merchant_item_info.head(50))\n",
        "\n",
        "data = pd.merge(data, merchant_item_info, on='merchant_id', how='left')\n"
      ],
      "metadata": {
        "id": "E1el-EtA4iRN",
        "colab": {
          "base_uri": "https://localhost:8080/"
        },
        "outputId": "6bf14d5e-8af3-4af9-9b83-c11a822d4581"
      },
      "execution_count": 33,
      "outputs": [
        {
          "output_type": "stream",
          "name": "stdout",
          "text": [
            "    merchant_id  merchant_item_count\n",
            "0           252                    1\n",
            "1           350                    1\n",
            "2           412                    1\n",
            "3           523                    1\n",
            "4           586                    1\n",
            "5           630                    1\n",
            "6           643                    1\n",
            "7           804                    1\n",
            "8          1429                    1\n",
            "9          1472                    1\n",
            "10         1501                    1\n",
            "11         1840                    1\n",
            "12         1841                    1\n",
            "13         1944                    1\n",
            "14         2242                    1\n",
            "15         3432                    1\n",
            "16         3473                    1\n",
            "17         3502                    1\n",
            "18         3828                    1\n",
            "19         4267                    1\n",
            "20         4502                    1\n",
            "21         4534                    1\n",
            "22         4847                    1\n",
            "23         4850                    1\n"
          ]
        }
      ]
    },
    {
      "cell_type": "code",
      "source": [
        "\n",
        "merchant_brand = data.loc[:, ['merchant_id', 'brand_id']]\n",
        "merchant_brand = merchant_brand.drop_duplicates(subset='brand_id')\n",
        "merchant_brand_info = merchant_brand.groupby('merchant_id').agg({'brand_id': 'count'}).reset_index()\n",
        "merchant_brand_info = merchant_brand_info.rename(columns={'brand_id': 'merchant_brand_count'})\n",
        "print(merchant_brand_info.head(50))\n",
        "\n",
        "data = pd.merge(data, merchant_brand_info, on='merchant_id', how='left')"
      ],
      "metadata": {
        "id": "sfvyEXLq67B9",
        "colab": {
          "base_uri": "https://localhost:8080/"
        },
        "outputId": "3a924fb2-9557-491e-dc86-fc70f9d5bd2d"
      },
      "execution_count": 34,
      "outputs": [
        {
          "output_type": "stream",
          "name": "stdout",
          "text": [
            "    merchant_id  merchant_brand_count\n",
            "0           252                     1\n",
            "1           350                     1\n",
            "2           412                     1\n",
            "3           523                     1\n",
            "4           586                     1\n",
            "5           630                     1\n",
            "6           643                     1\n",
            "7           804                     1\n",
            "8          1429                     1\n",
            "9          1472                     1\n",
            "10         1501                     1\n",
            "11         1840                     1\n",
            "12         1841                     1\n",
            "13         1944                     1\n",
            "14         2242                     1\n",
            "15         3432                     1\n",
            "16         3473                     1\n",
            "17         3502                     1\n",
            "18         3828                     1\n",
            "19         4267                     1\n",
            "20         4502                     1\n",
            "21         4534                     1\n",
            "22         4847                     2\n",
            "23         4850                     1\n"
          ]
        }
      ]
    },
    {
      "cell_type": "markdown",
      "source": [
        "<h2>User Seller Info<h2>"
      ],
      "metadata": {
        "id": "A5CjcCC98nHx"
      }
    },
    {
      "cell_type": "code",
      "source": [
        "merchant_cat = data.loc[:, ['merchant_id', 'cat_id']]\n",
        "merchant_cat_info = merchant_cat.groupby('merchant_id').agg({'cat_id': 'count'}).reset_index()\n",
        "merchant_cat_info = merchant_cat_info.rename(columns={'cat_id': 'merchant_cat_count'})\n",
        "print(merchant_cat_info.head(50))\n",
        "data = pd.merge(data, merchant_cat_info, on='merchant_id', how='left')"
      ],
      "metadata": {
        "id": "5r1bDaPy7AsM",
        "colab": {
          "base_uri": "https://localhost:8080/"
        },
        "outputId": "9f5b38e1-d0ba-43eb-a83e-c1eedc6a790e"
      },
      "execution_count": 35,
      "outputs": [
        {
          "output_type": "stream",
          "name": "stdout",
          "text": [
            "    merchant_id  merchant_cat_count\n",
            "0           252                   1\n",
            "1           350                 232\n",
            "2           412                   1\n",
            "3           523                   1\n",
            "4           586                  11\n",
            "5           630                  51\n",
            "6           643                   5\n",
            "7           804                  28\n",
            "8          1429                   1\n",
            "9          1472                  10\n",
            "10         1501                  15\n",
            "11         1840                   7\n",
            "12         1841                   1\n",
            "13         1944                   1\n",
            "14         2242                   1\n",
            "15         3432                   1\n",
            "16         3473                2460\n",
            "17         3502                   1\n",
            "18         3828                   3\n",
            "19         4267                 366\n",
            "20         4502                   1\n",
            "21         4534                  55\n",
            "22         4847                  39\n",
            "23         4850                  17\n"
          ]
        }
      ]
    },
    {
      "cell_type": "code",
      "source": [
        "user_merchant = data.loc[:, ['user_id','merchant_id']]\n",
        "user_merchant = user_merchant.drop_duplicates(subset='merchant_id')\n",
        "user_merchant_info = user_merchant.groupby('user_id').agg({'merchant_id': 'count'}).reset_index()\n",
        "user_merchant_info = user_merchant_info.rename(columns={'merchant_id': 'user_merchant_count'})\n",
        "print(user_merchant_info.head(50))\n",
        "data = pd.merge(data, user_merchant_info, on='user_id', how='left')"
      ],
      "metadata": {
        "id": "xcEDKToMGpzJ",
        "colab": {
          "base_uri": "https://localhost:8080/"
        },
        "outputId": "e4d83aa5-19f3-40d3-8ab6-233ba6914262"
      },
      "execution_count": 36,
      "outputs": [
        {
          "output_type": "stream",
          "name": "stdout",
          "text": [
            "    user_id  user_merchant_count\n",
            "0     14196                    1\n",
            "1     54738                    1\n",
            "2     56665                    1\n",
            "3     63183                    1\n",
            "4     80940                    1\n",
            "5     87997                    1\n",
            "6     92655                    1\n",
            "7    112081                    1\n",
            "8    112950                    1\n",
            "9    148947                    1\n",
            "10   156939                    1\n",
            "11   156965                    1\n",
            "12   182603                    1\n",
            "13   242112                    1\n",
            "14   264378                    1\n",
            "15   310303                    1\n",
            "16   313743                    1\n",
            "17   316744                    1\n",
            "18   327778                    1\n",
            "19   329471                    1\n",
            "20   329675                    1\n",
            "21   337468                    1\n",
            "22   355457                    1\n",
            "23   413107                    1\n"
          ]
        }
      ]
    },
    {
      "cell_type": "code",
      "source": [
        "user_cat = data.loc[:, ['user_id','cat_id']]\n",
        "user_cat = user_cat.drop_duplicates(subset='cat_id')\n",
        "user_cat_info = user_cat.groupby('user_id').agg({'cat_id': 'count'}).reset_index()\n",
        "user_cat_info = user_cat_info.rename(columns={'cat_id': 'user_cat_count'})\n",
        "print(user_cat_info.head(50))\n",
        "data = pd.merge(data, user_cat_info, on='user_id', how='left')"
      ],
      "metadata": {
        "id": "jFF7GFOv9AFy",
        "colab": {
          "base_uri": "https://localhost:8080/"
        },
        "outputId": "a5923a53-848f-402e-bbba-1100a9f1cd22"
      },
      "execution_count": 37,
      "outputs": [
        {
          "output_type": "stream",
          "name": "stdout",
          "text": [
            "    user_id  user_cat_count\n",
            "0     14196               1\n",
            "1     54738               1\n",
            "2     56665               1\n",
            "3     63183               1\n",
            "4     80940               1\n",
            "5     87997               1\n",
            "6     92655               1\n",
            "7    112950               1\n",
            "8    156939               1\n",
            "9    156965               1\n",
            "10   182603               1\n",
            "11   242112               1\n",
            "12   310303               1\n",
            "13   313743               1\n",
            "14   316744               1\n",
            "15   327778               1\n",
            "16   329471               1\n",
            "17   337468               1\n",
            "18   355457               1\n",
            "19   413107               1\n"
          ]
        }
      ]
    },
    {
      "cell_type": "code",
      "source": [
        "user_brand = data.loc[:, ['user_id','brand_id']]\n",
        "user_brand = user_brand.drop_duplicates(subset='brand_id')\n",
        "user_brand_info = user_brand.groupby('user_id').agg({'brand_id': 'count'}).reset_index()\n",
        "user_brand_info = user_brand_info.rename(columns={'brand_id': 'user_brand_count'})\n",
        "print(user_brand_info.head(50))\n",
        "data = pd.merge(data, user_brand_info, on='user_id', how='left')"
      ],
      "metadata": {
        "id": "D8MY1JXJ9Ds6",
        "colab": {
          "base_uri": "https://localhost:8080/"
        },
        "outputId": "771183b7-4f8c-4511-8d67-e63785c141d1"
      },
      "execution_count": 38,
      "outputs": [
        {
          "output_type": "stream",
          "name": "stdout",
          "text": [
            "    user_id  user_brand_count\n",
            "0     14196                 1\n",
            "1     54738                 1\n",
            "2     56665                 1\n",
            "3     63183                 1\n",
            "4     80940                 1\n",
            "5     87997                 1\n",
            "6     92655                 1\n",
            "7    112081                 1\n",
            "8    112950                 1\n",
            "9    148947                 1\n",
            "10   156939                 1\n",
            "11   156965                 2\n",
            "12   182603                 1\n",
            "13   242112                 1\n",
            "14   264378                 1\n",
            "15   310303                 1\n",
            "16   313743                 1\n",
            "17   316744                 1\n",
            "18   327778                 1\n",
            "19   329471                 1\n",
            "20   329675                 1\n",
            "21   337468                 1\n",
            "22   355457                 1\n",
            "23   413107                 1\n"
          ]
        }
      ]
    },
    {
      "cell_type": "markdown",
      "source": [
        "<h2>User Seller Merchant Info<h2>"
      ],
      "metadata": {
        "id": "1IJBTT4jHi7E"
      }
    },
    {
      "cell_type": "code",
      "source": [
        "user_brand = data.loc[:, ['user_id','merchant_id','brand_id']]\n",
        "user_brand_info = user_brand.groupby(['user_id','merchant_id']).agg({'brand_id': 'count'}).reset_index()\n",
        "user_brand_info = user_brand_info.rename(columns={'brand_id': 'user_merchant_brand_count'})\n",
        "print(user_brand_info.head(50))\n",
        "data = pd.merge(data, user_brand_info, on=['user_id','merchant_id'], how='left')"
      ],
      "metadata": {
        "id": "lh2gwBMA9J2k",
        "colab": {
          "base_uri": "https://localhost:8080/"
        },
        "outputId": "4bcc63b0-4118-4c44-a9b4-62c8c288d7be"
      },
      "execution_count": 39,
      "outputs": [
        {
          "output_type": "stream",
          "name": "stdout",
          "text": [
            "    user_id  merchant_id  user_merchant_brand_count\n",
            "0      6308         4267                          9\n",
            "1     14196         4850                          1\n",
            "2     15333         3473                          2\n",
            "3     21456         4267                          4\n",
            "4     22289         4267                          1\n",
            "5     30637         4267                         49\n",
            "6     31008          643                          1\n",
            "7     39322         1501                          1\n",
            "8     40560         3473                        198\n",
            "9     42310         4850                         16\n",
            "10    42460         4267                          4\n",
            "11    43489         4267                          1\n",
            "12    44525         4534                          1\n",
            "13    47962          804                          4\n",
            "14    54159         3473                         26\n",
            "15    54738          586                          9\n",
            "16    54820         1501                          1\n",
            "17    55308          804                          4\n",
            "18    56282         4847                          1\n",
            "19    56665          412                          1\n",
            "20    57067         3473                          1\n",
            "21    59087         4847                          1\n",
            "22    59297          350                          1\n",
            "23    62060          350                         25\n",
            "24    63168         4847                          1\n",
            "25    63183          804                          1\n",
            "26    63524          350                         65\n",
            "27    69845         4267                          4\n",
            "28    70109         1501                          1\n",
            "29    73597         4847                          1\n",
            "30    76374         4267                          1\n",
            "31    79159         4267                          1\n",
            "32    80940         3432                          1\n",
            "33    87997          252                          1\n",
            "34    92655         3828                          1\n",
            "35    94684          804                          1\n",
            "36   100392         3473                          2\n",
            "37   101477         3473                        123\n",
            "38   102054         3473                         26\n",
            "39   105267         1840                          1\n",
            "40   109742         4847                          5\n",
            "41   112081         1841                          1\n",
            "42   112950          643                          1\n",
            "43   113301         4847                          1\n",
            "44   118899         3473                          2\n",
            "45   123932         4267                         26\n",
            "46   131937         3473                        123\n",
            "47   135595         3473                        226\n",
            "48   147996          643                          1\n",
            "49   148947         1501                          1\n"
          ]
        }
      ]
    },
    {
      "cell_type": "code",
      "source": [
        "user_merchant_cat = data.loc[:, ['user_id','merchant_id','cat_id']]\n",
        "user_merchant_cat_info = user_merchant_cat.groupby(['user_id','merchant_id']).agg({'cat_id': 'count'}).reset_index()\n",
        "user_merchant_cat_info = user_merchant_cat_info.rename(columns={'cat_id': 'user_merchant_cat_count'})\n",
        "print(user_merchant_cat_info.head(50))\n",
        "data = pd.merge(data, user_merchant_cat_info, on=['user_id','merchant_id'], how='left')"
      ],
      "metadata": {
        "id": "mrNEHOJLJLXZ",
        "colab": {
          "base_uri": "https://localhost:8080/"
        },
        "outputId": "7c60aa53-74bc-4618-9934-e9a20120accd"
      },
      "execution_count": 40,
      "outputs": [
        {
          "output_type": "stream",
          "name": "stdout",
          "text": [
            "    user_id  merchant_id  user_merchant_cat_count\n",
            "0      6308         4267                        9\n",
            "1     14196         4850                        1\n",
            "2     15333         3473                        2\n",
            "3     21456         4267                        4\n",
            "4     22289         4267                        1\n",
            "5     30637         4267                       49\n",
            "6     31008          643                        1\n",
            "7     39322         1501                        1\n",
            "8     40560         3473                      198\n",
            "9     42310         4850                       16\n",
            "10    42460         4267                        4\n",
            "11    43489         4267                        1\n",
            "12    44525         4534                        1\n",
            "13    47962          804                        4\n",
            "14    54159         3473                       26\n",
            "15    54738          586                        9\n",
            "16    54820         1501                        1\n",
            "17    55308          804                        4\n",
            "18    56282         4847                        1\n",
            "19    56665          412                        1\n",
            "20    57067         3473                        1\n",
            "21    59087         4847                        1\n",
            "22    59297          350                        1\n",
            "23    62060          350                       25\n",
            "24    63168         4847                        1\n",
            "25    63183          804                        1\n",
            "26    63524          350                       65\n",
            "27    69845         4267                        4\n",
            "28    70109         1501                        1\n",
            "29    73597         4847                        1\n",
            "30    76374         4267                        1\n",
            "31    79159         4267                        1\n",
            "32    80940         3432                        1\n",
            "33    87997          252                        1\n",
            "34    92655         3828                        1\n",
            "35    94684          804                        1\n",
            "36   100392         3473                        2\n",
            "37   101477         3473                      123\n",
            "38   102054         3473                       26\n",
            "39   105267         1840                        1\n",
            "40   109742         4847                        5\n",
            "41   112081         1841                        1\n",
            "42   112950          643                        1\n",
            "43   113301         4847                        1\n",
            "44   118899         3473                        2\n",
            "45   123932         4267                       26\n",
            "46   131937         3473                      123\n",
            "47   135595         3473                      226\n",
            "48   147996          643                        1\n",
            "49   148947         1501                        1\n"
          ]
        }
      ]
    },
    {
      "cell_type": "code",
      "source": [
        "user_merchant_day_cat = data.loc[:, ['user_id','merchant_id','Day','cat_id']]\n",
        "user_merchant_day_cat_info = user_merchant_day_cat.groupby(['user_id','merchant_id','Day']).agg({'cat_id': 'count'}).reset_index()\n",
        "user_merchant_day_cat_info = user_merchant_day_cat_info.rename(columns={'cat_id': 'user_merchant_day_cat_count'})\n",
        "\n",
        "\n",
        "data = pd.merge(data, user_merchant_day_cat_info, on=['user_id','merchant_id','Day'], how='left')\n",
        "\n",
        "print(user_merchant_day_cat_info.head(10))"
      ],
      "metadata": {
        "id": "FeWTr4mQJP2Q",
        "colab": {
          "base_uri": "https://localhost:8080/"
        },
        "outputId": "b31a4842-02d9-430d-fc42-e10be772b78a"
      },
      "execution_count": 41,
      "outputs": [
        {
          "output_type": "stream",
          "name": "stdout",
          "text": [
            "   user_id  merchant_id  Day  user_merchant_day_cat_count\n",
            "0     6308         4267   10                            9\n",
            "1    14196         4850   28                            1\n",
            "2    15333         3473   11                            2\n",
            "3    21456         4267   11                            4\n",
            "4    22289         4267   11                            1\n",
            "5    30637         4267   10                           14\n",
            "6    30637         4267   11                           35\n",
            "7    31008          643   10                            1\n",
            "8    39322         1501   10                            1\n",
            "9    40560         3473    8                           56\n"
          ]
        }
      ]
    },
    {
      "cell_type": "code",
      "source": [
        "data.shape"
      ],
      "metadata": {
        "id": "Jf7UCVd_6Viv",
        "colab": {
          "base_uri": "https://localhost:8080/"
        },
        "outputId": "74e15f0d-49c8-4ff3-f4f3-f3330b31444d"
      },
      "execution_count": 42,
      "outputs": [
        {
          "output_type": "execute_result",
          "data": {
            "text/plain": [
              "(3309, 36)"
            ]
          },
          "metadata": {},
          "execution_count": 42
        }
      ]
    },
    {
      "cell_type": "code",
      "source": [
        "data.columns"
      ],
      "metadata": {
        "id": "nNGevJs8STSa",
        "colab": {
          "base_uri": "https://localhost:8080/"
        },
        "outputId": "3a6eea04-147b-4c2e-c442-eb91739dac69"
      },
      "execution_count": 43,
      "outputs": [
        {
          "output_type": "execute_result",
          "data": {
            "text/plain": [
              "Index(['user_id', 'item_id', 'cat_id', 'merchant_id', 'brand_id',\n",
              "       'action_type', 'label', 'Day', 'Month', 'activity_count', 'click_count',\n",
              "       'add_to_cart_count', 'purchase_count', 'favourite_count',\n",
              "       'user_gender_female', 'user_gender_male', 'user_gender_unknown',\n",
              "       'user_Click', 'user_Add_to_cart', 'user_purchase',\n",
              "       'user_Add_to_favorite', 'age_0_18', 'age_18_24', 'age_25_29',\n",
              "       'age_30_34', 'age_35_39', 'age_40_49', 'merchant_item_count',\n",
              "       'merchant_brand_count', 'merchant_cat_count', 'user_merchant_count',\n",
              "       'user_cat_count', 'user_brand_count', 'user_merchant_brand_count',\n",
              "       'user_merchant_cat_count', 'user_merchant_day_cat_count'],\n",
              "      dtype='object')"
            ]
          },
          "metadata": {},
          "execution_count": 43
        }
      ]
    },
    {
      "cell_type": "code",
      "source": [
        "len(data)"
      ],
      "metadata": {
        "id": "YAYhxKbu4Ocy",
        "colab": {
          "base_uri": "https://localhost:8080/"
        },
        "outputId": "a3e86001-ce15-4131-d9af-88012f8b3d33"
      },
      "execution_count": 44,
      "outputs": [
        {
          "output_type": "execute_result",
          "data": {
            "text/plain": [
              "3309"
            ]
          },
          "metadata": {},
          "execution_count": 44
        }
      ]
    },
    {
      "cell_type": "code",
      "source": [
        "numerical_features = ['activity_count', 'click_count',\n",
        "       'add_to_cart_count', 'purchase_count', 'favourite_count','merchant_item_count',\n",
        "        'merchant_brand_count', 'merchant_cat_count', 'user_merchant_count',\n",
        "        'user_cat_count', 'user_brand_count', 'user_merchant_brand_count',\n",
        "        'user_merchant_cat_count', 'user_merchant_day_cat_count']"
      ],
      "metadata": {
        "id": "-FYpwpRQvOxN"
      },
      "execution_count": 45,
      "outputs": []
    },
    {
      "cell_type": "code",
      "source": [
        "numerical_data = data[numerical_features]"
      ],
      "metadata": {
        "id": "Q4l-sJSY4erQ"
      },
      "execution_count": 46,
      "outputs": []
    },
    {
      "cell_type": "code",
      "source": [
        "categorical_features = list(set(data.columns)- set(numerical_features))"
      ],
      "metadata": {
        "id": "zq4yARbx4iNV"
      },
      "execution_count": 47,
      "outputs": []
    },
    {
      "cell_type": "code",
      "source": [
        "categorical_data = data[categorical_features]"
      ],
      "metadata": {
        "id": "kIRQs_iY47zd"
      },
      "execution_count": 48,
      "outputs": []
    },
    {
      "cell_type": "code",
      "source": [
        "data.describe().T"
      ],
      "metadata": {
        "colab": {
          "base_uri": "https://localhost:8080/",
          "height": 1000
        },
        "id": "CHZct6DhLh3F",
        "outputId": "918bf27f-5dab-4f89-8172-3485b17515a8"
      },
      "execution_count": 49,
      "outputs": [
        {
          "output_type": "execute_result",
          "data": {
            "text/plain": [
              "                              count           mean            std     min  \\\n",
              "user_id                      3309.0  224021.426111  114539.204219  6308.0   \n",
              "item_id                      3309.0     660.195527      28.645514   644.0   \n",
              "cat_id                       3309.0     634.822907     311.445412    35.0   \n",
              "merchant_id                  3309.0    3279.944394    1019.598601   252.0   \n",
              "brand_id                     3309.0    3586.232699    1059.355053   799.0   \n",
              "action_type                  3309.0       0.045331       0.323972     0.0   \n",
              "label                        3309.0       0.011484       0.106562     0.0   \n",
              "Day                          3309.0      11.218495       4.721091     1.0   \n",
              "Month                        3309.0      10.867029       0.577567     5.0   \n",
              "activity_count               3309.0      14.993351       6.637073     1.0   \n",
              "click_count                  3309.0      13.688728       6.518910     0.0   \n",
              "add_to_cart_count            3309.0       0.000000       0.000000     0.0   \n",
              "purchase_count               3309.0       0.911151       0.318646     0.0   \n",
              "favourite_count              3309.0       0.393472       0.488594     0.0   \n",
              "user_gender_female           3309.0       0.982170       0.132354     0.0   \n",
              "user_gender_male             3309.0       0.006951       0.083093     0.0   \n",
              "user_gender_unknown          3309.0       0.010879       0.103751     0.0   \n",
              "user_Click                   3309.0       0.980054       0.139834     0.0   \n",
              "user_Add_to_cart             3309.0       0.000000       0.000000     0.0   \n",
              "user_purchase                3309.0       0.014506       0.119582     0.0   \n",
              "user_Add_to_favorite         3309.0       0.005440       0.073565     0.0   \n",
              "age_0_18                     3309.0       0.159263       0.365976     0.0   \n",
              "age_18_24                    3309.0       0.165005       0.371241     0.0   \n",
              "age_25_29                    3309.0       0.408885       0.491702     0.0   \n",
              "age_30_34                    3309.0       0.184648       0.388070     0.0   \n",
              "age_35_39                    3309.0       0.038985       0.193587     0.0   \n",
              "age_40_49                    3309.0       0.043215       0.203373     0.0   \n",
              "merchant_item_count          3309.0       1.000000       0.000000     1.0   \n",
              "merchant_brand_count         3309.0       1.011786       0.107938     1.0   \n",
              "merchant_cat_count           3309.0    1888.225748     975.972765     1.0   \n",
              "user_merchant_count           165.0       1.000000       0.000000     1.0   \n",
              "user_cat_count                161.0       1.000000       0.000000     1.0   \n",
              "user_brand_count              165.0       1.109091       0.312702     1.0   \n",
              "user_merchant_brand_count    3309.0     231.189785     175.087904     1.0   \n",
              "user_merchant_cat_count      3309.0     231.189785     175.087904     1.0   \n",
              "user_merchant_day_cat_count  3309.0     175.610456     194.860745     1.0   \n",
              "\n",
              "                                  25%       50%       75%       max  \n",
              "user_id                      135595.0  196029.0  327778.0  414003.0  \n",
              "item_id                         650.0     650.0     653.0     798.0  \n",
              "cat_id                          656.0     656.0     656.0    1577.0  \n",
              "merchant_id                    3473.0    3473.0    3473.0    4850.0  \n",
              "brand_id                       3305.0    3305.0    3305.0    7863.0  \n",
              "action_type                       0.0       0.0       0.0       3.0  \n",
              "label                             0.0       0.0       0.0       1.0  \n",
              "Day                              10.0      11.0      11.0      31.0  \n",
              "Month                            11.0      11.0      11.0      11.0  \n",
              "activity_count                    9.0      16.0      21.0      24.0  \n",
              "click_count                       8.0      15.0      20.0      23.0  \n",
              "add_to_cart_count                 0.0       0.0       0.0       0.0  \n",
              "purchase_count                    1.0       1.0       1.0       2.0  \n",
              "favourite_count                   0.0       0.0       1.0       1.0  \n",
              "user_gender_female                1.0       1.0       1.0       1.0  \n",
              "user_gender_male                  0.0       0.0       0.0       1.0  \n",
              "user_gender_unknown               0.0       0.0       0.0       1.0  \n",
              "user_Click                        1.0       1.0       1.0       1.0  \n",
              "user_Add_to_cart                  0.0       0.0       0.0       0.0  \n",
              "user_purchase                     0.0       0.0       0.0       1.0  \n",
              "user_Add_to_favorite              0.0       0.0       0.0       1.0  \n",
              "age_0_18                          0.0       0.0       0.0       1.0  \n",
              "age_18_24                         0.0       0.0       0.0       1.0  \n",
              "age_25_29                         0.0       0.0       1.0       1.0  \n",
              "age_30_34                         0.0       0.0       0.0       1.0  \n",
              "age_35_39                         0.0       0.0       0.0       1.0  \n",
              "age_40_49                         0.0       0.0       0.0       1.0  \n",
              "merchant_item_count               1.0       1.0       1.0       1.0  \n",
              "merchant_brand_count              1.0       1.0       1.0       2.0  \n",
              "merchant_cat_count              366.0    2460.0    2460.0    2460.0  \n",
              "user_merchant_count               1.0       1.0       1.0       1.0  \n",
              "user_cat_count                    1.0       1.0       1.0       1.0  \n",
              "user_brand_count                  1.0       1.0       1.0       2.0  \n",
              "user_merchant_brand_count        65.0     226.0     401.0     530.0  \n",
              "user_merchant_cat_count          65.0     226.0     401.0     530.0  \n",
              "user_merchant_day_cat_count      19.0      60.0     381.0     530.0  "
            ],
            "text/html": [
              "\n",
              "  <div id=\"df-a9abad08-d5bd-4551-81c1-a31a4c2cbd99\">\n",
              "    <div class=\"colab-df-container\">\n",
              "      <div>\n",
              "<style scoped>\n",
              "    .dataframe tbody tr th:only-of-type {\n",
              "        vertical-align: middle;\n",
              "    }\n",
              "\n",
              "    .dataframe tbody tr th {\n",
              "        vertical-align: top;\n",
              "    }\n",
              "\n",
              "    .dataframe thead th {\n",
              "        text-align: right;\n",
              "    }\n",
              "</style>\n",
              "<table border=\"1\" class=\"dataframe\">\n",
              "  <thead>\n",
              "    <tr style=\"text-align: right;\">\n",
              "      <th></th>\n",
              "      <th>count</th>\n",
              "      <th>mean</th>\n",
              "      <th>std</th>\n",
              "      <th>min</th>\n",
              "      <th>25%</th>\n",
              "      <th>50%</th>\n",
              "      <th>75%</th>\n",
              "      <th>max</th>\n",
              "    </tr>\n",
              "  </thead>\n",
              "  <tbody>\n",
              "    <tr>\n",
              "      <th>user_id</th>\n",
              "      <td>3309.0</td>\n",
              "      <td>224021.426111</td>\n",
              "      <td>114539.204219</td>\n",
              "      <td>6308.0</td>\n",
              "      <td>135595.0</td>\n",
              "      <td>196029.0</td>\n",
              "      <td>327778.0</td>\n",
              "      <td>414003.0</td>\n",
              "    </tr>\n",
              "    <tr>\n",
              "      <th>item_id</th>\n",
              "      <td>3309.0</td>\n",
              "      <td>660.195527</td>\n",
              "      <td>28.645514</td>\n",
              "      <td>644.0</td>\n",
              "      <td>650.0</td>\n",
              "      <td>650.0</td>\n",
              "      <td>653.0</td>\n",
              "      <td>798.0</td>\n",
              "    </tr>\n",
              "    <tr>\n",
              "      <th>cat_id</th>\n",
              "      <td>3309.0</td>\n",
              "      <td>634.822907</td>\n",
              "      <td>311.445412</td>\n",
              "      <td>35.0</td>\n",
              "      <td>656.0</td>\n",
              "      <td>656.0</td>\n",
              "      <td>656.0</td>\n",
              "      <td>1577.0</td>\n",
              "    </tr>\n",
              "    <tr>\n",
              "      <th>merchant_id</th>\n",
              "      <td>3309.0</td>\n",
              "      <td>3279.944394</td>\n",
              "      <td>1019.598601</td>\n",
              "      <td>252.0</td>\n",
              "      <td>3473.0</td>\n",
              "      <td>3473.0</td>\n",
              "      <td>3473.0</td>\n",
              "      <td>4850.0</td>\n",
              "    </tr>\n",
              "    <tr>\n",
              "      <th>brand_id</th>\n",
              "      <td>3309.0</td>\n",
              "      <td>3586.232699</td>\n",
              "      <td>1059.355053</td>\n",
              "      <td>799.0</td>\n",
              "      <td>3305.0</td>\n",
              "      <td>3305.0</td>\n",
              "      <td>3305.0</td>\n",
              "      <td>7863.0</td>\n",
              "    </tr>\n",
              "    <tr>\n",
              "      <th>action_type</th>\n",
              "      <td>3309.0</td>\n",
              "      <td>0.045331</td>\n",
              "      <td>0.323972</td>\n",
              "      <td>0.0</td>\n",
              "      <td>0.0</td>\n",
              "      <td>0.0</td>\n",
              "      <td>0.0</td>\n",
              "      <td>3.0</td>\n",
              "    </tr>\n",
              "    <tr>\n",
              "      <th>label</th>\n",
              "      <td>3309.0</td>\n",
              "      <td>0.011484</td>\n",
              "      <td>0.106562</td>\n",
              "      <td>0.0</td>\n",
              "      <td>0.0</td>\n",
              "      <td>0.0</td>\n",
              "      <td>0.0</td>\n",
              "      <td>1.0</td>\n",
              "    </tr>\n",
              "    <tr>\n",
              "      <th>Day</th>\n",
              "      <td>3309.0</td>\n",
              "      <td>11.218495</td>\n",
              "      <td>4.721091</td>\n",
              "      <td>1.0</td>\n",
              "      <td>10.0</td>\n",
              "      <td>11.0</td>\n",
              "      <td>11.0</td>\n",
              "      <td>31.0</td>\n",
              "    </tr>\n",
              "    <tr>\n",
              "      <th>Month</th>\n",
              "      <td>3309.0</td>\n",
              "      <td>10.867029</td>\n",
              "      <td>0.577567</td>\n",
              "      <td>5.0</td>\n",
              "      <td>11.0</td>\n",
              "      <td>11.0</td>\n",
              "      <td>11.0</td>\n",
              "      <td>11.0</td>\n",
              "    </tr>\n",
              "    <tr>\n",
              "      <th>activity_count</th>\n",
              "      <td>3309.0</td>\n",
              "      <td>14.993351</td>\n",
              "      <td>6.637073</td>\n",
              "      <td>1.0</td>\n",
              "      <td>9.0</td>\n",
              "      <td>16.0</td>\n",
              "      <td>21.0</td>\n",
              "      <td>24.0</td>\n",
              "    </tr>\n",
              "    <tr>\n",
              "      <th>click_count</th>\n",
              "      <td>3309.0</td>\n",
              "      <td>13.688728</td>\n",
              "      <td>6.518910</td>\n",
              "      <td>0.0</td>\n",
              "      <td>8.0</td>\n",
              "      <td>15.0</td>\n",
              "      <td>20.0</td>\n",
              "      <td>23.0</td>\n",
              "    </tr>\n",
              "    <tr>\n",
              "      <th>add_to_cart_count</th>\n",
              "      <td>3309.0</td>\n",
              "      <td>0.000000</td>\n",
              "      <td>0.000000</td>\n",
              "      <td>0.0</td>\n",
              "      <td>0.0</td>\n",
              "      <td>0.0</td>\n",
              "      <td>0.0</td>\n",
              "      <td>0.0</td>\n",
              "    </tr>\n",
              "    <tr>\n",
              "      <th>purchase_count</th>\n",
              "      <td>3309.0</td>\n",
              "      <td>0.911151</td>\n",
              "      <td>0.318646</td>\n",
              "      <td>0.0</td>\n",
              "      <td>1.0</td>\n",
              "      <td>1.0</td>\n",
              "      <td>1.0</td>\n",
              "      <td>2.0</td>\n",
              "    </tr>\n",
              "    <tr>\n",
              "      <th>favourite_count</th>\n",
              "      <td>3309.0</td>\n",
              "      <td>0.393472</td>\n",
              "      <td>0.488594</td>\n",
              "      <td>0.0</td>\n",
              "      <td>0.0</td>\n",
              "      <td>0.0</td>\n",
              "      <td>1.0</td>\n",
              "      <td>1.0</td>\n",
              "    </tr>\n",
              "    <tr>\n",
              "      <th>user_gender_female</th>\n",
              "      <td>3309.0</td>\n",
              "      <td>0.982170</td>\n",
              "      <td>0.132354</td>\n",
              "      <td>0.0</td>\n",
              "      <td>1.0</td>\n",
              "      <td>1.0</td>\n",
              "      <td>1.0</td>\n",
              "      <td>1.0</td>\n",
              "    </tr>\n",
              "    <tr>\n",
              "      <th>user_gender_male</th>\n",
              "      <td>3309.0</td>\n",
              "      <td>0.006951</td>\n",
              "      <td>0.083093</td>\n",
              "      <td>0.0</td>\n",
              "      <td>0.0</td>\n",
              "      <td>0.0</td>\n",
              "      <td>0.0</td>\n",
              "      <td>1.0</td>\n",
              "    </tr>\n",
              "    <tr>\n",
              "      <th>user_gender_unknown</th>\n",
              "      <td>3309.0</td>\n",
              "      <td>0.010879</td>\n",
              "      <td>0.103751</td>\n",
              "      <td>0.0</td>\n",
              "      <td>0.0</td>\n",
              "      <td>0.0</td>\n",
              "      <td>0.0</td>\n",
              "      <td>1.0</td>\n",
              "    </tr>\n",
              "    <tr>\n",
              "      <th>user_Click</th>\n",
              "      <td>3309.0</td>\n",
              "      <td>0.980054</td>\n",
              "      <td>0.139834</td>\n",
              "      <td>0.0</td>\n",
              "      <td>1.0</td>\n",
              "      <td>1.0</td>\n",
              "      <td>1.0</td>\n",
              "      <td>1.0</td>\n",
              "    </tr>\n",
              "    <tr>\n",
              "      <th>user_Add_to_cart</th>\n",
              "      <td>3309.0</td>\n",
              "      <td>0.000000</td>\n",
              "      <td>0.000000</td>\n",
              "      <td>0.0</td>\n",
              "      <td>0.0</td>\n",
              "      <td>0.0</td>\n",
              "      <td>0.0</td>\n",
              "      <td>0.0</td>\n",
              "    </tr>\n",
              "    <tr>\n",
              "      <th>user_purchase</th>\n",
              "      <td>3309.0</td>\n",
              "      <td>0.014506</td>\n",
              "      <td>0.119582</td>\n",
              "      <td>0.0</td>\n",
              "      <td>0.0</td>\n",
              "      <td>0.0</td>\n",
              "      <td>0.0</td>\n",
              "      <td>1.0</td>\n",
              "    </tr>\n",
              "    <tr>\n",
              "      <th>user_Add_to_favorite</th>\n",
              "      <td>3309.0</td>\n",
              "      <td>0.005440</td>\n",
              "      <td>0.073565</td>\n",
              "      <td>0.0</td>\n",
              "      <td>0.0</td>\n",
              "      <td>0.0</td>\n",
              "      <td>0.0</td>\n",
              "      <td>1.0</td>\n",
              "    </tr>\n",
              "    <tr>\n",
              "      <th>age_0_18</th>\n",
              "      <td>3309.0</td>\n",
              "      <td>0.159263</td>\n",
              "      <td>0.365976</td>\n",
              "      <td>0.0</td>\n",
              "      <td>0.0</td>\n",
              "      <td>0.0</td>\n",
              "      <td>0.0</td>\n",
              "      <td>1.0</td>\n",
              "    </tr>\n",
              "    <tr>\n",
              "      <th>age_18_24</th>\n",
              "      <td>3309.0</td>\n",
              "      <td>0.165005</td>\n",
              "      <td>0.371241</td>\n",
              "      <td>0.0</td>\n",
              "      <td>0.0</td>\n",
              "      <td>0.0</td>\n",
              "      <td>0.0</td>\n",
              "      <td>1.0</td>\n",
              "    </tr>\n",
              "    <tr>\n",
              "      <th>age_25_29</th>\n",
              "      <td>3309.0</td>\n",
              "      <td>0.408885</td>\n",
              "      <td>0.491702</td>\n",
              "      <td>0.0</td>\n",
              "      <td>0.0</td>\n",
              "      <td>0.0</td>\n",
              "      <td>1.0</td>\n",
              "      <td>1.0</td>\n",
              "    </tr>\n",
              "    <tr>\n",
              "      <th>age_30_34</th>\n",
              "      <td>3309.0</td>\n",
              "      <td>0.184648</td>\n",
              "      <td>0.388070</td>\n",
              "      <td>0.0</td>\n",
              "      <td>0.0</td>\n",
              "      <td>0.0</td>\n",
              "      <td>0.0</td>\n",
              "      <td>1.0</td>\n",
              "    </tr>\n",
              "    <tr>\n",
              "      <th>age_35_39</th>\n",
              "      <td>3309.0</td>\n",
              "      <td>0.038985</td>\n",
              "      <td>0.193587</td>\n",
              "      <td>0.0</td>\n",
              "      <td>0.0</td>\n",
              "      <td>0.0</td>\n",
              "      <td>0.0</td>\n",
              "      <td>1.0</td>\n",
              "    </tr>\n",
              "    <tr>\n",
              "      <th>age_40_49</th>\n",
              "      <td>3309.0</td>\n",
              "      <td>0.043215</td>\n",
              "      <td>0.203373</td>\n",
              "      <td>0.0</td>\n",
              "      <td>0.0</td>\n",
              "      <td>0.0</td>\n",
              "      <td>0.0</td>\n",
              "      <td>1.0</td>\n",
              "    </tr>\n",
              "    <tr>\n",
              "      <th>merchant_item_count</th>\n",
              "      <td>3309.0</td>\n",
              "      <td>1.000000</td>\n",
              "      <td>0.000000</td>\n",
              "      <td>1.0</td>\n",
              "      <td>1.0</td>\n",
              "      <td>1.0</td>\n",
              "      <td>1.0</td>\n",
              "      <td>1.0</td>\n",
              "    </tr>\n",
              "    <tr>\n",
              "      <th>merchant_brand_count</th>\n",
              "      <td>3309.0</td>\n",
              "      <td>1.011786</td>\n",
              "      <td>0.107938</td>\n",
              "      <td>1.0</td>\n",
              "      <td>1.0</td>\n",
              "      <td>1.0</td>\n",
              "      <td>1.0</td>\n",
              "      <td>2.0</td>\n",
              "    </tr>\n",
              "    <tr>\n",
              "      <th>merchant_cat_count</th>\n",
              "      <td>3309.0</td>\n",
              "      <td>1888.225748</td>\n",
              "      <td>975.972765</td>\n",
              "      <td>1.0</td>\n",
              "      <td>366.0</td>\n",
              "      <td>2460.0</td>\n",
              "      <td>2460.0</td>\n",
              "      <td>2460.0</td>\n",
              "    </tr>\n",
              "    <tr>\n",
              "      <th>user_merchant_count</th>\n",
              "      <td>165.0</td>\n",
              "      <td>1.000000</td>\n",
              "      <td>0.000000</td>\n",
              "      <td>1.0</td>\n",
              "      <td>1.0</td>\n",
              "      <td>1.0</td>\n",
              "      <td>1.0</td>\n",
              "      <td>1.0</td>\n",
              "    </tr>\n",
              "    <tr>\n",
              "      <th>user_cat_count</th>\n",
              "      <td>161.0</td>\n",
              "      <td>1.000000</td>\n",
              "      <td>0.000000</td>\n",
              "      <td>1.0</td>\n",
              "      <td>1.0</td>\n",
              "      <td>1.0</td>\n",
              "      <td>1.0</td>\n",
              "      <td>1.0</td>\n",
              "    </tr>\n",
              "    <tr>\n",
              "      <th>user_brand_count</th>\n",
              "      <td>165.0</td>\n",
              "      <td>1.109091</td>\n",
              "      <td>0.312702</td>\n",
              "      <td>1.0</td>\n",
              "      <td>1.0</td>\n",
              "      <td>1.0</td>\n",
              "      <td>1.0</td>\n",
              "      <td>2.0</td>\n",
              "    </tr>\n",
              "    <tr>\n",
              "      <th>user_merchant_brand_count</th>\n",
              "      <td>3309.0</td>\n",
              "      <td>231.189785</td>\n",
              "      <td>175.087904</td>\n",
              "      <td>1.0</td>\n",
              "      <td>65.0</td>\n",
              "      <td>226.0</td>\n",
              "      <td>401.0</td>\n",
              "      <td>530.0</td>\n",
              "    </tr>\n",
              "    <tr>\n",
              "      <th>user_merchant_cat_count</th>\n",
              "      <td>3309.0</td>\n",
              "      <td>231.189785</td>\n",
              "      <td>175.087904</td>\n",
              "      <td>1.0</td>\n",
              "      <td>65.0</td>\n",
              "      <td>226.0</td>\n",
              "      <td>401.0</td>\n",
              "      <td>530.0</td>\n",
              "    </tr>\n",
              "    <tr>\n",
              "      <th>user_merchant_day_cat_count</th>\n",
              "      <td>3309.0</td>\n",
              "      <td>175.610456</td>\n",
              "      <td>194.860745</td>\n",
              "      <td>1.0</td>\n",
              "      <td>19.0</td>\n",
              "      <td>60.0</td>\n",
              "      <td>381.0</td>\n",
              "      <td>530.0</td>\n",
              "    </tr>\n",
              "  </tbody>\n",
              "</table>\n",
              "</div>\n",
              "      <button class=\"colab-df-convert\" onclick=\"convertToInteractive('df-a9abad08-d5bd-4551-81c1-a31a4c2cbd99')\"\n",
              "              title=\"Convert this dataframe to an interactive table.\"\n",
              "              style=\"display:none;\">\n",
              "        \n",
              "  <svg xmlns=\"http://www.w3.org/2000/svg\" height=\"24px\"viewBox=\"0 0 24 24\"\n",
              "       width=\"24px\">\n",
              "    <path d=\"M0 0h24v24H0V0z\" fill=\"none\"/>\n",
              "    <path d=\"M18.56 5.44l.94 2.06.94-2.06 2.06-.94-2.06-.94-.94-2.06-.94 2.06-2.06.94zm-11 1L8.5 8.5l.94-2.06 2.06-.94-2.06-.94L8.5 2.5l-.94 2.06-2.06.94zm10 10l.94 2.06.94-2.06 2.06-.94-2.06-.94-.94-2.06-.94 2.06-2.06.94z\"/><path d=\"M17.41 7.96l-1.37-1.37c-.4-.4-.92-.59-1.43-.59-.52 0-1.04.2-1.43.59L10.3 9.45l-7.72 7.72c-.78.78-.78 2.05 0 2.83L4 21.41c.39.39.9.59 1.41.59.51 0 1.02-.2 1.41-.59l7.78-7.78 2.81-2.81c.8-.78.8-2.07 0-2.86zM5.41 20L4 18.59l7.72-7.72 1.47 1.35L5.41 20z\"/>\n",
              "  </svg>\n",
              "      </button>\n",
              "      \n",
              "  <style>\n",
              "    .colab-df-container {\n",
              "      display:flex;\n",
              "      flex-wrap:wrap;\n",
              "      gap: 12px;\n",
              "    }\n",
              "\n",
              "    .colab-df-convert {\n",
              "      background-color: #E8F0FE;\n",
              "      border: none;\n",
              "      border-radius: 50%;\n",
              "      cursor: pointer;\n",
              "      display: none;\n",
              "      fill: #1967D2;\n",
              "      height: 32px;\n",
              "      padding: 0 0 0 0;\n",
              "      width: 32px;\n",
              "    }\n",
              "\n",
              "    .colab-df-convert:hover {\n",
              "      background-color: #E2EBFA;\n",
              "      box-shadow: 0px 1px 2px rgba(60, 64, 67, 0.3), 0px 1px 3px 1px rgba(60, 64, 67, 0.15);\n",
              "      fill: #174EA6;\n",
              "    }\n",
              "\n",
              "    [theme=dark] .colab-df-convert {\n",
              "      background-color: #3B4455;\n",
              "      fill: #D2E3FC;\n",
              "    }\n",
              "\n",
              "    [theme=dark] .colab-df-convert:hover {\n",
              "      background-color: #434B5C;\n",
              "      box-shadow: 0px 1px 3px 1px rgba(0, 0, 0, 0.15);\n",
              "      filter: drop-shadow(0px 1px 2px rgba(0, 0, 0, 0.3));\n",
              "      fill: #FFFFFF;\n",
              "    }\n",
              "  </style>\n",
              "\n",
              "      <script>\n",
              "        const buttonEl =\n",
              "          document.querySelector('#df-a9abad08-d5bd-4551-81c1-a31a4c2cbd99 button.colab-df-convert');\n",
              "        buttonEl.style.display =\n",
              "          google.colab.kernel.accessAllowed ? 'block' : 'none';\n",
              "\n",
              "        async function convertToInteractive(key) {\n",
              "          const element = document.querySelector('#df-a9abad08-d5bd-4551-81c1-a31a4c2cbd99');\n",
              "          const dataTable =\n",
              "            await google.colab.kernel.invokeFunction('convertToInteractive',\n",
              "                                                     [key], {});\n",
              "          if (!dataTable) return;\n",
              "\n",
              "          const docLinkHtml = 'Like what you see? Visit the ' +\n",
              "            '<a target=\"_blank\" href=https://colab.research.google.com/notebooks/data_table.ipynb>data table notebook</a>'\n",
              "            + ' to learn more about interactive tables.';\n",
              "          element.innerHTML = '';\n",
              "          dataTable['output_type'] = 'display_data';\n",
              "          await google.colab.output.renderOutput(dataTable, element);\n",
              "          const docLink = document.createElement('div');\n",
              "          docLink.innerHTML = docLinkHtml;\n",
              "          element.appendChild(docLink);\n",
              "        }\n",
              "      </script>\n",
              "    </div>\n",
              "  </div>\n",
              "  "
            ]
          },
          "metadata": {},
          "execution_count": 49
        }
      ]
    },
    {
      "cell_type": "code",
      "source": [
        "data.to_csv (r'/content/drive/MyDrive/CECS550/data_format1/train_complete_features.csv', index = False, header=True)"
      ],
      "metadata": {
        "id": "KFZVAhet3Mzo"
      },
      "execution_count": 50,
      "outputs": []
    }
  ]
}